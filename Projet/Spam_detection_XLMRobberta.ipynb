{
  "metadata": {
    "kernelspec": {
      "display_name": "Python 3",
      "name": "python3"
    },
    "language_info": {
      "name": "python",
      "version": "3.10.10",
      "mimetype": "text/x-python",
      "codemirror_mode": {
        "name": "ipython",
        "version": 3
      },
      "pygments_lexer": "ipython3",
      "nbconvert_exporter": "python",
      "file_extension": ".py"
    },
    "kaggle": {
      "accelerator": "gpu",
      "dataSources": [
        {
          "sourceId": 260807,
          "sourceType": "datasetVersion",
          "datasetId": 109196
        }
      ],
      "dockerImageVersionId": 30513,
      "isInternetEnabled": false,
      "language": "python",
      "sourceType": "notebook",
      "isGpuEnabled": true
    },
    "colab": {
      "provenance": [],
      "gpuType": "T4",
      "toc_visible": true
    },
    "accelerator": "GPU",
    "widgets": {
      "application/vnd.jupyter.widget-state+json": {
        "9d91dd3b711c442586c6b79175174833": {
          "model_module": "@jupyter-widgets/controls",
          "model_name": "HBoxModel",
          "model_module_version": "1.5.0",
          "state": {
            "_dom_classes": [],
            "_model_module": "@jupyter-widgets/controls",
            "_model_module_version": "1.5.0",
            "_model_name": "HBoxModel",
            "_view_count": null,
            "_view_module": "@jupyter-widgets/controls",
            "_view_module_version": "1.5.0",
            "_view_name": "HBoxView",
            "box_style": "",
            "children": [
              "IPY_MODEL_0a6b8a94ff61421cacc9a9fc3abaf4d5",
              "IPY_MODEL_18170d95e67c48baaaa7a36903019569",
              "IPY_MODEL_babd3c9c0249430688081b23c2897f8c"
            ],
            "layout": "IPY_MODEL_f5e2a1674e1d4f20a5d00bc08263bd59"
          }
        },
        "0a6b8a94ff61421cacc9a9fc3abaf4d5": {
          "model_module": "@jupyter-widgets/controls",
          "model_name": "HTMLModel",
          "model_module_version": "1.5.0",
          "state": {
            "_dom_classes": [],
            "_model_module": "@jupyter-widgets/controls",
            "_model_module_version": "1.5.0",
            "_model_name": "HTMLModel",
            "_view_count": null,
            "_view_module": "@jupyter-widgets/controls",
            "_view_module_version": "1.5.0",
            "_view_name": "HTMLView",
            "description": "",
            "description_tooltip": null,
            "layout": "IPY_MODEL_377e732e57f645ab80a5f011c34a0a0d",
            "placeholder": "​",
            "style": "IPY_MODEL_781f8bfd7e3e49d9b6416e66ad37b882",
            "value": "config.json: 100%"
          }
        },
        "18170d95e67c48baaaa7a36903019569": {
          "model_module": "@jupyter-widgets/controls",
          "model_name": "FloatProgressModel",
          "model_module_version": "1.5.0",
          "state": {
            "_dom_classes": [],
            "_model_module": "@jupyter-widgets/controls",
            "_model_module_version": "1.5.0",
            "_model_name": "FloatProgressModel",
            "_view_count": null,
            "_view_module": "@jupyter-widgets/controls",
            "_view_module_version": "1.5.0",
            "_view_name": "ProgressView",
            "bar_style": "success",
            "description": "",
            "description_tooltip": null,
            "layout": "IPY_MODEL_cfabe3b3afc04b2cb7f5e77e1ec49b2b",
            "max": 814,
            "min": 0,
            "orientation": "horizontal",
            "style": "IPY_MODEL_25fd22cba4f14657a0330633cea382d6",
            "value": 814
          }
        },
        "babd3c9c0249430688081b23c2897f8c": {
          "model_module": "@jupyter-widgets/controls",
          "model_name": "HTMLModel",
          "model_module_version": "1.5.0",
          "state": {
            "_dom_classes": [],
            "_model_module": "@jupyter-widgets/controls",
            "_model_module_version": "1.5.0",
            "_model_name": "HTMLModel",
            "_view_count": null,
            "_view_module": "@jupyter-widgets/controls",
            "_view_module_version": "1.5.0",
            "_view_name": "HTMLView",
            "description": "",
            "description_tooltip": null,
            "layout": "IPY_MODEL_12a5dcb4c4fa4219b21e712ea08971cc",
            "placeholder": "​",
            "style": "IPY_MODEL_913b9272ea9e4d52b29002e46f2e880b",
            "value": " 814/814 [00:00&lt;00:00, 35.0kB/s]"
          }
        },
        "f5e2a1674e1d4f20a5d00bc08263bd59": {
          "model_module": "@jupyter-widgets/base",
          "model_name": "LayoutModel",
          "model_module_version": "1.2.0",
          "state": {
            "_model_module": "@jupyter-widgets/base",
            "_model_module_version": "1.2.0",
            "_model_name": "LayoutModel",
            "_view_count": null,
            "_view_module": "@jupyter-widgets/base",
            "_view_module_version": "1.2.0",
            "_view_name": "LayoutView",
            "align_content": null,
            "align_items": null,
            "align_self": null,
            "border": null,
            "bottom": null,
            "display": null,
            "flex": null,
            "flex_flow": null,
            "grid_area": null,
            "grid_auto_columns": null,
            "grid_auto_flow": null,
            "grid_auto_rows": null,
            "grid_column": null,
            "grid_gap": null,
            "grid_row": null,
            "grid_template_areas": null,
            "grid_template_columns": null,
            "grid_template_rows": null,
            "height": null,
            "justify_content": null,
            "justify_items": null,
            "left": null,
            "margin": null,
            "max_height": null,
            "max_width": null,
            "min_height": null,
            "min_width": null,
            "object_fit": null,
            "object_position": null,
            "order": null,
            "overflow": null,
            "overflow_x": null,
            "overflow_y": null,
            "padding": null,
            "right": null,
            "top": null,
            "visibility": null,
            "width": null
          }
        },
        "377e732e57f645ab80a5f011c34a0a0d": {
          "model_module": "@jupyter-widgets/base",
          "model_name": "LayoutModel",
          "model_module_version": "1.2.0",
          "state": {
            "_model_module": "@jupyter-widgets/base",
            "_model_module_version": "1.2.0",
            "_model_name": "LayoutModel",
            "_view_count": null,
            "_view_module": "@jupyter-widgets/base",
            "_view_module_version": "1.2.0",
            "_view_name": "LayoutView",
            "align_content": null,
            "align_items": null,
            "align_self": null,
            "border": null,
            "bottom": null,
            "display": null,
            "flex": null,
            "flex_flow": null,
            "grid_area": null,
            "grid_auto_columns": null,
            "grid_auto_flow": null,
            "grid_auto_rows": null,
            "grid_column": null,
            "grid_gap": null,
            "grid_row": null,
            "grid_template_areas": null,
            "grid_template_columns": null,
            "grid_template_rows": null,
            "height": null,
            "justify_content": null,
            "justify_items": null,
            "left": null,
            "margin": null,
            "max_height": null,
            "max_width": null,
            "min_height": null,
            "min_width": null,
            "object_fit": null,
            "object_position": null,
            "order": null,
            "overflow": null,
            "overflow_x": null,
            "overflow_y": null,
            "padding": null,
            "right": null,
            "top": null,
            "visibility": null,
            "width": null
          }
        },
        "781f8bfd7e3e49d9b6416e66ad37b882": {
          "model_module": "@jupyter-widgets/controls",
          "model_name": "DescriptionStyleModel",
          "model_module_version": "1.5.0",
          "state": {
            "_model_module": "@jupyter-widgets/controls",
            "_model_module_version": "1.5.0",
            "_model_name": "DescriptionStyleModel",
            "_view_count": null,
            "_view_module": "@jupyter-widgets/base",
            "_view_module_version": "1.2.0",
            "_view_name": "StyleView",
            "description_width": ""
          }
        },
        "cfabe3b3afc04b2cb7f5e77e1ec49b2b": {
          "model_module": "@jupyter-widgets/base",
          "model_name": "LayoutModel",
          "model_module_version": "1.2.0",
          "state": {
            "_model_module": "@jupyter-widgets/base",
            "_model_module_version": "1.2.0",
            "_model_name": "LayoutModel",
            "_view_count": null,
            "_view_module": "@jupyter-widgets/base",
            "_view_module_version": "1.2.0",
            "_view_name": "LayoutView",
            "align_content": null,
            "align_items": null,
            "align_self": null,
            "border": null,
            "bottom": null,
            "display": null,
            "flex": null,
            "flex_flow": null,
            "grid_area": null,
            "grid_auto_columns": null,
            "grid_auto_flow": null,
            "grid_auto_rows": null,
            "grid_column": null,
            "grid_gap": null,
            "grid_row": null,
            "grid_template_areas": null,
            "grid_template_columns": null,
            "grid_template_rows": null,
            "height": null,
            "justify_content": null,
            "justify_items": null,
            "left": null,
            "margin": null,
            "max_height": null,
            "max_width": null,
            "min_height": null,
            "min_width": null,
            "object_fit": null,
            "object_position": null,
            "order": null,
            "overflow": null,
            "overflow_x": null,
            "overflow_y": null,
            "padding": null,
            "right": null,
            "top": null,
            "visibility": null,
            "width": null
          }
        },
        "25fd22cba4f14657a0330633cea382d6": {
          "model_module": "@jupyter-widgets/controls",
          "model_name": "ProgressStyleModel",
          "model_module_version": "1.5.0",
          "state": {
            "_model_module": "@jupyter-widgets/controls",
            "_model_module_version": "1.5.0",
            "_model_name": "ProgressStyleModel",
            "_view_count": null,
            "_view_module": "@jupyter-widgets/base",
            "_view_module_version": "1.2.0",
            "_view_name": "StyleView",
            "bar_color": null,
            "description_width": ""
          }
        },
        "12a5dcb4c4fa4219b21e712ea08971cc": {
          "model_module": "@jupyter-widgets/base",
          "model_name": "LayoutModel",
          "model_module_version": "1.2.0",
          "state": {
            "_model_module": "@jupyter-widgets/base",
            "_model_module_version": "1.2.0",
            "_model_name": "LayoutModel",
            "_view_count": null,
            "_view_module": "@jupyter-widgets/base",
            "_view_module_version": "1.2.0",
            "_view_name": "LayoutView",
            "align_content": null,
            "align_items": null,
            "align_self": null,
            "border": null,
            "bottom": null,
            "display": null,
            "flex": null,
            "flex_flow": null,
            "grid_area": null,
            "grid_auto_columns": null,
            "grid_auto_flow": null,
            "grid_auto_rows": null,
            "grid_column": null,
            "grid_gap": null,
            "grid_row": null,
            "grid_template_areas": null,
            "grid_template_columns": null,
            "grid_template_rows": null,
            "height": null,
            "justify_content": null,
            "justify_items": null,
            "left": null,
            "margin": null,
            "max_height": null,
            "max_width": null,
            "min_height": null,
            "min_width": null,
            "object_fit": null,
            "object_position": null,
            "order": null,
            "overflow": null,
            "overflow_x": null,
            "overflow_y": null,
            "padding": null,
            "right": null,
            "top": null,
            "visibility": null,
            "width": null
          }
        },
        "913b9272ea9e4d52b29002e46f2e880b": {
          "model_module": "@jupyter-widgets/controls",
          "model_name": "DescriptionStyleModel",
          "model_module_version": "1.5.0",
          "state": {
            "_model_module": "@jupyter-widgets/controls",
            "_model_module_version": "1.5.0",
            "_model_name": "DescriptionStyleModel",
            "_view_count": null,
            "_view_module": "@jupyter-widgets/base",
            "_view_module_version": "1.2.0",
            "_view_name": "StyleView",
            "description_width": ""
          }
        },
        "a76aee414ef04df99ee05e168d7bb3db": {
          "model_module": "@jupyter-widgets/controls",
          "model_name": "HBoxModel",
          "model_module_version": "1.5.0",
          "state": {
            "_dom_classes": [],
            "_model_module": "@jupyter-widgets/controls",
            "_model_module_version": "1.5.0",
            "_model_name": "HBoxModel",
            "_view_count": null,
            "_view_module": "@jupyter-widgets/controls",
            "_view_module_version": "1.5.0",
            "_view_name": "HBoxView",
            "box_style": "",
            "children": [
              "IPY_MODEL_0ee083edbd724a81ad004331fd63358f",
              "IPY_MODEL_c3432a155d3548b699b1765cb01ff9ee",
              "IPY_MODEL_037853873a0e488998c6b464857af4c2"
            ],
            "layout": "IPY_MODEL_f5bfca79220a431fb9dd75d5c14f3129"
          }
        },
        "0ee083edbd724a81ad004331fd63358f": {
          "model_module": "@jupyter-widgets/controls",
          "model_name": "HTMLModel",
          "model_module_version": "1.5.0",
          "state": {
            "_dom_classes": [],
            "_model_module": "@jupyter-widgets/controls",
            "_model_module_version": "1.5.0",
            "_model_name": "HTMLModel",
            "_view_count": null,
            "_view_module": "@jupyter-widgets/controls",
            "_view_module_version": "1.5.0",
            "_view_name": "HTMLView",
            "description": "",
            "description_tooltip": null,
            "layout": "IPY_MODEL_27967f53284f436a903962ed51fd79d2",
            "placeholder": "​",
            "style": "IPY_MODEL_012c3f8b7bfc4e7d8d1cf2bc1c99db5a",
            "value": "config.json: 100%"
          }
        },
        "c3432a155d3548b699b1765cb01ff9ee": {
          "model_module": "@jupyter-widgets/controls",
          "model_name": "FloatProgressModel",
          "model_module_version": "1.5.0",
          "state": {
            "_dom_classes": [],
            "_model_module": "@jupyter-widgets/controls",
            "_model_module_version": "1.5.0",
            "_model_name": "FloatProgressModel",
            "_view_count": null,
            "_view_module": "@jupyter-widgets/controls",
            "_view_module_version": "1.5.0",
            "_view_name": "ProgressView",
            "bar_style": "success",
            "description": "",
            "description_tooltip": null,
            "layout": "IPY_MODEL_f522a9b63f4346b3b41ab25928e8be6c",
            "max": 814,
            "min": 0,
            "orientation": "horizontal",
            "style": "IPY_MODEL_966628c4780842978a0d103ea303978b",
            "value": 814
          }
        },
        "037853873a0e488998c6b464857af4c2": {
          "model_module": "@jupyter-widgets/controls",
          "model_name": "HTMLModel",
          "model_module_version": "1.5.0",
          "state": {
            "_dom_classes": [],
            "_model_module": "@jupyter-widgets/controls",
            "_model_module_version": "1.5.0",
            "_model_name": "HTMLModel",
            "_view_count": null,
            "_view_module": "@jupyter-widgets/controls",
            "_view_module_version": "1.5.0",
            "_view_name": "HTMLView",
            "description": "",
            "description_tooltip": null,
            "layout": "IPY_MODEL_47ece408fa1c4c27aac152abf089ce86",
            "placeholder": "​",
            "style": "IPY_MODEL_7d6a5db0f5984b499581d1010b9803a3",
            "value": " 814/814 [00:00&lt;00:00, 15.7kB/s]"
          }
        },
        "f5bfca79220a431fb9dd75d5c14f3129": {
          "model_module": "@jupyter-widgets/base",
          "model_name": "LayoutModel",
          "model_module_version": "1.2.0",
          "state": {
            "_model_module": "@jupyter-widgets/base",
            "_model_module_version": "1.2.0",
            "_model_name": "LayoutModel",
            "_view_count": null,
            "_view_module": "@jupyter-widgets/base",
            "_view_module_version": "1.2.0",
            "_view_name": "LayoutView",
            "align_content": null,
            "align_items": null,
            "align_self": null,
            "border": null,
            "bottom": null,
            "display": null,
            "flex": null,
            "flex_flow": null,
            "grid_area": null,
            "grid_auto_columns": null,
            "grid_auto_flow": null,
            "grid_auto_rows": null,
            "grid_column": null,
            "grid_gap": null,
            "grid_row": null,
            "grid_template_areas": null,
            "grid_template_columns": null,
            "grid_template_rows": null,
            "height": null,
            "justify_content": null,
            "justify_items": null,
            "left": null,
            "margin": null,
            "max_height": null,
            "max_width": null,
            "min_height": null,
            "min_width": null,
            "object_fit": null,
            "object_position": null,
            "order": null,
            "overflow": null,
            "overflow_x": null,
            "overflow_y": null,
            "padding": null,
            "right": null,
            "top": null,
            "visibility": null,
            "width": null
          }
        },
        "27967f53284f436a903962ed51fd79d2": {
          "model_module": "@jupyter-widgets/base",
          "model_name": "LayoutModel",
          "model_module_version": "1.2.0",
          "state": {
            "_model_module": "@jupyter-widgets/base",
            "_model_module_version": "1.2.0",
            "_model_name": "LayoutModel",
            "_view_count": null,
            "_view_module": "@jupyter-widgets/base",
            "_view_module_version": "1.2.0",
            "_view_name": "LayoutView",
            "align_content": null,
            "align_items": null,
            "align_self": null,
            "border": null,
            "bottom": null,
            "display": null,
            "flex": null,
            "flex_flow": null,
            "grid_area": null,
            "grid_auto_columns": null,
            "grid_auto_flow": null,
            "grid_auto_rows": null,
            "grid_column": null,
            "grid_gap": null,
            "grid_row": null,
            "grid_template_areas": null,
            "grid_template_columns": null,
            "grid_template_rows": null,
            "height": null,
            "justify_content": null,
            "justify_items": null,
            "left": null,
            "margin": null,
            "max_height": null,
            "max_width": null,
            "min_height": null,
            "min_width": null,
            "object_fit": null,
            "object_position": null,
            "order": null,
            "overflow": null,
            "overflow_x": null,
            "overflow_y": null,
            "padding": null,
            "right": null,
            "top": null,
            "visibility": null,
            "width": null
          }
        },
        "012c3f8b7bfc4e7d8d1cf2bc1c99db5a": {
          "model_module": "@jupyter-widgets/controls",
          "model_name": "DescriptionStyleModel",
          "model_module_version": "1.5.0",
          "state": {
            "_model_module": "@jupyter-widgets/controls",
            "_model_module_version": "1.5.0",
            "_model_name": "DescriptionStyleModel",
            "_view_count": null,
            "_view_module": "@jupyter-widgets/base",
            "_view_module_version": "1.2.0",
            "_view_name": "StyleView",
            "description_width": ""
          }
        },
        "f522a9b63f4346b3b41ab25928e8be6c": {
          "model_module": "@jupyter-widgets/base",
          "model_name": "LayoutModel",
          "model_module_version": "1.2.0",
          "state": {
            "_model_module": "@jupyter-widgets/base",
            "_model_module_version": "1.2.0",
            "_model_name": "LayoutModel",
            "_view_count": null,
            "_view_module": "@jupyter-widgets/base",
            "_view_module_version": "1.2.0",
            "_view_name": "LayoutView",
            "align_content": null,
            "align_items": null,
            "align_self": null,
            "border": null,
            "bottom": null,
            "display": null,
            "flex": null,
            "flex_flow": null,
            "grid_area": null,
            "grid_auto_columns": null,
            "grid_auto_flow": null,
            "grid_auto_rows": null,
            "grid_column": null,
            "grid_gap": null,
            "grid_row": null,
            "grid_template_areas": null,
            "grid_template_columns": null,
            "grid_template_rows": null,
            "height": null,
            "justify_content": null,
            "justify_items": null,
            "left": null,
            "margin": null,
            "max_height": null,
            "max_width": null,
            "min_height": null,
            "min_width": null,
            "object_fit": null,
            "object_position": null,
            "order": null,
            "overflow": null,
            "overflow_x": null,
            "overflow_y": null,
            "padding": null,
            "right": null,
            "top": null,
            "visibility": null,
            "width": null
          }
        },
        "966628c4780842978a0d103ea303978b": {
          "model_module": "@jupyter-widgets/controls",
          "model_name": "ProgressStyleModel",
          "model_module_version": "1.5.0",
          "state": {
            "_model_module": "@jupyter-widgets/controls",
            "_model_module_version": "1.5.0",
            "_model_name": "ProgressStyleModel",
            "_view_count": null,
            "_view_module": "@jupyter-widgets/base",
            "_view_module_version": "1.2.0",
            "_view_name": "StyleView",
            "bar_color": null,
            "description_width": ""
          }
        },
        "47ece408fa1c4c27aac152abf089ce86": {
          "model_module": "@jupyter-widgets/base",
          "model_name": "LayoutModel",
          "model_module_version": "1.2.0",
          "state": {
            "_model_module": "@jupyter-widgets/base",
            "_model_module_version": "1.2.0",
            "_model_name": "LayoutModel",
            "_view_count": null,
            "_view_module": "@jupyter-widgets/base",
            "_view_module_version": "1.2.0",
            "_view_name": "LayoutView",
            "align_content": null,
            "align_items": null,
            "align_self": null,
            "border": null,
            "bottom": null,
            "display": null,
            "flex": null,
            "flex_flow": null,
            "grid_area": null,
            "grid_auto_columns": null,
            "grid_auto_flow": null,
            "grid_auto_rows": null,
            "grid_column": null,
            "grid_gap": null,
            "grid_row": null,
            "grid_template_areas": null,
            "grid_template_columns": null,
            "grid_template_rows": null,
            "height": null,
            "justify_content": null,
            "justify_items": null,
            "left": null,
            "margin": null,
            "max_height": null,
            "max_width": null,
            "min_height": null,
            "min_width": null,
            "object_fit": null,
            "object_position": null,
            "order": null,
            "overflow": null,
            "overflow_x": null,
            "overflow_y": null,
            "padding": null,
            "right": null,
            "top": null,
            "visibility": null,
            "width": null
          }
        },
        "7d6a5db0f5984b499581d1010b9803a3": {
          "model_module": "@jupyter-widgets/controls",
          "model_name": "DescriptionStyleModel",
          "model_module_version": "1.5.0",
          "state": {
            "_model_module": "@jupyter-widgets/controls",
            "_model_module_version": "1.5.0",
            "_model_name": "DescriptionStyleModel",
            "_view_count": null,
            "_view_module": "@jupyter-widgets/base",
            "_view_module_version": "1.2.0",
            "_view_name": "StyleView",
            "description_width": ""
          }
        },
        "61b154376d634b6db2be9714b980da1e": {
          "model_module": "@jupyter-widgets/controls",
          "model_name": "HBoxModel",
          "model_module_version": "1.5.0",
          "state": {
            "_dom_classes": [],
            "_model_module": "@jupyter-widgets/controls",
            "_model_module_version": "1.5.0",
            "_model_name": "HBoxModel",
            "_view_count": null,
            "_view_module": "@jupyter-widgets/controls",
            "_view_module_version": "1.5.0",
            "_view_name": "HBoxView",
            "box_style": "",
            "children": [
              "IPY_MODEL_1ad94fd9f6f2475da91e19c04db0fe9b",
              "IPY_MODEL_16d31c67ac4e40b6beb185e0967d4fe0",
              "IPY_MODEL_bad46cf45f854be1a880376db1fdba76"
            ],
            "layout": "IPY_MODEL_d8a030a575b34bac8765a1cafffa83b2"
          }
        },
        "1ad94fd9f6f2475da91e19c04db0fe9b": {
          "model_module": "@jupyter-widgets/controls",
          "model_name": "HTMLModel",
          "model_module_version": "1.5.0",
          "state": {
            "_dom_classes": [],
            "_model_module": "@jupyter-widgets/controls",
            "_model_module_version": "1.5.0",
            "_model_name": "HTMLModel",
            "_view_count": null,
            "_view_module": "@jupyter-widgets/controls",
            "_view_module_version": "1.5.0",
            "_view_name": "HTMLView",
            "description": "",
            "description_tooltip": null,
            "layout": "IPY_MODEL_eed31635f61e4c749f5db13c75f2fc5d",
            "placeholder": "​",
            "style": "IPY_MODEL_99505ea7b7e84877a9bfe860bbf8386d",
            "value": "model.safetensors: 100%"
          }
        },
        "16d31c67ac4e40b6beb185e0967d4fe0": {
          "model_module": "@jupyter-widgets/controls",
          "model_name": "FloatProgressModel",
          "model_module_version": "1.5.0",
          "state": {
            "_dom_classes": [],
            "_model_module": "@jupyter-widgets/controls",
            "_model_module_version": "1.5.0",
            "_model_name": "FloatProgressModel",
            "_view_count": null,
            "_view_module": "@jupyter-widgets/controls",
            "_view_module_version": "1.5.0",
            "_view_name": "ProgressView",
            "bar_style": "success",
            "description": "",
            "description_tooltip": null,
            "layout": "IPY_MODEL_78d46ce4ad8e47d8a199d1077287ebed",
            "max": 1112209216,
            "min": 0,
            "orientation": "horizontal",
            "style": "IPY_MODEL_202c7d81e95648d08c2cd7e5fc117d18",
            "value": 1112209216
          }
        },
        "bad46cf45f854be1a880376db1fdba76": {
          "model_module": "@jupyter-widgets/controls",
          "model_name": "HTMLModel",
          "model_module_version": "1.5.0",
          "state": {
            "_dom_classes": [],
            "_model_module": "@jupyter-widgets/controls",
            "_model_module_version": "1.5.0",
            "_model_name": "HTMLModel",
            "_view_count": null,
            "_view_module": "@jupyter-widgets/controls",
            "_view_module_version": "1.5.0",
            "_view_name": "HTMLView",
            "description": "",
            "description_tooltip": null,
            "layout": "IPY_MODEL_4f3a0a5a9b8b44fbba60bd9eea13981f",
            "placeholder": "​",
            "style": "IPY_MODEL_0d51e4f038c14a2ba8d95be4c3098cf8",
            "value": " 1.11G/1.11G [00:16&lt;00:00, 99.4MB/s]"
          }
        },
        "d8a030a575b34bac8765a1cafffa83b2": {
          "model_module": "@jupyter-widgets/base",
          "model_name": "LayoutModel",
          "model_module_version": "1.2.0",
          "state": {
            "_model_module": "@jupyter-widgets/base",
            "_model_module_version": "1.2.0",
            "_model_name": "LayoutModel",
            "_view_count": null,
            "_view_module": "@jupyter-widgets/base",
            "_view_module_version": "1.2.0",
            "_view_name": "LayoutView",
            "align_content": null,
            "align_items": null,
            "align_self": null,
            "border": null,
            "bottom": null,
            "display": null,
            "flex": null,
            "flex_flow": null,
            "grid_area": null,
            "grid_auto_columns": null,
            "grid_auto_flow": null,
            "grid_auto_rows": null,
            "grid_column": null,
            "grid_gap": null,
            "grid_row": null,
            "grid_template_areas": null,
            "grid_template_columns": null,
            "grid_template_rows": null,
            "height": null,
            "justify_content": null,
            "justify_items": null,
            "left": null,
            "margin": null,
            "max_height": null,
            "max_width": null,
            "min_height": null,
            "min_width": null,
            "object_fit": null,
            "object_position": null,
            "order": null,
            "overflow": null,
            "overflow_x": null,
            "overflow_y": null,
            "padding": null,
            "right": null,
            "top": null,
            "visibility": null,
            "width": null
          }
        },
        "eed31635f61e4c749f5db13c75f2fc5d": {
          "model_module": "@jupyter-widgets/base",
          "model_name": "LayoutModel",
          "model_module_version": "1.2.0",
          "state": {
            "_model_module": "@jupyter-widgets/base",
            "_model_module_version": "1.2.0",
            "_model_name": "LayoutModel",
            "_view_count": null,
            "_view_module": "@jupyter-widgets/base",
            "_view_module_version": "1.2.0",
            "_view_name": "LayoutView",
            "align_content": null,
            "align_items": null,
            "align_self": null,
            "border": null,
            "bottom": null,
            "display": null,
            "flex": null,
            "flex_flow": null,
            "grid_area": null,
            "grid_auto_columns": null,
            "grid_auto_flow": null,
            "grid_auto_rows": null,
            "grid_column": null,
            "grid_gap": null,
            "grid_row": null,
            "grid_template_areas": null,
            "grid_template_columns": null,
            "grid_template_rows": null,
            "height": null,
            "justify_content": null,
            "justify_items": null,
            "left": null,
            "margin": null,
            "max_height": null,
            "max_width": null,
            "min_height": null,
            "min_width": null,
            "object_fit": null,
            "object_position": null,
            "order": null,
            "overflow": null,
            "overflow_x": null,
            "overflow_y": null,
            "padding": null,
            "right": null,
            "top": null,
            "visibility": null,
            "width": null
          }
        },
        "99505ea7b7e84877a9bfe860bbf8386d": {
          "model_module": "@jupyter-widgets/controls",
          "model_name": "DescriptionStyleModel",
          "model_module_version": "1.5.0",
          "state": {
            "_model_module": "@jupyter-widgets/controls",
            "_model_module_version": "1.5.0",
            "_model_name": "DescriptionStyleModel",
            "_view_count": null,
            "_view_module": "@jupyter-widgets/base",
            "_view_module_version": "1.2.0",
            "_view_name": "StyleView",
            "description_width": ""
          }
        },
        "78d46ce4ad8e47d8a199d1077287ebed": {
          "model_module": "@jupyter-widgets/base",
          "model_name": "LayoutModel",
          "model_module_version": "1.2.0",
          "state": {
            "_model_module": "@jupyter-widgets/base",
            "_model_module_version": "1.2.0",
            "_model_name": "LayoutModel",
            "_view_count": null,
            "_view_module": "@jupyter-widgets/base",
            "_view_module_version": "1.2.0",
            "_view_name": "LayoutView",
            "align_content": null,
            "align_items": null,
            "align_self": null,
            "border": null,
            "bottom": null,
            "display": null,
            "flex": null,
            "flex_flow": null,
            "grid_area": null,
            "grid_auto_columns": null,
            "grid_auto_flow": null,
            "grid_auto_rows": null,
            "grid_column": null,
            "grid_gap": null,
            "grid_row": null,
            "grid_template_areas": null,
            "grid_template_columns": null,
            "grid_template_rows": null,
            "height": null,
            "justify_content": null,
            "justify_items": null,
            "left": null,
            "margin": null,
            "max_height": null,
            "max_width": null,
            "min_height": null,
            "min_width": null,
            "object_fit": null,
            "object_position": null,
            "order": null,
            "overflow": null,
            "overflow_x": null,
            "overflow_y": null,
            "padding": null,
            "right": null,
            "top": null,
            "visibility": null,
            "width": null
          }
        },
        "202c7d81e95648d08c2cd7e5fc117d18": {
          "model_module": "@jupyter-widgets/controls",
          "model_name": "ProgressStyleModel",
          "model_module_version": "1.5.0",
          "state": {
            "_model_module": "@jupyter-widgets/controls",
            "_model_module_version": "1.5.0",
            "_model_name": "ProgressStyleModel",
            "_view_count": null,
            "_view_module": "@jupyter-widgets/base",
            "_view_module_version": "1.2.0",
            "_view_name": "StyleView",
            "bar_color": null,
            "description_width": ""
          }
        },
        "4f3a0a5a9b8b44fbba60bd9eea13981f": {
          "model_module": "@jupyter-widgets/base",
          "model_name": "LayoutModel",
          "model_module_version": "1.2.0",
          "state": {
            "_model_module": "@jupyter-widgets/base",
            "_model_module_version": "1.2.0",
            "_model_name": "LayoutModel",
            "_view_count": null,
            "_view_module": "@jupyter-widgets/base",
            "_view_module_version": "1.2.0",
            "_view_name": "LayoutView",
            "align_content": null,
            "align_items": null,
            "align_self": null,
            "border": null,
            "bottom": null,
            "display": null,
            "flex": null,
            "flex_flow": null,
            "grid_area": null,
            "grid_auto_columns": null,
            "grid_auto_flow": null,
            "grid_auto_rows": null,
            "grid_column": null,
            "grid_gap": null,
            "grid_row": null,
            "grid_template_areas": null,
            "grid_template_columns": null,
            "grid_template_rows": null,
            "height": null,
            "justify_content": null,
            "justify_items": null,
            "left": null,
            "margin": null,
            "max_height": null,
            "max_width": null,
            "min_height": null,
            "min_width": null,
            "object_fit": null,
            "object_position": null,
            "order": null,
            "overflow": null,
            "overflow_x": null,
            "overflow_y": null,
            "padding": null,
            "right": null,
            "top": null,
            "visibility": null,
            "width": null
          }
        },
        "0d51e4f038c14a2ba8d95be4c3098cf8": {
          "model_module": "@jupyter-widgets/controls",
          "model_name": "DescriptionStyleModel",
          "model_module_version": "1.5.0",
          "state": {
            "_model_module": "@jupyter-widgets/controls",
            "_model_module_version": "1.5.0",
            "_model_name": "DescriptionStyleModel",
            "_view_count": null,
            "_view_module": "@jupyter-widgets/base",
            "_view_module_version": "1.2.0",
            "_view_name": "StyleView",
            "description_width": ""
          }
        }
      }
    }
  },
  "nbformat_minor": 0,
  "nbformat": 4,
  "cells": [
    {
      "cell_type": "markdown",
      "source": [
        "#Classification de Spam et Ham avec XLM-Roberta\n"
      ],
      "metadata": {
        "papermill": {
          "duration": 0.011403,
          "end_time": "2023-06-28T07:17:27.450013",
          "exception": false,
          "start_time": "2023-06-28T07:17:27.43861",
          "status": "completed"
        },
        "tags": [],
        "id": "v_j88heOL8bQ"
      }
    },
    {
      "cell_type": "markdown",
      "source": [
        "## Introduction"
      ],
      "metadata": {
        "id": "_OnJlolLQO7_"
      }
    },
    {
      "cell_type": "markdown",
      "source": [
        "L'objectif principal de ce projet est d'utiliser le modèle pré-entraîné XLM-Roberta dans une tâche de classification de texte pour identifier des mails indésirables. Nous allons construire une pipeline complète, de la préparation des données à l'évaluation du modèle.\n",
        "\n",
        "La classification de spam est une application importante de l'apprentissage automatique dans le domaine du traitement du langage naturel (NLP). Dans ce projet, nous utiliserons le modèle XLM-Roberta, qui est un modèle de langage multilingue robuste, pour distinguer les e-mails indésirables des e-mails légitimes. A noter que les mails utilisés pour cet apprentissage seront en anglais."
      ],
      "metadata": {
        "id": "cb6GmjFAQSE5"
      }
    },
    {
      "cell_type": "markdown",
      "source": [
        "# Importing libraries"
      ],
      "metadata": {
        "id": "G6LHjq04YklM"
      }
    },
    {
      "cell_type": "code",
      "source": [
        "debug = False"
      ],
      "metadata": {
        "id": "6KPwHpQhrSFR"
      },
      "execution_count": 1,
      "outputs": []
    },
    {
      "cell_type": "code",
      "source": [
        "!pip install transformers\n",
        "!pip install sentencepiece\n",
        "import numpy as np\n",
        "import pandas as pd\n",
        "import os\n",
        "from tqdm import tqdm\n",
        "import matplotlib.pyplot as plt\n",
        "import random\n",
        "import chardet\n",
        "import seaborn as sns\n",
        "import plotly.graph_objects as go\n",
        "import time\n",
        "import shutil\n",
        "\n",
        "from sklearn.metrics import mean_squared_error\n",
        "from sklearn.metrics import classification_report\n",
        "from sklearn.model_selection import StratifiedKFold\n",
        "from sklearn.model_selection import train_test_split\n",
        "from sklearn.utils import shuffle\n",
        "\n",
        "import torch\n",
        "import torch.nn as nn\n",
        "from torch.utils.data import DataLoader, Dataset\n",
        "\n",
        "import transformers\n",
        "from transformers import AdamW\n",
        "from transformers import get_linear_schedule_with_warmup\n",
        "import sentencepiece\n",
        "\n",
        "import warnings\n",
        "warnings.simplefilter('ignore')\n",
        "scaler = torch.cuda.amp.GradScaler()"
      ],
      "metadata": {
        "papermill": {
          "duration": 6.118647,
          "end_time": "2023-06-28T07:17:46.877542",
          "exception": false,
          "start_time": "2023-06-28T07:17:40.758895",
          "status": "completed"
        },
        "tags": [],
        "execution": {
          "iopub.status.busy": "2023-11-30T06:53:07.36578Z",
          "iopub.execute_input": "2023-11-30T06:53:07.366194Z",
          "iopub.status.idle": "2023-11-30T06:53:12.340959Z",
          "shell.execute_reply.started": "2023-11-30T06:53:07.366156Z",
          "shell.execute_reply": "2023-11-30T06:53:12.340149Z"
        },
        "trusted": true,
        "id": "dZjMYqm8L8bZ",
        "colab": {
          "base_uri": "https://localhost:8080/"
        },
        "outputId": "06a898d5-d2cc-424e-b81b-1891450d15de"
      },
      "execution_count": 2,
      "outputs": [
        {
          "output_type": "stream",
          "name": "stdout",
          "text": [
            "Requirement already satisfied: transformers in /usr/local/lib/python3.10/dist-packages (4.35.2)\n",
            "Requirement already satisfied: filelock in /usr/local/lib/python3.10/dist-packages (from transformers) (3.13.1)\n",
            "Requirement already satisfied: huggingface-hub<1.0,>=0.16.4 in /usr/local/lib/python3.10/dist-packages (from transformers) (0.20.3)\n",
            "Requirement already satisfied: numpy>=1.17 in /usr/local/lib/python3.10/dist-packages (from transformers) (1.23.5)\n",
            "Requirement already satisfied: packaging>=20.0 in /usr/local/lib/python3.10/dist-packages (from transformers) (23.2)\n",
            "Requirement already satisfied: pyyaml>=5.1 in /usr/local/lib/python3.10/dist-packages (from transformers) (6.0.1)\n",
            "Requirement already satisfied: regex!=2019.12.17 in /usr/local/lib/python3.10/dist-packages (from transformers) (2023.12.25)\n",
            "Requirement already satisfied: requests in /usr/local/lib/python3.10/dist-packages (from transformers) (2.31.0)\n",
            "Requirement already satisfied: tokenizers<0.19,>=0.14 in /usr/local/lib/python3.10/dist-packages (from transformers) (0.15.1)\n",
            "Requirement already satisfied: safetensors>=0.3.1 in /usr/local/lib/python3.10/dist-packages (from transformers) (0.4.2)\n",
            "Requirement already satisfied: tqdm>=4.27 in /usr/local/lib/python3.10/dist-packages (from transformers) (4.66.1)\n",
            "Requirement already satisfied: fsspec>=2023.5.0 in /usr/local/lib/python3.10/dist-packages (from huggingface-hub<1.0,>=0.16.4->transformers) (2023.6.0)\n",
            "Requirement already satisfied: typing-extensions>=3.7.4.3 in /usr/local/lib/python3.10/dist-packages (from huggingface-hub<1.0,>=0.16.4->transformers) (4.5.0)\n",
            "Requirement already satisfied: charset-normalizer<4,>=2 in /usr/local/lib/python3.10/dist-packages (from requests->transformers) (3.3.2)\n",
            "Requirement already satisfied: idna<4,>=2.5 in /usr/local/lib/python3.10/dist-packages (from requests->transformers) (3.6)\n",
            "Requirement already satisfied: urllib3<3,>=1.21.1 in /usr/local/lib/python3.10/dist-packages (from requests->transformers) (2.0.7)\n",
            "Requirement already satisfied: certifi>=2017.4.17 in /usr/local/lib/python3.10/dist-packages (from requests->transformers) (2023.11.17)\n",
            "Requirement already satisfied: sentencepiece in /usr/local/lib/python3.10/dist-packages (0.1.99)\n"
          ]
        }
      ]
    },
    {
      "cell_type": "markdown",
      "source": [
        "# About the Dataset"
      ],
      "metadata": {
        "id": "y_jy5cUEuLVW"
      }
    },
    {
      "cell_type": "markdown",
      "source": [
        "Le dataset que nous allons utilisé provient de kaggle et plus précisement du dossier enron1 (https://www2.aueb.gr/users/ion/data/enron-spam/). Ce dataset contient plusieurs exemple de mails indésirables et légitimes en anglais. On retrouve donc en attribut le label (en numérique et en texte) et le contenu du mail."
      ],
      "metadata": {
        "id": "nqQCzZb1RiYh"
      }
    },
    {
      "cell_type": "markdown",
      "source": [
        "## Loading the Dataset"
      ],
      "metadata": {
        "id": "2cVP7NwJuO4h"
      }
    },
    {
      "cell_type": "code",
      "source": [
        "file=\"/content/spam_ham_dataset.csv\"\n",
        "data=pd.read_csv(file)\n",
        "data.columns=['#','label','text','targets']\n",
        "data=data.drop('#', axis=1)\n",
        "display(data)\n"
      ],
      "metadata": {
        "execution": {
          "iopub.execute_input": "2023-06-28T07:18:28.918998Z",
          "iopub.status.busy": "2023-06-28T07:18:28.918584Z",
          "iopub.status.idle": "2023-06-28T07:18:29.14088Z",
          "shell.execute_reply": "2023-06-28T07:18:29.139384Z"
        },
        "papermill": {
          "duration": 0.240253,
          "end_time": "2023-06-28T07:18:29.143156",
          "exception": false,
          "start_time": "2023-06-28T07:18:28.902903",
          "status": "completed"
        },
        "tags": [],
        "colab": {
          "base_uri": "https://localhost:8080/",
          "height": 424
        },
        "id": "aiuoPNVwL8bb",
        "outputId": "dce05f60-02d0-400a-ce0c-0541517fd8ba"
      },
      "execution_count": 3,
      "outputs": [
        {
          "output_type": "display_data",
          "data": {
            "text/plain": [
              "     label                                               text  targets\n",
              "0      ham  Subject: enron methanol ; meter # : 988291\\r\\n...        0\n",
              "1      ham  Subject: hpl nom for january 9 , 2001\\r\\n( see...        0\n",
              "2      ham  Subject: neon retreat\\r\\nho ho ho , we ' re ar...        0\n",
              "3     spam  Subject: photoshop , windows , office . cheap ...        1\n",
              "4      ham  Subject: re : indian springs\\r\\nthis deal is t...        0\n",
              "...    ...                                                ...      ...\n",
              "5166   ham  Subject: put the 10 on the ft\\r\\nthe transport...        0\n",
              "5167   ham  Subject: 3 / 4 / 2000 and following noms\\r\\nhp...        0\n",
              "5168   ham  Subject: calpine daily gas nomination\\r\\n>\\r\\n...        0\n",
              "5169   ham  Subject: industrial worksheets for august 2000...        0\n",
              "5170  spam  Subject: important online banking alert\\r\\ndea...        1\n",
              "\n",
              "[5171 rows x 3 columns]"
            ],
            "text/html": [
              "\n",
              "  <div id=\"df-d8506801-ac97-4154-a678-88ffa7bfb14d\" class=\"colab-df-container\">\n",
              "    <div>\n",
              "<style scoped>\n",
              "    .dataframe tbody tr th:only-of-type {\n",
              "        vertical-align: middle;\n",
              "    }\n",
              "\n",
              "    .dataframe tbody tr th {\n",
              "        vertical-align: top;\n",
              "    }\n",
              "\n",
              "    .dataframe thead th {\n",
              "        text-align: right;\n",
              "    }\n",
              "</style>\n",
              "<table border=\"1\" class=\"dataframe\">\n",
              "  <thead>\n",
              "    <tr style=\"text-align: right;\">\n",
              "      <th></th>\n",
              "      <th>label</th>\n",
              "      <th>text</th>\n",
              "      <th>targets</th>\n",
              "    </tr>\n",
              "  </thead>\n",
              "  <tbody>\n",
              "    <tr>\n",
              "      <th>0</th>\n",
              "      <td>ham</td>\n",
              "      <td>Subject: enron methanol ; meter # : 988291\\r\\n...</td>\n",
              "      <td>0</td>\n",
              "    </tr>\n",
              "    <tr>\n",
              "      <th>1</th>\n",
              "      <td>ham</td>\n",
              "      <td>Subject: hpl nom for january 9 , 2001\\r\\n( see...</td>\n",
              "      <td>0</td>\n",
              "    </tr>\n",
              "    <tr>\n",
              "      <th>2</th>\n",
              "      <td>ham</td>\n",
              "      <td>Subject: neon retreat\\r\\nho ho ho , we ' re ar...</td>\n",
              "      <td>0</td>\n",
              "    </tr>\n",
              "    <tr>\n",
              "      <th>3</th>\n",
              "      <td>spam</td>\n",
              "      <td>Subject: photoshop , windows , office . cheap ...</td>\n",
              "      <td>1</td>\n",
              "    </tr>\n",
              "    <tr>\n",
              "      <th>4</th>\n",
              "      <td>ham</td>\n",
              "      <td>Subject: re : indian springs\\r\\nthis deal is t...</td>\n",
              "      <td>0</td>\n",
              "    </tr>\n",
              "    <tr>\n",
              "      <th>...</th>\n",
              "      <td>...</td>\n",
              "      <td>...</td>\n",
              "      <td>...</td>\n",
              "    </tr>\n",
              "    <tr>\n",
              "      <th>5166</th>\n",
              "      <td>ham</td>\n",
              "      <td>Subject: put the 10 on the ft\\r\\nthe transport...</td>\n",
              "      <td>0</td>\n",
              "    </tr>\n",
              "    <tr>\n",
              "      <th>5167</th>\n",
              "      <td>ham</td>\n",
              "      <td>Subject: 3 / 4 / 2000 and following noms\\r\\nhp...</td>\n",
              "      <td>0</td>\n",
              "    </tr>\n",
              "    <tr>\n",
              "      <th>5168</th>\n",
              "      <td>ham</td>\n",
              "      <td>Subject: calpine daily gas nomination\\r\\n&gt;\\r\\n...</td>\n",
              "      <td>0</td>\n",
              "    </tr>\n",
              "    <tr>\n",
              "      <th>5169</th>\n",
              "      <td>ham</td>\n",
              "      <td>Subject: industrial worksheets for august 2000...</td>\n",
              "      <td>0</td>\n",
              "    </tr>\n",
              "    <tr>\n",
              "      <th>5170</th>\n",
              "      <td>spam</td>\n",
              "      <td>Subject: important online banking alert\\r\\ndea...</td>\n",
              "      <td>1</td>\n",
              "    </tr>\n",
              "  </tbody>\n",
              "</table>\n",
              "<p>5171 rows × 3 columns</p>\n",
              "</div>\n",
              "    <div class=\"colab-df-buttons\">\n",
              "\n",
              "  <div class=\"colab-df-container\">\n",
              "    <button class=\"colab-df-convert\" onclick=\"convertToInteractive('df-d8506801-ac97-4154-a678-88ffa7bfb14d')\"\n",
              "            title=\"Convert this dataframe to an interactive table.\"\n",
              "            style=\"display:none;\">\n",
              "\n",
              "  <svg xmlns=\"http://www.w3.org/2000/svg\" height=\"24px\" viewBox=\"0 -960 960 960\">\n",
              "    <path d=\"M120-120v-720h720v720H120Zm60-500h600v-160H180v160Zm220 220h160v-160H400v160Zm0 220h160v-160H400v160ZM180-400h160v-160H180v160Zm440 0h160v-160H620v160ZM180-180h160v-160H180v160Zm440 0h160v-160H620v160Z\"/>\n",
              "  </svg>\n",
              "    </button>\n",
              "\n",
              "  <style>\n",
              "    .colab-df-container {\n",
              "      display:flex;\n",
              "      gap: 12px;\n",
              "    }\n",
              "\n",
              "    .colab-df-convert {\n",
              "      background-color: #E8F0FE;\n",
              "      border: none;\n",
              "      border-radius: 50%;\n",
              "      cursor: pointer;\n",
              "      display: none;\n",
              "      fill: #1967D2;\n",
              "      height: 32px;\n",
              "      padding: 0 0 0 0;\n",
              "      width: 32px;\n",
              "    }\n",
              "\n",
              "    .colab-df-convert:hover {\n",
              "      background-color: #E2EBFA;\n",
              "      box-shadow: 0px 1px 2px rgba(60, 64, 67, 0.3), 0px 1px 3px 1px rgba(60, 64, 67, 0.15);\n",
              "      fill: #174EA6;\n",
              "    }\n",
              "\n",
              "    .colab-df-buttons div {\n",
              "      margin-bottom: 4px;\n",
              "    }\n",
              "\n",
              "    [theme=dark] .colab-df-convert {\n",
              "      background-color: #3B4455;\n",
              "      fill: #D2E3FC;\n",
              "    }\n",
              "\n",
              "    [theme=dark] .colab-df-convert:hover {\n",
              "      background-color: #434B5C;\n",
              "      box-shadow: 0px 1px 3px 1px rgba(0, 0, 0, 0.15);\n",
              "      filter: drop-shadow(0px 1px 2px rgba(0, 0, 0, 0.3));\n",
              "      fill: #FFFFFF;\n",
              "    }\n",
              "  </style>\n",
              "\n",
              "    <script>\n",
              "      const buttonEl =\n",
              "        document.querySelector('#df-d8506801-ac97-4154-a678-88ffa7bfb14d button.colab-df-convert');\n",
              "      buttonEl.style.display =\n",
              "        google.colab.kernel.accessAllowed ? 'block' : 'none';\n",
              "\n",
              "      async function convertToInteractive(key) {\n",
              "        const element = document.querySelector('#df-d8506801-ac97-4154-a678-88ffa7bfb14d');\n",
              "        const dataTable =\n",
              "          await google.colab.kernel.invokeFunction('convertToInteractive',\n",
              "                                                    [key], {});\n",
              "        if (!dataTable) return;\n",
              "\n",
              "        const docLinkHtml = 'Like what you see? Visit the ' +\n",
              "          '<a target=\"_blank\" href=https://colab.research.google.com/notebooks/data_table.ipynb>data table notebook</a>'\n",
              "          + ' to learn more about interactive tables.';\n",
              "        element.innerHTML = '';\n",
              "        dataTable['output_type'] = 'display_data';\n",
              "        await google.colab.output.renderOutput(dataTable, element);\n",
              "        const docLink = document.createElement('div');\n",
              "        docLink.innerHTML = docLinkHtml;\n",
              "        element.appendChild(docLink);\n",
              "      }\n",
              "    </script>\n",
              "  </div>\n",
              "\n",
              "\n",
              "<div id=\"df-eb8e0061-b73a-4a08-8d0d-ae20db7ce4ae\">\n",
              "  <button class=\"colab-df-quickchart\" onclick=\"quickchart('df-eb8e0061-b73a-4a08-8d0d-ae20db7ce4ae')\"\n",
              "            title=\"Suggest charts\"\n",
              "            style=\"display:none;\">\n",
              "\n",
              "<svg xmlns=\"http://www.w3.org/2000/svg\" height=\"24px\"viewBox=\"0 0 24 24\"\n",
              "     width=\"24px\">\n",
              "    <g>\n",
              "        <path d=\"M19 3H5c-1.1 0-2 .9-2 2v14c0 1.1.9 2 2 2h14c1.1 0 2-.9 2-2V5c0-1.1-.9-2-2-2zM9 17H7v-7h2v7zm4 0h-2V7h2v10zm4 0h-2v-4h2v4z\"/>\n",
              "    </g>\n",
              "</svg>\n",
              "  </button>\n",
              "\n",
              "<style>\n",
              "  .colab-df-quickchart {\n",
              "      --bg-color: #E8F0FE;\n",
              "      --fill-color: #1967D2;\n",
              "      --hover-bg-color: #E2EBFA;\n",
              "      --hover-fill-color: #174EA6;\n",
              "      --disabled-fill-color: #AAA;\n",
              "      --disabled-bg-color: #DDD;\n",
              "  }\n",
              "\n",
              "  [theme=dark] .colab-df-quickchart {\n",
              "      --bg-color: #3B4455;\n",
              "      --fill-color: #D2E3FC;\n",
              "      --hover-bg-color: #434B5C;\n",
              "      --hover-fill-color: #FFFFFF;\n",
              "      --disabled-bg-color: #3B4455;\n",
              "      --disabled-fill-color: #666;\n",
              "  }\n",
              "\n",
              "  .colab-df-quickchart {\n",
              "    background-color: var(--bg-color);\n",
              "    border: none;\n",
              "    border-radius: 50%;\n",
              "    cursor: pointer;\n",
              "    display: none;\n",
              "    fill: var(--fill-color);\n",
              "    height: 32px;\n",
              "    padding: 0;\n",
              "    width: 32px;\n",
              "  }\n",
              "\n",
              "  .colab-df-quickchart:hover {\n",
              "    background-color: var(--hover-bg-color);\n",
              "    box-shadow: 0 1px 2px rgba(60, 64, 67, 0.3), 0 1px 3px 1px rgba(60, 64, 67, 0.15);\n",
              "    fill: var(--button-hover-fill-color);\n",
              "  }\n",
              "\n",
              "  .colab-df-quickchart-complete:disabled,\n",
              "  .colab-df-quickchart-complete:disabled:hover {\n",
              "    background-color: var(--disabled-bg-color);\n",
              "    fill: var(--disabled-fill-color);\n",
              "    box-shadow: none;\n",
              "  }\n",
              "\n",
              "  .colab-df-spinner {\n",
              "    border: 2px solid var(--fill-color);\n",
              "    border-color: transparent;\n",
              "    border-bottom-color: var(--fill-color);\n",
              "    animation:\n",
              "      spin 1s steps(1) infinite;\n",
              "  }\n",
              "\n",
              "  @keyframes spin {\n",
              "    0% {\n",
              "      border-color: transparent;\n",
              "      border-bottom-color: var(--fill-color);\n",
              "      border-left-color: var(--fill-color);\n",
              "    }\n",
              "    20% {\n",
              "      border-color: transparent;\n",
              "      border-left-color: var(--fill-color);\n",
              "      border-top-color: var(--fill-color);\n",
              "    }\n",
              "    30% {\n",
              "      border-color: transparent;\n",
              "      border-left-color: var(--fill-color);\n",
              "      border-top-color: var(--fill-color);\n",
              "      border-right-color: var(--fill-color);\n",
              "    }\n",
              "    40% {\n",
              "      border-color: transparent;\n",
              "      border-right-color: var(--fill-color);\n",
              "      border-top-color: var(--fill-color);\n",
              "    }\n",
              "    60% {\n",
              "      border-color: transparent;\n",
              "      border-right-color: var(--fill-color);\n",
              "    }\n",
              "    80% {\n",
              "      border-color: transparent;\n",
              "      border-right-color: var(--fill-color);\n",
              "      border-bottom-color: var(--fill-color);\n",
              "    }\n",
              "    90% {\n",
              "      border-color: transparent;\n",
              "      border-bottom-color: var(--fill-color);\n",
              "    }\n",
              "  }\n",
              "</style>\n",
              "\n",
              "  <script>\n",
              "    async function quickchart(key) {\n",
              "      const quickchartButtonEl =\n",
              "        document.querySelector('#' + key + ' button');\n",
              "      quickchartButtonEl.disabled = true;  // To prevent multiple clicks.\n",
              "      quickchartButtonEl.classList.add('colab-df-spinner');\n",
              "      try {\n",
              "        const charts = await google.colab.kernel.invokeFunction(\n",
              "            'suggestCharts', [key], {});\n",
              "      } catch (error) {\n",
              "        console.error('Error during call to suggestCharts:', error);\n",
              "      }\n",
              "      quickchartButtonEl.classList.remove('colab-df-spinner');\n",
              "      quickchartButtonEl.classList.add('colab-df-quickchart-complete');\n",
              "    }\n",
              "    (() => {\n",
              "      let quickchartButtonEl =\n",
              "        document.querySelector('#df-eb8e0061-b73a-4a08-8d0d-ae20db7ce4ae button');\n",
              "      quickchartButtonEl.style.display =\n",
              "        google.colab.kernel.accessAllowed ? 'block' : 'none';\n",
              "    })();\n",
              "  </script>\n",
              "</div>\n",
              "    </div>\n",
              "  </div>\n"
            ]
          },
          "metadata": {}
        }
      ]
    },
    {
      "cell_type": "markdown",
      "source": [
        "Pour les besoins de l'étude et de l'efficacité des pré-traitements nous avons créé une petite fonction qui fixe la seed de génération. Cette fonction nous assure la reproductibilité des résultats par la reproductibilité de tous les tirages des nombres aléatoires, les opérations de mélange et les calculs basés sur l'horloge."
      ],
      "metadata": {
        "id": "KGPgvVHtXPKY"
      }
    },
    {
      "cell_type": "code",
      "source": [
        "# Set the random seed for Torch, Cuda and numpy\n",
        "def random_seed(SEED):\n",
        "\n",
        "    random.seed(SEED)\n",
        "    os.environ['PYTHONHASHSEED'] = str(SEED)\n",
        "    np.random.seed(SEED)\n",
        "    torch.manual_seed(SEED)\n",
        "    torch.cuda.manual_seed(SEED)\n",
        "    torch.cuda.manual_seed_all(SEED)\n",
        "    torch.backends.cudnn.deterministic = True\n",
        "    torch.backends.cudnn.benchmark = False\n",
        "\n",
        "\n",
        "#SEED = 508\n",
        "SEED = int(random.random()*100)\n",
        "random_seed(SEED)"
      ],
      "metadata": {
        "execution": {
          "iopub.execute_input": "2023-06-28T07:17:46.902772Z",
          "iopub.status.busy": "2023-06-28T07:17:46.902223Z",
          "iopub.status.idle": "2023-06-28T07:17:46.914211Z",
          "shell.execute_reply": "2023-06-28T07:17:46.913362Z"
        },
        "papermill": {
          "duration": 0.026662,
          "end_time": "2023-06-28T07:17:46.916292",
          "exception": false,
          "start_time": "2023-06-28T07:17:46.88963",
          "status": "completed"
        },
        "tags": [],
        "id": "nP3Ou4HFL8ba"
      },
      "execution_count": 4,
      "outputs": []
    },
    {
      "cell_type": "markdown",
      "source": [
        "Nous commençons classiquement par séparer le dataset en trois set : training, validation et test. Le training set permettra l'apprentissage du modèle sur les dataset et le validation set permettra de vérifier si l'on trouve dans une situation de sur ou de sous-apprentissage. Le test set permettra de mesurer les performances finales du modèles après son apprentissage."
      ],
      "metadata": {
        "id": "U54EBO9GgIOl"
      }
    },
    {
      "cell_type": "code",
      "source": [
        "max_sens = 8\n",
        "train, test = train_test_split(data, test_size=0.2, random_state=SEED)\n",
        "train, valid = train_test_split(train, test_size=0.2, random_state=SEED)\n",
        "\n",
        "train = train.reset_index(drop=True)\n",
        "test = test.reset_index(drop=True)\n",
        "valid = valid.reset_index(drop=True)\n",
        "\n",
        "print('train set')\n",
        "display(train.info())\n",
        "print('\\nvalidation set')\n",
        "display(valid.info())\n",
        "print('\\ntest set')\n",
        "display(test.info())"
      ],
      "metadata": {
        "execution": {
          "iopub.execute_input": "2023-06-28T07:18:29.173589Z",
          "iopub.status.busy": "2023-06-28T07:18:29.171888Z",
          "iopub.status.idle": "2023-06-28T07:18:29.181785Z",
          "shell.execute_reply": "2023-06-28T07:18:29.180734Z"
        },
        "papermill": {
          "duration": 0.026581,
          "end_time": "2023-06-28T07:18:29.183917",
          "exception": false,
          "start_time": "2023-06-28T07:18:29.157336",
          "status": "completed"
        },
        "tags": [],
        "id": "CbF4zp5KL8be",
        "colab": {
          "base_uri": "https://localhost:8080/",
          "height": 677
        },
        "outputId": "6560e235-d947-4880-a812-2fac8883721e"
      },
      "execution_count": 5,
      "outputs": [
        {
          "output_type": "stream",
          "name": "stdout",
          "text": [
            "train set\n",
            "<class 'pandas.core.frame.DataFrame'>\n",
            "RangeIndex: 3308 entries, 0 to 3307\n",
            "Data columns (total 3 columns):\n",
            " #   Column   Non-Null Count  Dtype \n",
            "---  ------   --------------  ----- \n",
            " 0   label    3308 non-null   object\n",
            " 1   text     3308 non-null   object\n",
            " 2   targets  3308 non-null   int64 \n",
            "dtypes: int64(1), object(2)\n",
            "memory usage: 77.7+ KB\n"
          ]
        },
        {
          "output_type": "display_data",
          "data": {
            "text/plain": [
              "None"
            ]
          },
          "metadata": {}
        },
        {
          "output_type": "stream",
          "name": "stdout",
          "text": [
            "\n",
            "validation set\n",
            "<class 'pandas.core.frame.DataFrame'>\n",
            "RangeIndex: 828 entries, 0 to 827\n",
            "Data columns (total 3 columns):\n",
            " #   Column   Non-Null Count  Dtype \n",
            "---  ------   --------------  ----- \n",
            " 0   label    828 non-null    object\n",
            " 1   text     828 non-null    object\n",
            " 2   targets  828 non-null    int64 \n",
            "dtypes: int64(1), object(2)\n",
            "memory usage: 19.5+ KB\n"
          ]
        },
        {
          "output_type": "display_data",
          "data": {
            "text/plain": [
              "None"
            ]
          },
          "metadata": {}
        },
        {
          "output_type": "stream",
          "name": "stdout",
          "text": [
            "\n",
            "test set\n",
            "<class 'pandas.core.frame.DataFrame'>\n",
            "RangeIndex: 1035 entries, 0 to 1034\n",
            "Data columns (total 3 columns):\n",
            " #   Column   Non-Null Count  Dtype \n",
            "---  ------   --------------  ----- \n",
            " 0   label    1035 non-null   object\n",
            " 1   text     1035 non-null   object\n",
            " 2   targets  1035 non-null   int64 \n",
            "dtypes: int64(1), object(2)\n",
            "memory usage: 24.4+ KB\n"
          ]
        },
        {
          "output_type": "display_data",
          "data": {
            "text/plain": [
              "None"
            ]
          },
          "metadata": {}
        }
      ]
    },
    {
      "cell_type": "markdown",
      "source": [
        "## Visualizing the Data"
      ],
      "metadata": {
        "id": "ToYZ8gEeYrMP"
      }
    },
    {
      "cell_type": "markdown",
      "source": [
        "Dans cette partie nous allons visualiser le dataset pour étudier et vérifier certaines priorités qui pourraient impacter l'apprentissage. Nous commençons par nous assurer que le dataset ne possède pas de valeurs nulles. Nous avons aussi utilisé ce bloc pour s'assurer que le tokenizer utilisé plus tard ne génère pas de valeures nulles qui feraient sauté la pipeline."
      ],
      "metadata": {
        "id": "dcWkC5ZWw7ck"
      }
    },
    {
      "cell_type": "code",
      "source": [
        "plt.figure(figsize = (8, 2))\n",
        "\n",
        "plt.subplot(1, 3, 1)\n",
        "plt.title(\"Training Set\")\n",
        "sns.heatmap(train.isnull())\n",
        "\n",
        "plt.subplot(1, 3, 3)\n",
        "plt.title(\"Testing Set\")\n",
        "sns.heatmap(test.isnull())\n",
        "plt.show()"
      ],
      "metadata": {
        "id": "iRqkeigQvr9Z",
        "colab": {
          "base_uri": "https://localhost:8080/",
          "height": 237
        },
        "outputId": "77107495-9eb1-414f-bdc3-f3f35afee792"
      },
      "execution_count": 6,
      "outputs": [
        {
          "output_type": "display_data",
          "data": {
            "text/plain": [
              "<Figure size 800x200 with 4 Axes>"
            ],
            "image/png": "[encoded data removed]"
          },
          "metadata": {}
        }
      ]
    },
    {
      "cell_type": "markdown",
      "source": [
        "Maintenant nous allons pouvoir vérifier quelle répartition de spam et de ham il y a dans chaque notre dataset:\n",
        "\n",
        "\n"
      ],
      "metadata": {
        "id": "hkGT-mjB2Q4K"
      }
    },
    {
      "cell_type": "code",
      "source": [
        "label_count = train['label'].value_counts().sort_index()\n",
        "label_count\n",
        "\n",
        "class_names = ['ham', 'spam'] #SET 0/1 →ham/spam\n",
        "label_count.index = class_names\n",
        "display(label_count)\n",
        "\n",
        "fig = go.Figure([go.Bar(x=class_names, y=label_count, marker_color='skyblue')])\n",
        "\n",
        "fig.update_layout(title_text='Number of entries per label in the training set', # title of plot\n",
        "                  xaxis_title_text='Label', # xaxis label\n",
        "                  yaxis_title_text='Count', # yaxis label\n",
        "                  )\n",
        "fig.show()"
      ],
      "metadata": {
        "id": "jZorVUDa1csW",
        "colab": {
          "base_uri": "https://localhost:8080/",
          "height": 594
        },
        "outputId": "df39a7f2-e8e3-42f2-fd01-cffbbce5ad3e"
      },
      "execution_count": 7,
      "outputs": [
        {
          "output_type": "display_data",
          "data": {
            "text/plain": [
              "ham     2354\n",
              "spam     954\n",
              "Name: label, dtype: int64"
            ]
          },
          "metadata": {}
        },
        {
          "output_type": "display_data",
          "data": {
            "text/html": [
              "<html>\n",
              "<head><meta charset=\"utf-8\" /></head>\n",
              "<body>\n",
              "    <div>            <script src=\"https://cdnjs.cloudflare.com/ajax/libs/mathjax/2.7.5/MathJax.js?config=TeX-AMS-MML_SVG\"></script><script type=\"text/javascript\">if (window.MathJax && window.MathJax.Hub && window.MathJax.Hub.Config) {window.MathJax.Hub.Config({SVG: {font: \"STIX-Web\"}});}</script>                <script type=\"text/javascript\">window.PlotlyConfig = {MathJaxConfig: 'local'};</script>\n",
              "        <script charset=\"utf-8\" src=\"https://cdn.plot.ly/plotly-2.24.1.min.js\"></script>                <div id=\"db431ae7-b137-4046-bec4-8597407969ac\" class=\"plotly-graph-div\" style=\"height:525px; width:100%;\"></div>            <script type=\"text/javascript\">                                    window.PLOTLYENV=window.PLOTLYENV || {};                                    if (document.getElementById(\"db431ae7-b137-4046-bec4-8597407969ac\")) {                    Plotly.newPlot(                        \"db431ae7-b137-4046-bec4-8597407969ac\",                        [{\"marker\":{\"color\":\"skyblue\"},\"x\":[\"ham\",\"spam\"],\"y\":[2354,954],\"type\":\"bar\"}],                        {\"template\":{\"data\":{\"histogram2dcontour\":[{\"type\":\"histogram2dcontour\",\"colorbar\":{\"outlinewidth\":0,\"ticks\":\"\"},\"colorscale\":[[0.0,\"#0d0887\"],[0.1111111111111111,\"#46039f\"],[0.2222222222222222,\"#7201a8\"],[0.3333333333333333,\"#9c179e\"],[0.4444444444444444,\"#bd3786\"],[0.5555555555555556,\"#d8576b\"],[0.6666666666666666,\"#ed7953\"],[0.7777777777777778,\"#fb9f3a\"],[0.8888888888888888,\"#fdca26\"],[1.0,\"#f0f921\"]]}],\"choropleth\":[{\"type\":\"choropleth\",\"colorbar\":{\"outlinewidth\":0,\"ticks\":\"\"}}],\"histogram2d\":[{\"type\":\"histogram2d\",\"colorbar\":{\"outlinewidth\":0,\"ticks\":\"\"},\"colorscale\":[[0.0,\"#0d0887\"],[0.1111111111111111,\"#46039f\"],[0.2222222222222222,\"#7201a8\"],[0.3333333333333333,\"#9c179e\"],[0.4444444444444444,\"#bd3786\"],[0.5555555555555556,\"#d8576b\"],[0.6666666666666666,\"#ed7953\"],[0.7777777777777778,\"#fb9f3a\"],[0.8888888888888888,\"#fdca26\"],[1.0,\"#f0f921\"]]}],\"heatmap\":[{\"type\":\"heatmap\",\"colorbar\":{\"outlinewidth\":0,\"ticks\":\"\"},\"colorscale\":[[0.0,\"#0d0887\"],[0.1111111111111111,\"#46039f\"],[0.2222222222222222,\"#7201a8\"],[0.3333333333333333,\"#9c179e\"],[0.4444444444444444,\"#bd3786\"],[0.5555555555555556,\"#d8576b\"],[0.6666666666666666,\"#ed7953\"],[0.7777777777777778,\"#fb9f3a\"],[0.8888888888888888,\"#fdca26\"],[1.0,\"#f0f921\"]]}],\"heatmapgl\":[{\"type\":\"heatmapgl\",\"colorbar\":{\"outlinewidth\":0,\"ticks\":\"\"},\"colorscale\":[[0.0,\"#0d0887\"],[0.1111111111111111,\"#46039f\"],[0.2222222222222222,\"#7201a8\"],[0.3333333333333333,\"#9c179e\"],[0.4444444444444444,\"#bd3786\"],[0.5555555555555556,\"#d8576b\"],[0.6666666666666666,\"#ed7953\"],[0.7777777777777778,\"#fb9f3a\"],[0.8888888888888888,\"#fdca26\"],[1.0,\"#f0f921\"]]}],\"contourcarpet\":[{\"type\":\"contourcarpet\",\"colorbar\":{\"outlinewidth\":0,\"ticks\":\"\"}}],\"contour\":[{\"type\":\"contour\",\"colorbar\":{\"outlinewidth\":0,\"ticks\":\"\"},\"colorscale\":[[0.0,\"#0d0887\"],[0.1111111111111111,\"#46039f\"],[0.2222222222222222,\"#7201a8\"],[0.3333333333333333,\"#9c179e\"],[0.4444444444444444,\"#bd3786\"],[0.5555555555555556,\"#d8576b\"],[0.6666666666666666,\"#ed7953\"],[0.7777777777777778,\"#fb9f3a\"],[0.8888888888888888,\"#fdca26\"],[1.0,\"#f0f921\"]]}],\"surface\":[{\"type\":\"surface\",\"colorbar\":{\"outlinewidth\":0,\"ticks\":\"\"},\"colorscale\":[[0.0,\"#0d0887\"],[0.1111111111111111,\"#46039f\"],[0.2222222222222222,\"#7201a8\"],[0.3333333333333333,\"#9c179e\"],[0.4444444444444444,\"#bd3786\"],[0.5555555555555556,\"#d8576b\"],[0.6666666666666666,\"#ed7953\"],[0.7777777777777778,\"#fb9f3a\"],[0.8888888888888888,\"#fdca26\"],[1.0,\"#f0f921\"]]}],\"mesh3d\":[{\"type\":\"mesh3d\",\"colorbar\":{\"outlinewidth\":0,\"ticks\":\"\"}}],\"scatter\":[{\"fillpattern\":{\"fillmode\":\"overlay\",\"size\":10,\"solidity\":0.2},\"type\":\"scatter\"}],\"parcoords\":[{\"type\":\"parcoords\",\"line\":{\"colorbar\":{\"outlinewidth\":0,\"ticks\":\"\"}}}],\"scatterpolargl\":[{\"type\":\"scatterpolargl\",\"marker\":{\"colorbar\":{\"outlinewidth\":0,\"ticks\":\"\"}}}],\"bar\":[{\"error_x\":{\"color\":\"#2a3f5f\"},\"error_y\":{\"color\":\"#2a3f5f\"},\"marker\":{\"line\":{\"color\":\"#E5ECF6\",\"width\":0.5},\"pattern\":{\"fillmode\":\"overlay\",\"size\":10,\"solidity\":0.2}},\"type\":\"bar\"}],\"scattergeo\":[{\"type\":\"scattergeo\",\"marker\":{\"colorbar\":{\"outlinewidth\":0,\"ticks\":\"\"}}}],\"scatterpolar\":[{\"type\":\"scatterpolar\",\"marker\":{\"colorbar\":{\"outlinewidth\":0,\"ticks\":\"\"}}}],\"histogram\":[{\"marker\":{\"pattern\":{\"fillmode\":\"overlay\",\"size\":10,\"solidity\":0.2}},\"type\":\"histogram\"}],\"scattergl\":[{\"type\":\"scattergl\",\"marker\":{\"colorbar\":{\"outlinewidth\":0,\"ticks\":\"\"}}}],\"scatter3d\":[{\"type\":\"scatter3d\",\"line\":{\"colorbar\":{\"outlinewidth\":0,\"ticks\":\"\"}},\"marker\":{\"colorbar\":{\"outlinewidth\":0,\"ticks\":\"\"}}}],\"scattermapbox\":[{\"type\":\"scattermapbox\",\"marker\":{\"colorbar\":{\"outlinewidth\":0,\"ticks\":\"\"}}}],\"scatterternary\":[{\"type\":\"scatterternary\",\"marker\":{\"colorbar\":{\"outlinewidth\":0,\"ticks\":\"\"}}}],\"scattercarpet\":[{\"type\":\"scattercarpet\",\"marker\":{\"colorbar\":{\"outlinewidth\":0,\"ticks\":\"\"}}}],\"carpet\":[{\"aaxis\":{\"endlinecolor\":\"#2a3f5f\",\"gridcolor\":\"white\",\"linecolor\":\"white\",\"minorgridcolor\":\"white\",\"startlinecolor\":\"#2a3f5f\"},\"baxis\":{\"endlinecolor\":\"#2a3f5f\",\"gridcolor\":\"white\",\"linecolor\":\"white\",\"minorgridcolor\":\"white\",\"startlinecolor\":\"#2a3f5f\"},\"type\":\"carpet\"}],\"table\":[{\"cells\":{\"fill\":{\"color\":\"#EBF0F8\"},\"line\":{\"color\":\"white\"}},\"header\":{\"fill\":{\"color\":\"#C8D4E3\"},\"line\":{\"color\":\"white\"}},\"type\":\"table\"}],\"barpolar\":[{\"marker\":{\"line\":{\"color\":\"#E5ECF6\",\"width\":0.5},\"pattern\":{\"fillmode\":\"overlay\",\"size\":10,\"solidity\":0.2}},\"type\":\"barpolar\"}],\"pie\":[{\"automargin\":true,\"type\":\"pie\"}]},\"layout\":{\"autotypenumbers\":\"strict\",\"colorway\":[\"#636efa\",\"#EF553B\",\"#00cc96\",\"#ab63fa\",\"#FFA15A\",\"#19d3f3\",\"#FF6692\",\"#B6E880\",\"#FF97FF\",\"#FECB52\"],\"font\":{\"color\":\"#2a3f5f\"},\"hovermode\":\"closest\",\"hoverlabel\":{\"align\":\"left\"},\"paper_bgcolor\":\"white\",\"plot_bgcolor\":\"#E5ECF6\",\"polar\":{\"bgcolor\":\"#E5ECF6\",\"angularaxis\":{\"gridcolor\":\"white\",\"linecolor\":\"white\",\"ticks\":\"\"},\"radialaxis\":{\"gridcolor\":\"white\",\"linecolor\":\"white\",\"ticks\":\"\"}},\"ternary\":{\"bgcolor\":\"#E5ECF6\",\"aaxis\":{\"gridcolor\":\"white\",\"linecolor\":\"white\",\"ticks\":\"\"},\"baxis\":{\"gridcolor\":\"white\",\"linecolor\":\"white\",\"ticks\":\"\"},\"caxis\":{\"gridcolor\":\"white\",\"linecolor\":\"white\",\"ticks\":\"\"}},\"coloraxis\":{\"colorbar\":{\"outlinewidth\":0,\"ticks\":\"\"}},\"colorscale\":{\"sequential\":[[0.0,\"#0d0887\"],[0.1111111111111111,\"#46039f\"],[0.2222222222222222,\"#7201a8\"],[0.3333333333333333,\"#9c179e\"],[0.4444444444444444,\"#bd3786\"],[0.5555555555555556,\"#d8576b\"],[0.6666666666666666,\"#ed7953\"],[0.7777777777777778,\"#fb9f3a\"],[0.8888888888888888,\"#fdca26\"],[1.0,\"#f0f921\"]],\"sequentialminus\":[[0.0,\"#0d0887\"],[0.1111111111111111,\"#46039f\"],[0.2222222222222222,\"#7201a8\"],[0.3333333333333333,\"#9c179e\"],[0.4444444444444444,\"#bd3786\"],[0.5555555555555556,\"#d8576b\"],[0.6666666666666666,\"#ed7953\"],[0.7777777777777778,\"#fb9f3a\"],[0.8888888888888888,\"#fdca26\"],[1.0,\"#f0f921\"]],\"diverging\":[[0,\"#8e0152\"],[0.1,\"#c51b7d\"],[0.2,\"#de77ae\"],[0.3,\"#f1b6da\"],[0.4,\"#fde0ef\"],[0.5,\"#f7f7f7\"],[0.6,\"#e6f5d0\"],[0.7,\"#b8e186\"],[0.8,\"#7fbc41\"],[0.9,\"#4d9221\"],[1,\"#276419\"]]},\"xaxis\":{\"gridcolor\":\"white\",\"linecolor\":\"white\",\"ticks\":\"\",\"title\":{\"standoff\":15},\"zerolinecolor\":\"white\",\"automargin\":true,\"zerolinewidth\":2},\"yaxis\":{\"gridcolor\":\"white\",\"linecolor\":\"white\",\"ticks\":\"\",\"title\":{\"standoff\":15},\"zerolinecolor\":\"white\",\"automargin\":true,\"zerolinewidth\":2},\"scene\":{\"xaxis\":{\"backgroundcolor\":\"#E5ECF6\",\"gridcolor\":\"white\",\"linecolor\":\"white\",\"showbackground\":true,\"ticks\":\"\",\"zerolinecolor\":\"white\",\"gridwidth\":2},\"yaxis\":{\"backgroundcolor\":\"#E5ECF6\",\"gridcolor\":\"white\",\"linecolor\":\"white\",\"showbackground\":true,\"ticks\":\"\",\"zerolinecolor\":\"white\",\"gridwidth\":2},\"zaxis\":{\"backgroundcolor\":\"#E5ECF6\",\"gridcolor\":\"white\",\"linecolor\":\"white\",\"showbackground\":true,\"ticks\":\"\",\"zerolinecolor\":\"white\",\"gridwidth\":2}},\"shapedefaults\":{\"line\":{\"color\":\"#2a3f5f\"}},\"annotationdefaults\":{\"arrowcolor\":\"#2a3f5f\",\"arrowhead\":0,\"arrowwidth\":1},\"geo\":{\"bgcolor\":\"white\",\"landcolor\":\"#E5ECF6\",\"subunitcolor\":\"white\",\"showland\":true,\"showlakes\":true,\"lakecolor\":\"white\"},\"title\":{\"x\":0.05},\"mapbox\":{\"style\":\"light\"}}},\"title\":{\"text\":\"Number of entries per label in the training set\"},\"xaxis\":{\"title\":{\"text\":\"Label\"}},\"yaxis\":{\"title\":{\"text\":\"Count\"}}},                        {\"responsive\": true}                    ).then(function(){\n",
              "                            \n",
              "var gd = document.getElementById('db431ae7-b137-4046-bec4-8597407969ac');\n",
              "var x = new MutationObserver(function (mutations, observer) {{\n",
              "        var display = window.getComputedStyle(gd).display;\n",
              "        if (!display || display === 'none') {{\n",
              "            console.log([gd, 'removed!']);\n",
              "            Plotly.purge(gd);\n",
              "            observer.disconnect();\n",
              "        }}\n",
              "}});\n",
              "\n",
              "// Listen for the removal of the full notebook cells\n",
              "var notebookContainer = gd.closest('#notebook-container');\n",
              "if (notebookContainer) {{\n",
              "    x.observe(notebookContainer, {childList: true});\n",
              "}}\n",
              "\n",
              "// Listen for the clearing of the current output cell\n",
              "var outputEl = gd.closest('.output');\n",
              "if (outputEl) {{\n",
              "    x.observe(outputEl, {childList: true});\n",
              "}}\n",
              "\n",
              "                        })                };                            </script>        </div>\n",
              "</body>\n",
              "</html>"
            ]
          },
          "metadata": {}
        }
      ]
    },
    {
      "cell_type": "markdown",
      "source": [
        "On retrouve une proportion de 1 spam pour 2.5 ham ce qui n'est pas le cas idéale de l'égalité des proportions. Il est fort probable que les perforamnces de prédiction des spams soient moins bonnes.\n",
        "\n",
        "Il est également intéressant de vérifier que cette répartition de proportion entre ham et de spam  ne soit pas dépedante de la taille des mails. On pourrait penser que les mails de spam suivent une certaine architecture et sont tous d'une certaine longuer, ce qui pourrait fausser l'apprentissage. Ci-dessous nous pouvons voir la proportion de ham/spam en fonction de la longueur du mail dans le training et le testing set restent à peu près constante :"
      ],
      "metadata": {
        "id": "NZiJSHuXxbQP"
      }
    },
    {
      "cell_type": "code",
      "source": [
        "plt.figure(figsize=(6, 6))\n",
        "\n",
        "plt.subplot(2, 1, 1)\n",
        "plt.title(\"Training Set\")\n",
        "train['length'] = train['text'].apply(len)\n",
        "sns.histplot(train, x='length', hue='label')\n",
        "plt.xlim(0, 5000)\n",
        "\n",
        "plt.subplot(2, 1, 2)\n",
        "plt.title(\"Testing Set\")\n",
        "test['length'] = test['text'].apply(len)\n",
        "sns.histplot(test, x='length', hue='label')\n",
        "plt.xlim(0, 5000)\n",
        "\n",
        "plt.tight_layout()\n",
        "plt.show()"
      ],
      "metadata": {
        "id": "XGuuWasKxFKU",
        "colab": {
          "base_uri": "https://localhost:8080/",
          "height": 607
        },
        "outputId": "304bfb5f-a848-47bf-db15-8a189a147b40"
      },
      "execution_count": 8,
      "outputs": [
        {
          "output_type": "display_data",
          "data": {
            "text/plain": [
              "<Figure size 600x600 with 2 Axes>"
            ],
            "image/png": "[encoded data removed]"
          },
          "metadata": {}
        }
      ]
    },
    {
      "cell_type": "markdown",
      "source": [
        "## Pretreatment"
      ],
      "metadata": {
        "id": "zlGGAd-TfmVA"
      }
    },
    {
      "cell_type": "markdown",
      "source": [
        "Nous avons testé différents tokenizer pour formater les textes en entrée du modèles. Parmi les trois testé, le tokenizer XLMRoberta avec l'entraînement \"alexandrainst/da-ned-base\" est celui qui a fourni les meilleurs résultats.\n",
        "\n"
      ],
      "metadata": {
        "id": "Nxgfs6p2gd5Q"
      }
    },
    {
      "cell_type": "code",
      "source": [
        "tokenizer = transformers.XLMRobertaTokenizer.from_pretrained(\"alexandrainst/da-ned-base\")\n",
        "#tokenizer = transformers.BertTokenizer.from_pretrained(\"../input/bert-base-uncased\")\n",
        "#tokenizer = transformers.RobertaTokenizer.from_pretrained(\"roberta-base\")"
      ],
      "metadata": {
        "id": "yv97i9ewL8bf"
      },
      "execution_count": 9,
      "outputs": []
    },
    {
      "cell_type": "markdown",
      "source": [
        "Voici un exemple du rendu de l'utilisation du tokenizer :\n",
        "\n"
      ],
      "metadata": {
        "id": "b5tx9UA50ilR"
      }
    },
    {
      "cell_type": "code",
      "source": [
        "test_s = train['text'].iloc[0]\n",
        "print(\"base message :\")\n",
        "print(test_s)\n",
        "\n",
        "result1 = tokenizer.encode_plus(test_s)\n",
        "print(\"\\n decoded message :\")\n",
        "tokenizer.decode(result1[\"input_ids\"])"
      ],
      "metadata": {
        "execution": {
          "iopub.execute_input": "2023-06-28T07:18:31.336224Z",
          "iopub.status.busy": "2023-06-28T07:18:31.335905Z",
          "iopub.status.idle": "2023-06-28T07:18:37.017538Z",
          "shell.execute_reply": "2023-06-28T07:18:37.016567Z"
        },
        "papermill": {
          "duration": 5.697647,
          "end_time": "2023-06-28T07:18:37.019837",
          "exception": false,
          "start_time": "2023-06-28T07:18:31.32219",
          "status": "completed"
        },
        "tags": [],
        "id": "6y7Yvs1FL8bh",
        "colab": {
          "base_uri": "https://localhost:8080/",
          "height": 487
        },
        "outputId": "95ce7f66-f68d-416a-9fba-863b85bbaa84"
      },
      "execution_count": 10,
      "outputs": [
        {
          "output_type": "stream",
          "name": "stdout",
          "text": [
            "base message :\n",
            "Subject: re : spinnaker - supply verification 11958 su - october 2000\r\n",
            "production\r\n",
            "fyi .\r\n",
            "bob\r\n",
            "- - - - - - - - - - - - - - - - - - - - - - forwarded by robert cotten / hou / ect on 12 / 07 / 2000 10 : 12\r\n",
            "am - - - - - - - - - - - - - - - - - - - - - - - - - - -\r\n",
            "nick moshou @ enron\r\n",
            "12 / 07 / 2000 10 : 13 am\r\n",
            "to : christy sweeney / hou / ect @ ect , gary bryan / hou / ect @ ect\r\n",
            "cc : vance l taylor / hou / ect @ ect , robert cotten / hou / ect @ ect\r\n",
            "subject : re : spinnaker - supply verification 11958 su - october 2000\r\n",
            "production\r\n",
            "christy ,\r\n",
            "per our conversation i have attached below the updated version of the\r\n",
            "reallocation difference . texas general land received 21 . 8945 % of the total\r\n",
            "volume which was 55 , 645 mmbtu . after updating the spreadsheet spinnaker will\r\n",
            "owe hpl approximately $ 36 , 000 .\r\n",
            "thanks ,\r\n",
            "nick\n",
            "\n",
            " decoded message :\n"
          ]
        },
        {
          "output_type": "execute_result",
          "data": {
            "text/plain": [
              "'<s> Subject: re : spinnaker - supply verification 11958 su - october 2000 production fyi. bob - - - - - - - - - - - - - - - - - - - - - - forwarded by robert cotten / hou / ect on 12 / 07 / 2000 10 : 12 am - - - - - - - - - - - - - - - - - - - - - - - - - - - nick moshou @ enron 12 / 07 / 2000 10 : 13 am to : christy sweeney / hou / ect @ ect, gary bryan / hou / ect @ ect cc : vance l taylor / hou / ect @ ect, robert cotten / hou / ect @ ect subject : re : spinnaker - supply verification 11958 su - october 2000 production christy, per our conversation i have attached below the updated version of the reallocation difference. texas general land received 21. 8945 % of the total volume which was 55, 645 mmbtu. after updating the spreadsheet spinnaker will owe hpl approximately $ 36, 000. thanks, nick</s>'"
            ],
            "application/vnd.google.colaboratory.intrinsic+json": {
              "type": "string"
            }
          },
          "metadata": {},
          "execution_count": 10
        }
      ]
    },
    {
      "cell_type": "markdown",
      "source": [
        "Le Tokenizer permet aussi de se focaliser sur une partie du mail :"
      ],
      "metadata": {
        "id": "CocUQDbZjHxE"
      }
    },
    {
      "cell_type": "code",
      "source": [
        "result2 = tokenizer.encode_plus(\n",
        "    test_s,\n",
        "    add_special_tokens = True,\n",
        "    max_length = 8,\n",
        "    pad_to_max_length = True,\n",
        "    truncation = True\n",
        ")\n",
        "\n",
        "tokenizer.decode(result2[\"input_ids\"])"
      ],
      "metadata": {
        "execution": {
          "iopub.execute_input": "2023-06-28T07:18:37.082726Z",
          "iopub.status.busy": "2023-06-28T07:18:37.082463Z",
          "iopub.status.idle": "2023-06-28T07:18:37.087391Z",
          "shell.execute_reply": "2023-06-28T07:18:37.086399Z"
        },
        "papermill": {
          "duration": 0.020965,
          "end_time": "2023-06-28T07:18:37.089429",
          "exception": false,
          "start_time": "2023-06-28T07:18:37.068464",
          "status": "completed"
        },
        "tags": [],
        "id": "Btdv0IxiL8bk",
        "colab": {
          "base_uri": "https://localhost:8080/",
          "height": 35
        },
        "outputId": "9eb9565c-3b83-4045-9903-a895ceb5ec81"
      },
      "execution_count": 11,
      "outputs": [
        {
          "output_type": "execute_result",
          "data": {
            "text/plain": [
              "'<s> Subject: re : spinnak</s>'"
            ],
            "application/vnd.google.colaboratory.intrinsic+json": {
              "type": "string"
            }
          },
          "metadata": {},
          "execution_count": 11
        }
      ]
    },
    {
      "cell_type": "markdown",
      "source": [
        "Nous avons ensuite utiliser un dataloader. Un dataloader permet de charger les données de manière parallèle, accélérant ainsi l'entraînement du modèles. Nous avons choisi le dataloader Bert car il est celui qui est conseillé pour le traitement de texte.\n",
        "\n",
        "Dans ce dataloader les données sont retournées sous la forme d'un dictionnaire avec trois clés : 'ids', 'mask', et 'targets'. 'ids' contient les identifiants des tokens après le prétraitement, 'mask' est un masque d'attention pour indiquer quels tokens sont réels et quels sont des tokens de rembourrage, et 'targets' contient les étiquettes associées à chaque phrase"
      ],
      "metadata": {
        "id": "9uOuopYOzYD_"
      }
    },
    {
      "cell_type": "code",
      "source": [
        "class BERTDataSet(Dataset):\n",
        "\n",
        "    def __init__(self,sentences,targets):\n",
        "        self.sentences = sentences\n",
        "        self.targets = targets\n",
        "\n",
        "    def __len__(self):\n",
        "        return len(self.sentences)\n",
        "\n",
        "    def __getitem__(self,idx):\n",
        "        sentence = self.sentences[idx]\n",
        "        bert_sens = tokenizer.encode_plus(\n",
        "                                sentence,\n",
        "                                add_special_tokens = True,\n",
        "                                max_length = max_sens,\n",
        "                                pad_to_max_length = True,\n",
        "                                return_attention_mask = True,\n",
        "                                truncation = True )\n",
        "\n",
        "        ids = torch.tensor(bert_sens['input_ids'], dtype=torch.long)\n",
        "        mask = torch.tensor(bert_sens['attention_mask'], dtype=torch.long)\n",
        "\n",
        "        target = torch.tensor(self.targets[idx],dtype=torch.float)\n",
        "\n",
        "        return {\n",
        "                'ids': ids,\n",
        "                'mask': mask,\n",
        "                'targets': target\n",
        "            }"
      ],
      "metadata": {
        "execution": {
          "iopub.execute_input": "2023-06-28T07:18:37.218227Z",
          "iopub.status.busy": "2023-06-28T07:18:37.217976Z",
          "iopub.status.idle": "2023-06-28T07:18:37.225737Z",
          "shell.execute_reply": "2023-06-28T07:18:37.224743Z"
        },
        "papermill": {
          "duration": 0.023548,
          "end_time": "2023-06-28T07:18:37.228036",
          "exception": false,
          "start_time": "2023-06-28T07:18:37.204488",
          "status": "completed"
        },
        "tags": [],
        "id": "dHMraKt4L8br"
      },
      "execution_count": 12,
      "outputs": []
    },
    {
      "cell_type": "code",
      "source": [
        "train_dataset = BERTDataSet(train[\"text\"],train['targets'])\n",
        "valid_dataset = BERTDataSet(valid[\"text\"],valid['targets'])\n",
        "test_dataset = BERTDataSet(test[\"text\"],test['targets'])\n",
        "\n",
        "train_batch = int(16/2)\n",
        "valid_batch = int(32/2)\n",
        "test_batch = int(32/2)\n",
        "\n",
        "train_dataloader = DataLoader(train_dataset,batch_size=train_batch,shuffle = True,num_workers=8,pin_memory=True)\n",
        "valid_dataloader = DataLoader(valid_dataset,batch_size=valid_batch,shuffle = False,num_workers=8,pin_memory=True)\n",
        "test_dataloader = DataLoader(test_dataset,batch_size=test_batch,shuffle = False,num_workers=8,pin_memory=True)"
      ],
      "metadata": {
        "execution": {
          "iopub.execute_input": "2023-06-28T07:18:37.254615Z",
          "iopub.status.busy": "2023-06-28T07:18:37.254352Z",
          "iopub.status.idle": "2023-06-28T07:18:37.262672Z",
          "shell.execute_reply": "2023-06-28T07:18:37.261761Z"
        },
        "papermill": {
          "duration": 0.023996,
          "end_time": "2023-06-28T07:18:37.264616",
          "exception": false,
          "start_time": "2023-06-28T07:18:37.24062",
          "status": "completed"
        },
        "tags": [],
        "id": "o0d8U9YLL8br"
      },
      "execution_count": 13,
      "outputs": []
    },
    {
      "cell_type": "markdown",
      "source": [
        "# The model"
      ],
      "metadata": {
        "id": "epQuvImkTchL"
      }
    },
    {
      "cell_type": "markdown",
      "source": [
        "## Generating the model"
      ],
      "metadata": {
        "id": "5lzRiSvo6yZd"
      }
    },
    {
      "cell_type": "markdown",
      "source": [
        "De la même manière que pour les tokenizers nous avons essayé plusieurs modèles via les transformers (autre que XLMRoberta). Comme promis par le modèle c'est bien XMLROberta qui a présenté les meilleurs résultats."
      ],
      "metadata": {
        "id": "uvLdL3E4ubd4"
      }
    },
    {
      "cell_type": "code",
      "source": [
        "model = transformers.XLMRobertaForSequenceClassification.from_pretrained(\"alexandrainst/da-ned-base\", num_labels=1, ignore_mismatched_sizes=True,force_download=True)\n",
        "#model = transformers.RobertaForSequenceClassification.from_pretrained(\"roberta-base\", num_labels=1)\n",
        "#model = transformers.BertForSequenceClassification.from_pretrained(\"../input/bert-base-uncased\",num_labels=1)"
      ],
      "metadata": {
        "id": "AwZCOE3nL8bs",
        "colab": {
          "base_uri": "https://localhost:8080/",
          "height": 182,
          "referenced_widgets": [
            "9d91dd3b711c442586c6b79175174833",
            "0a6b8a94ff61421cacc9a9fc3abaf4d5",
            "18170d95e67c48baaaa7a36903019569",
            "babd3c9c0249430688081b23c2897f8c",
            "f5e2a1674e1d4f20a5d00bc08263bd59",
            "377e732e57f645ab80a5f011c34a0a0d",
            "781f8bfd7e3e49d9b6416e66ad37b882",
            "cfabe3b3afc04b2cb7f5e77e1ec49b2b",
            "25fd22cba4f14657a0330633cea382d6",
            "12a5dcb4c4fa4219b21e712ea08971cc",
            "913b9272ea9e4d52b29002e46f2e880b",
            "a76aee414ef04df99ee05e168d7bb3db",
            "0ee083edbd724a81ad004331fd63358f",
            "c3432a155d3548b699b1765cb01ff9ee",
            "037853873a0e488998c6b464857af4c2",
            "f5bfca79220a431fb9dd75d5c14f3129",
            "27967f53284f436a903962ed51fd79d2",
            "012c3f8b7bfc4e7d8d1cf2bc1c99db5a",
            "f522a9b63f4346b3b41ab25928e8be6c",
            "966628c4780842978a0d103ea303978b",
            "47ece408fa1c4c27aac152abf089ce86",
            "7d6a5db0f5984b499581d1010b9803a3",
            "61b154376d634b6db2be9714b980da1e",
            "1ad94fd9f6f2475da91e19c04db0fe9b",
            "16d31c67ac4e40b6beb185e0967d4fe0",
            "bad46cf45f854be1a880376db1fdba76",
            "d8a030a575b34bac8765a1cafffa83b2",
            "eed31635f61e4c749f5db13c75f2fc5d",
            "99505ea7b7e84877a9bfe860bbf8386d",
            "78d46ce4ad8e47d8a199d1077287ebed",
            "202c7d81e95648d08c2cd7e5fc117d18",
            "4f3a0a5a9b8b44fbba60bd9eea13981f",
            "0d51e4f038c14a2ba8d95be4c3098cf8"
          ]
        },
        "outputId": "499d4729-b609-447a-eb78-6f0bd3aafa13"
      },
      "execution_count": 14,
      "outputs": [
        {
          "output_type": "display_data",
          "data": {
            "text/plain": [
              "config.json:   0%|          | 0.00/814 [00:00<?, ?B/s]"
            ],
            "application/vnd.jupyter.widget-view+json": {
              "version_major": 2,
              "version_minor": 0,
              "model_id": "9d91dd3b711c442586c6b79175174833"
            }
          },
          "metadata": {}
        },
        {
          "output_type": "display_data",
          "data": {
            "text/plain": [
              "config.json:   0%|          | 0.00/814 [00:00<?, ?B/s]"
            ],
            "application/vnd.jupyter.widget-view+json": {
              "version_major": 2,
              "version_minor": 0,
              "model_id": "a76aee414ef04df99ee05e168d7bb3db"
            }
          },
          "metadata": {}
        },
        {
          "output_type": "display_data",
          "data": {
            "text/plain": [
              "model.safetensors:   0%|          | 0.00/1.11G [00:00<?, ?B/s]"
            ],
            "application/vnd.jupyter.widget-view+json": {
              "version_major": 2,
              "version_minor": 0,
              "model_id": "61b154376d634b6db2be9714b980da1e"
            }
          },
          "metadata": {}
        },
        {
          "output_type": "stream",
          "name": "stderr",
          "text": [
            "Some weights of XLMRobertaForSequenceClassification were not initialized from the model checkpoint at alexandrainst/da-ned-base and are newly initialized because the shapes did not match:\n",
            "- classifier.out_proj.bias: found shape torch.Size([2]) in the checkpoint and torch.Size([1]) in the model instantiated\n",
            "- classifier.out_proj.weight: found shape torch.Size([2, 768]) in the checkpoint and torch.Size([1, 768]) in the model instantiated\n",
            "You should probably TRAIN this model on a down-stream task to be able to use it for predictions and inference.\n"
          ]
        }
      ]
    },
    {
      "cell_type": "markdown",
      "source": [
        "Ensuite on vérifie si un GPU est disponible et on la libère si elle a été utilisé précédement. Sinon on utilsie le CPU et on entraine le modèle."
      ],
      "metadata": {
        "id": "phUxskFV1wrl"
      }
    },
    {
      "cell_type": "code",
      "source": [
        "device = torch.device('cuda' if torch.cuda.is_available() else 'cpu')\n",
        "torch.cuda.empty_cache()\n",
        "#device = 'cpu'\n",
        "device"
      ],
      "metadata": {
        "execution": {
          "iopub.execute_input": "2023-06-28T07:18:42.545689Z",
          "iopub.status.busy": "2023-06-28T07:18:42.545367Z",
          "iopub.status.idle": "2023-06-28T07:18:47.612352Z",
          "shell.execute_reply": "2023-06-28T07:18:47.610456Z"
        },
        "papermill": {
          "duration": 5.090094,
          "end_time": "2023-06-28T07:18:47.620511",
          "exception": false,
          "start_time": "2023-06-28T07:18:42.530417",
          "status": "completed"
        },
        "tags": [],
        "id": "sPwLP6IVL8bt",
        "colab": {
          "base_uri": "https://localhost:8080/"
        },
        "outputId": "2703f9f2-b285-4acf-c1ce-eeff78196f87"
      },
      "execution_count": 15,
      "outputs": [
        {
          "output_type": "execute_result",
          "data": {
            "text/plain": [
              "device(type='cuda')"
            ]
          },
          "metadata": {},
          "execution_count": 15
        }
      ]
    },
    {
      "cell_type": "code",
      "source": [
        "model.to(device)\n",
        "model.train()"
      ],
      "metadata": {
        "id": "xHBqiFD02LV_",
        "colab": {
          "base_uri": "https://localhost:8080/"
        },
        "outputId": "65f92187-2e11-4a6d-edf9-4f68e0fe521d"
      },
      "execution_count": 16,
      "outputs": [
        {
          "output_type": "execute_result",
          "data": {
            "text/plain": [
              "XLMRobertaForSequenceClassification(\n",
              "  (roberta): XLMRobertaModel(\n",
              "    (embeddings): XLMRobertaEmbeddings(\n",
              "      (word_embeddings): Embedding(250002, 768, padding_idx=1)\n",
              "      (position_embeddings): Embedding(514, 768, padding_idx=1)\n",
              "      (token_type_embeddings): Embedding(1, 768)\n",
              "      (LayerNorm): LayerNorm((768,), eps=1e-05, elementwise_affine=True)\n",
              "      (dropout): Dropout(p=0.1, inplace=False)\n",
              "    )\n",
              "    (encoder): XLMRobertaEncoder(\n",
              "      (layer): ModuleList(\n",
              "        (0-11): 12 x XLMRobertaLayer(\n",
              "          (attention): XLMRobertaAttention(\n",
              "            (self): XLMRobertaSelfAttention(\n",
              "              (query): Linear(in_features=768, out_features=768, bias=True)\n",
              "              (key): Linear(in_features=768, out_features=768, bias=True)\n",
              "              (value): Linear(in_features=768, out_features=768, bias=True)\n",
              "              (dropout): Dropout(p=0.1, inplace=False)\n",
              "            )\n",
              "            (output): XLMRobertaSelfOutput(\n",
              "              (dense): Linear(in_features=768, out_features=768, bias=True)\n",
              "              (LayerNorm): LayerNorm((768,), eps=1e-05, elementwise_affine=True)\n",
              "              (dropout): Dropout(p=0.1, inplace=False)\n",
              "            )\n",
              "          )\n",
              "          (intermediate): XLMRobertaIntermediate(\n",
              "            (dense): Linear(in_features=768, out_features=3072, bias=True)\n",
              "            (intermediate_act_fn): GELUActivation()\n",
              "          )\n",
              "          (output): XLMRobertaOutput(\n",
              "            (dense): Linear(in_features=3072, out_features=768, bias=True)\n",
              "            (LayerNorm): LayerNorm((768,), eps=1e-05, elementwise_affine=True)\n",
              "            (dropout): Dropout(p=0.1, inplace=False)\n",
              "          )\n",
              "        )\n",
              "      )\n",
              "    )\n",
              "  )\n",
              "  (classifier): XLMRobertaClassificationHead(\n",
              "    (dense): Linear(in_features=768, out_features=768, bias=True)\n",
              "    (dropout): Dropout(p=0.1, inplace=False)\n",
              "    (out_proj): Linear(in_features=768, out_features=1, bias=True)\n",
              "  )\n",
              ")"
            ]
          },
          "metadata": {},
          "execution_count": 16
        }
      ]
    },
    {
      "cell_type": "code",
      "source": [
        "# Debugging the model\n",
        "if debug:\n",
        "  for batch in train_dataloader:\n",
        "    ids = batch[\"ids\"].to(device)\n",
        "    mask = batch[\"mask\"].to(device)\n",
        "    output = model(ids,mask)\n",
        "    output = output[\"logits\"].squeeze(-1).shape\n",
        "    print(output)\n",
        "    break"
      ],
      "metadata": {
        "_kg_hide-output": true,
        "execution": {
          "iopub.execute_input": "2023-06-28T07:18:47.653708Z",
          "iopub.status.busy": "2023-06-28T07:18:47.653352Z",
          "iopub.status.idle": "2023-06-28T07:18:50.19172Z",
          "shell.execute_reply": "2023-06-28T07:18:50.190419Z"
        },
        "papermill": {
          "duration": 2.557418,
          "end_time": "2023-06-28T07:18:50.195121",
          "exception": false,
          "start_time": "2023-06-28T07:18:47.637703",
          "status": "completed"
        },
        "tags": [],
        "id": "SuPPw2MBL8bt"
      },
      "execution_count": 17,
      "outputs": []
    },
    {
      "cell_type": "markdown",
      "source": [
        "Finalement nous mettons en place un optimizer avec détérioration des poids. Cet optimizer permet de mettre à jour les poids et paramètres du modèle avec la rétropropagation du modèle.\n",
        "\n",
        "L'ajout de détérioration des poids permet d'accélérer la convergence du modèle car on part du principe que le taux d'apprentissage est réduit au fur et à mesure des époques ce qui le stabilise plus rapidement."
      ],
      "metadata": {
        "id": "qlEa_PWM5SO2"
      }
    },
    {
      "cell_type": "code",
      "source": [
        "LR=2e-5\n",
        "optimizer = AdamW(model.parameters(), LR,betas=(0.9, 0.999), weight_decay=1e-2)"
      ],
      "metadata": {
        "execution": {
          "iopub.execute_input": "2023-06-28T07:18:50.267172Z",
          "iopub.status.busy": "2023-06-28T07:18:50.266806Z",
          "iopub.status.idle": "2023-06-28T07:18:50.282564Z",
          "shell.execute_reply": "2023-06-28T07:18:50.281605Z"
        },
        "papermill": {
          "duration": 0.033736,
          "end_time": "2023-06-28T07:18:50.284707",
          "exception": false,
          "start_time": "2023-06-28T07:18:50.250971",
          "status": "completed"
        },
        "tags": [],
        "id": "9GfVZnrZL8bu"
      },
      "execution_count": 18,
      "outputs": []
    },
    {
      "cell_type": "markdown",
      "source": [
        "## Definition of the model function"
      ],
      "metadata": {
        "id": "8hVETmOn7Ae-"
      }
    },
    {
      "cell_type": "markdown",
      "source": [
        "Dans cette partie nous allons définir les fonctions d'entraînement et de valdiation du modèle. On en profite pour extraire les variables de résultats."
      ],
      "metadata": {
        "papermill": {
          "duration": 0.01495,
          "end_time": "2023-06-28T07:18:50.395109",
          "exception": false,
          "start_time": "2023-06-28T07:18:50.380159",
          "status": "completed"
        },
        "tags": [],
        "id": "33qPlakOL8bx"
      }
    },
    {
      "cell_type": "code",
      "source": [
        "def training(train_dataloader, model, optimizer, scheduler, scaler, loss_fn):\n",
        "    model.train()\n",
        "    torch.backends.cudnn.benchmark = True\n",
        "    allpreds = []\n",
        "    alltargets = []\n",
        "\n",
        "    for batch in train_dataloader:\n",
        "        optimizer.zero_grad()\n",
        "        losses = []\n",
        "\n",
        "        with torch.cuda.amp.autocast():\n",
        "            ids = batch[\"ids\"].to(device, non_blocking=True)\n",
        "            mask = batch[\"mask\"].to(device, non_blocking=True)\n",
        "            target = batch[\"targets\"].to(device, non_blocking=True).squeeze(-1)\n",
        "            output = model(ids, mask)[\"logits\"].squeeze(-1)\n",
        "            loss = loss_fn(output, target)\n",
        "\n",
        "            # Collecte les résultats pour les métriques et la surveillance\n",
        "            losses.append(loss.item())\n",
        "            allpreds.append(output.detach().cpu().numpy())\n",
        "            alltargets.append(target.detach().squeeze(-1).cpu().numpy())\n",
        "\n",
        "        scaler.scale(loss).backward()\n",
        "        scaler.step(optimizer)\n",
        "        scaler.update()\n",
        "\n",
        "        del loss\n",
        "\n",
        "        scheduler.step()\n",
        "\n",
        "    # Calcul des métriques finales\n",
        "    allpreds = np.concatenate(allpreds)\n",
        "    alltargets = np.concatenate(alltargets)\n",
        "    avg_loss = np.mean(losses)\n",
        "    train_rme_loss = np.sqrt(mean_squared_error(alltargets, allpreds))\n",
        "\n",
        "    return avg_loss, train_rme_loss\n"
      ],
      "metadata": {
        "execution": {
          "iopub.execute_input": "2023-06-28T07:18:50.427377Z",
          "iopub.status.busy": "2023-06-28T07:18:50.426308Z",
          "iopub.status.idle": "2023-06-28T07:18:50.437571Z",
          "shell.execute_reply": "2023-06-28T07:18:50.436475Z"
        },
        "papermill": {
          "duration": 0.029401,
          "end_time": "2023-06-28T07:18:50.439727",
          "exception": false,
          "start_time": "2023-06-28T07:18:50.410326",
          "status": "completed"
        },
        "tags": [],
        "id": "KD55UwekL8bx"
      },
      "execution_count": 19,
      "outputs": []
    },
    {
      "cell_type": "code",
      "source": [
        "def validating(valid_dataloader,model):\n",
        "\n",
        "    model.eval()\n",
        "    allpreds = []\n",
        "    alltargets = []\n",
        "\n",
        "    for a in valid_dataloader:\n",
        "        losses = []\n",
        "        with torch.no_grad():\n",
        "\n",
        "            ids = a[\"ids\"].to(device)\n",
        "            mask = a[\"mask\"].to(device)\n",
        "\n",
        "            output = model(ids,mask)\n",
        "            output = output[\"logits\"].squeeze(-1)\n",
        "            target = a[\"targets\"].to(device)\n",
        "            loss = loss_fn(output,target)\n",
        "            losses.append(loss.item())\n",
        "            allpreds.append(output.detach().cpu().numpy())\n",
        "            alltargets.append(target.detach().squeeze(-1).cpu().numpy())\n",
        "\n",
        "            del loss\n",
        "\n",
        "    allpreds = np.concatenate(allpreds)\n",
        "    alltargets = np.concatenate(alltargets)\n",
        "    losses = np.mean(losses)\n",
        "    valid_rme_loss = np.sqrt(mean_squared_error(alltargets,allpreds))\n",
        "\n",
        "    return allpreds,losses,valid_rme_loss"
      ],
      "metadata": {
        "execution": {
          "iopub.execute_input": "2023-06-28T07:18:50.499792Z",
          "iopub.status.busy": "2023-06-28T07:18:50.499406Z",
          "iopub.status.idle": "2023-06-28T07:18:50.508825Z",
          "shell.execute_reply": "2023-06-28T07:18:50.507682Z"
        },
        "papermill": {
          "duration": 0.02798,
          "end_time": "2023-06-28T07:18:50.511175",
          "exception": false,
          "start_time": "2023-06-28T07:18:50.483195",
          "status": "completed"
        },
        "tags": [],
        "id": "HhnVNROUL8bz"
      },
      "execution_count": 20,
      "outputs": []
    },
    {
      "cell_type": "markdown",
      "source": [
        "Pour la fonction de perte nous avons choisi la BCEWithLogitsLoss. Cette fonction regroupe la Binary Cross Entropy (BCE) qui est indispensable pour un problème de classification binaire. Elle traite aussi des logits qui sont les scores pour chaque classes qui seront transformés en probabilités après l'activation sigmoïde interne."
      ],
      "metadata": {
        "id": "idQTsgEE7eIe"
      }
    },
    {
      "cell_type": "code",
      "source": [
        "def loss_fn(output, target):\n",
        "  return nn.BCEWithLogitsLoss()(output, target.float())"
      ],
      "metadata": {
        "execution": {
          "iopub.execute_input": "2023-06-28T07:18:50.357704Z",
          "iopub.status.busy": "2023-06-28T07:18:50.357044Z",
          "iopub.status.idle": "2023-06-28T07:18:50.362819Z",
          "shell.execute_reply": "2023-06-28T07:18:50.361774Z"
        },
        "papermill": {
          "duration": 0.024242,
          "end_time": "2023-06-28T07:18:50.365039",
          "exception": false,
          "start_time": "2023-06-28T07:18:50.340797",
          "status": "completed"
        },
        "tags": [],
        "id": "78sDe6LmL8bw"
      },
      "execution_count": 21,
      "outputs": []
    },
    {
      "cell_type": "markdown",
      "source": [
        "    if debug2 == False:\n",
        "        for a in range(epochs):\n",
        "            for b in train_dataloader:\n",
        "                break\n",
        "\n",
        "        losses,train_rme_loss = training(train_dataloader,model,optimizer,scheduler)\n",
        "\n",
        "        for a in valid_dataloader:\n",
        "            break"
      ],
      "metadata": {
        "_kg_hide-output": true,
        "execution": {
          "iopub.execute_input": "2023-06-28T07:18:50.544897Z",
          "iopub.status.busy": "2023-06-28T07:18:50.542988Z",
          "iopub.status.idle": "2023-06-28T07:20:42.634766Z",
          "shell.execute_reply": "2023-06-28T07:20:42.633451Z"
        },
        "papermill": {
          "duration": 112.111069,
          "end_time": "2023-06-28T07:20:42.637548",
          "exception": false,
          "start_time": "2023-06-28T07:18:50.526479",
          "status": "completed"
        },
        "tags": [],
        "id": "pIlHUfYlL8bz"
      }
    },
    {
      "cell_type": "markdown",
      "source": [
        "## Training the model"
      ],
      "metadata": {
        "papermill": {
          "duration": 0.016092,
          "end_time": "2023-06-28T07:20:42.670622",
          "exception": false,
          "start_time": "2023-06-28T07:20:42.65453",
          "status": "completed"
        },
        "tags": [],
        "id": "ofo6jln3L8b0"
      }
    },
    {
      "cell_type": "markdown",
      "source": [
        "Avant de passer au training nous créons le schéduler qui va permettre à l'optimizer de piloter le taux d'apprentisage."
      ],
      "metadata": {
        "id": "BNJkMU2y7_2p"
      }
    },
    {
      "cell_type": "code",
      "source": [
        "epochs = 5\n",
        "\n",
        "if debug:\n",
        "  epochs = 1\n",
        "\n",
        "train_steps = int(len(train)/train_batch*epochs)\n",
        "print(\"Number of training step : \" + str(train_steps))\n",
        "num_steps = int(train_steps*0.1)\n",
        "scheduler = get_linear_schedule_with_warmup(optimizer, num_steps, train_steps)"
      ],
      "metadata": {
        "_kg_hide-output": true,
        "execution": {
          "iopub.execute_input": "2023-06-28T07:18:50.317612Z",
          "iopub.status.busy": "2023-06-28T07:18:50.315593Z",
          "iopub.status.idle": "2023-06-28T07:18:50.323647Z",
          "shell.execute_reply": "2023-06-28T07:18:50.322517Z"
        },
        "papermill": {
          "duration": 0.026503,
          "end_time": "2023-06-28T07:18:50.325816",
          "exception": false,
          "start_time": "2023-06-28T07:18:50.299313",
          "status": "completed"
        },
        "tags": [],
        "id": "SPPYODshL8bv",
        "colab": {
          "base_uri": "https://localhost:8080/"
        },
        "outputId": "48ef8abb-e1d2-42da-f7b9-29031e034960"
      },
      "execution_count": 22,
      "outputs": [
        {
          "output_type": "stream",
          "name": "stdout",
          "text": [
            "Number of training step : 2067\n"
          ]
        }
      ]
    },
    {
      "cell_type": "code",
      "source": [
        "trainlosses = []\n",
        "vallosses = []\n",
        "bestscore = None\n",
        "trainscores = []\n",
        "validscores = []\n",
        "scaler = torch.cuda.amp.GradScaler()\n",
        "\n",
        "\n",
        "for epoch in tqdm(range(epochs)):\n",
        "    print(\"--------------- start epoch \" + str(epoch) + \" ---------------\")\n",
        "\n",
        "    trainloss,trainscore = training(train_dataloader,model,optimizer,scheduler,scaler, loss_fn)\n",
        "    trainlosses.append(trainloss)\n",
        "    trainscores.append(trainscore)\n",
        "\n",
        "    print(\"trainscore is \" + str(trainscore))\n",
        "\n",
        "    preds,validloss,valscore=validating(valid_dataloader,model)\n",
        "    vallosses.append(validloss)\n",
        "    validscores.append(valscore)\n",
        "\n",
        "    print(\"valscore is \" + str(valscore))\n",
        "\n",
        "    if bestscore is None or bestscore < valscore:\n",
        "        bestscore = valscore\n",
        "\n",
        "        # Sauvegarde uniquement si la performance de validation est améliorée\n",
        "        state = {\n",
        "            'state_dict': model.state_dict(),\n",
        "            'optimizer_dict': optimizer.state_dict(),\n",
        "            \"bestscore\": bestscore\n",
        "        }\n",
        "        torch.save(state, \"best_model.pth\")\n"
      ],
      "metadata": {
        "execution": {
          "iopub.execute_input": "2023-06-28T07:20:42.706297Z",
          "iopub.status.busy": "2023-06-28T07:20:42.70517Z",
          "iopub.status.idle": "2023-06-28T07:24:40.144393Z",
          "shell.execute_reply": "2023-06-28T07:24:40.143295Z"
        },
        "papermill": {
          "duration": 237.459602,
          "end_time": "2023-06-28T07:24:40.146621",
          "exception": false,
          "start_time": "2023-06-28T07:20:42.687019",
          "status": "completed"
        },
        "tags": [],
        "_kg_hide-output": true,
        "id": "_k1h8LFLL8b0",
        "colab": {
          "base_uri": "https://localhost:8080/"
        },
        "outputId": "f553066b-6acb-4d5e-e6c0-d61b55676473"
      },
      "execution_count": 23,
      "outputs": [
        {
          "output_type": "stream",
          "name": "stderr",
          "text": [
            "\r  0%|          | 0/5 [00:00<?, ?it/s]"
          ]
        },
        {
          "output_type": "stream",
          "name": "stdout",
          "text": [
            "--------------- start epoch 0 ---------------\n",
            "trainscore is 1.4637226\n",
            "valscore is 1.8376316\n"
          ]
        },
        {
          "output_type": "stream",
          "name": "stderr",
          "text": [
            "\r 20%|██        | 1/5 [01:27<05:49, 87.29s/it]"
          ]
        },
        {
          "output_type": "stream",
          "name": "stdout",
          "text": [
            "--------------- start epoch 1 ---------------\n",
            "trainscore is 1.936534\n",
            "valscore is 2.5339248\n"
          ]
        },
        {
          "output_type": "stream",
          "name": "stderr",
          "text": [
            "\r 40%|████      | 2/5 [02:57<04:27, 89.14s/it]"
          ]
        },
        {
          "output_type": "stream",
          "name": "stdout",
          "text": [
            "--------------- start epoch 2 ---------------\n",
            "trainscore is 2.3867142\n",
            "valscore is 3.0121095\n"
          ]
        },
        {
          "output_type": "stream",
          "name": "stderr",
          "text": [
            "\r 60%|██████    | 3/5 [04:28<02:59, 89.74s/it]"
          ]
        },
        {
          "output_type": "stream",
          "name": "stdout",
          "text": [
            "--------------- start epoch 3 ---------------\n",
            "trainscore is 2.880987\n",
            "valscore is 3.4321432\n"
          ]
        },
        {
          "output_type": "stream",
          "name": "stderr",
          "text": [
            "\r 80%|████████  | 4/5 [05:50<01:26, 86.87s/it]"
          ]
        },
        {
          "output_type": "stream",
          "name": "stdout",
          "text": [
            "--------------- start epoch 4 ---------------\n",
            "trainscore is 3.1632037\n",
            "valscore is 3.6854212\n"
          ]
        },
        {
          "output_type": "stream",
          "name": "stderr",
          "text": [
            "100%|██████████| 5/5 [07:12<00:00, 86.59s/it]\n"
          ]
        }
      ]
    },
    {
      "cell_type": "markdown",
      "source": [
        "## Results"
      ],
      "metadata": {
        "id": "BgRLFsJvm4eC"
      }
    },
    {
      "cell_type": "code",
      "source": [
        "print(\"train losses: \", trainlosses)\n",
        "print(\"val losses: \", vallosses)\n",
        "print(\"train scores: \", trainscores)\n",
        "print(\"valid scores: \", validscores)"
      ],
      "metadata": {
        "id": "2ZWp3snyG7JE",
        "colab": {
          "base_uri": "https://localhost:8080/"
        },
        "outputId": "0ee49761-bc4b-4715-fd56-d2a582b325e4"
      },
      "execution_count": 24,
      "outputs": [
        {
          "output_type": "stream",
          "name": "stdout",
          "text": [
            "train losses:  [0.49574199318885803, 0.06419338285923004, 0.38955336809158325, 0.17896422743797302, 0.9201802015304565]\n",
            "val losses:  [0.5166272521018982, 0.4863310754299164, 0.31512731313705444, 0.27069324254989624, 0.247933030128479]\n",
            "train scores:  [1.4637226, 1.936534, 2.3867142, 2.880987, 3.1632037]\n",
            "valid scores:  [1.8376316, 2.5339248, 3.0121095, 3.4321432, 3.6854212]\n"
          ]
        }
      ]
    },
    {
      "cell_type": "code",
      "source": [
        "plt.figure(figsize=(6, 6))\n",
        "\n",
        "plt.subplot(2, 1, 1)\n",
        "x = np.arange(len(trainlosses))\n",
        "plt.title('Validation Losses')\n",
        "plt.xlabel('Epoch')\n",
        "plt.ylabel('Loss')\n",
        "plt.plot(x, trainlosses, label='Training Loss')\n",
        "plt.plot(x, vallosses, label='Validation Loss')\n",
        "plt.legend()\n",
        "\n",
        "plt.subplot(2, 1, 2)\n",
        "x = np.arange(len(trainscores))\n",
        "plt.title('Validation Scores')\n",
        "plt.xlabel('Epoch')\n",
        "plt.ylabel('Score')\n",
        "plt.plot(x, trainscores, label='Training Score')\n",
        "plt.plot(x, validscores, label='Validation Score')\n",
        "plt.legend()\n",
        "\n",
        "plt.tight_layout()\n",
        "plt.show()"
      ],
      "metadata": {
        "execution": {
          "iopub.execute_input": "2023-06-28T07:24:40.189305Z",
          "iopub.status.busy": "2023-06-28T07:24:40.188964Z",
          "iopub.status.idle": "2023-06-28T07:24:40.940249Z",
          "shell.execute_reply": "2023-06-28T07:24:40.93935Z"
        },
        "papermill": {
          "duration": 0.775119,
          "end_time": "2023-06-28T07:24:40.942226",
          "exception": false,
          "start_time": "2023-06-28T07:24:40.167107",
          "status": "completed"
        },
        "tags": [],
        "id": "kFOq7KbEL8b2",
        "colab": {
          "base_uri": "https://localhost:8080/",
          "height": 607
        },
        "outputId": "de0cf2a5-7091-4b22-9fcd-ee184d194a67"
      },
      "execution_count": 25,
      "outputs": [
        {
          "output_type": "display_data",
          "data": {
            "text/plain": [
              "<Figure size 600x600 with 2 Axes>"
            ],
            "image/png": "[encoded data removed]"
          },
          "metadata": {}
        }
      ]
    },
    {
      "cell_type": "code",
      "source": [
        "val_true = valid['targets']\n",
        "\n",
        "val_pred = [ 0 if (p<0) else 1 for p in preds]\n",
        "\n",
        "plt.scatter(val_true,val_pred, alpha=0.2)\n",
        "plt.title('Validation Prediction Result')\n",
        "plt.xlabel('Actual')\n",
        "plt.ylabel('Prediction')\n",
        "plt.show()\n",
        "\n",
        "print(\"\")\n",
        "print(classification_report(val_true,val_pred,target_names=class_names,digits=4))"
      ],
      "metadata": {
        "execution": {
          "iopub.execute_input": "2023-06-28T07:24:40.986839Z",
          "iopub.status.busy": "2023-06-28T07:24:40.98602Z",
          "iopub.status.idle": "2023-06-28T07:24:41.022Z",
          "shell.execute_reply": "2023-06-28T07:24:41.020977Z"
        },
        "papermill": {
          "duration": 0.060191,
          "end_time": "2023-06-28T07:24:41.024065",
          "exception": false,
          "start_time": "2023-06-28T07:24:40.963874",
          "status": "completed"
        },
        "tags": [],
        "id": "E0h3ex32L8b3",
        "colab": {
          "base_uri": "https://localhost:8080/",
          "height": 646
        },
        "outputId": "fd436ec0-00de-4b97-c76e-59563a2b0cb8"
      },
      "execution_count": 26,
      "outputs": [
        {
          "output_type": "display_data",
          "data": {
            "text/plain": [
              "<Figure size 640x480 with 1 Axes>"
            ],
            "image/png": "[encoded data removed]"
          },
          "metadata": {}
        },
        {
          "output_type": "stream",
          "name": "stdout",
          "text": [
            "\n",
            "              precision    recall  f1-score   support\n",
            "\n",
            "         ham     0.9068    0.9511    0.9284       593\n",
            "        spam     0.8592    0.7532    0.8027       235\n",
            "\n",
            "    accuracy                         0.8949       828\n",
            "   macro avg     0.8830    0.8521    0.8656       828\n",
            "weighted avg     0.8933    0.8949    0.8927       828\n",
            "\n"
          ]
        }
      ]
    },
    {
      "cell_type": "markdown",
      "source": [
        "Comme on peut le voir les résultats sont plutôt bons. La précision globale (accuracy) du modèle est d'environ de 85%.\n",
        "\n",
        "Cependant on remarque bien que les performances sont bien meilleures pour la classe Ham que pour celle des spam. Le manque d'échantillions dû à la répartiton des lables dans le training set peut en être la cause.\n",
        "\n",
        "Par ailleurs les faux postifs et négatifs sont primordiaux dans notre cas. En effet on souhaite évitez que les mails légitimes soient classifiés comme spam. Ici on trouve qu'environ 20% des spams ne le sont enfaite pas, ce qui n'est idéal."
      ],
      "metadata": {
        "id": "v9h1LrdL7Jrm"
      }
    },
    {
      "cell_type": "markdown",
      "source": [
        "# Cross validation"
      ],
      "metadata": {
        "papermill": {
          "duration": 0.020963,
          "end_time": "2023-06-28T07:24:41.06684",
          "exception": false,
          "start_time": "2023-06-28T07:24:41.045877",
          "status": "completed"
        },
        "tags": [],
        "id": "awdAVU6oL8b3"
      }
    },
    {
      "cell_type": "markdown",
      "source": [
        "## Generating the folds"
      ],
      "metadata": {
        "id": "jviEge3LNnI8"
      }
    },
    {
      "cell_type": "markdown",
      "source": [
        "Au vu des précédents résultats nous allons essayer d'améliorer les performances de notre modèle. Une des pistes d'améliorations est d'augmenter le volume de données d'entraînement. Ceependant il existe peu de dataset qui traite de la classification de spam, peut être car les gens ne sont pas enclins à partager leurs infos personnelles.\n",
        "\n",
        "Nous avons donc décidé de procéder à une cross valdiation. Cette technique permet de générer plusieurs entraînement différents à partir des mêmes données en les découpant en plis et en les mélangeant pour créer un nouveau dataset."
      ],
      "metadata": {
        "id": "8J3pbFkvPUU2"
      }
    },
    {
      "cell_type": "code",
      "source": [
        "fold_number = 5\n",
        "\n",
        "train, test = train_test_split(data, test_size=0.2, random_state=SEED)\n",
        "\n",
        "shuffled_data = train.sample(frac=1, random_state=SEED).reset_index(drop=True)\n",
        "shuffled_data[\"kfold\"] = shuffled_data.index % fold_number\n",
        "\n",
        "# Separate into train, validation, and test sets\n",
        "p_train = shuffled_data[shuffled_data[\"kfold\"] != 0].reset_index(drop=True)\n",
        "p_valid = shuffled_data[shuffled_data[\"kfold\"] == 0].reset_index(drop=True)\n",
        "p_test = test.reset_index(drop=True)\n",
        "\n",
        "print(\"Training set:\")\n",
        "print(p_train)\n",
        "print(\"\\nValidation set:\")\n",
        "print(p_valid)"
      ],
      "metadata": {
        "id": "XYNR1WMtOAKb",
        "colab": {
          "base_uri": "https://localhost:8080/"
        },
        "outputId": "3958b9d4-7bb9-43dc-928d-eca971c98bfa"
      },
      "execution_count": 27,
      "outputs": [
        {
          "output_type": "stream",
          "name": "stdout",
          "text": [
            "Training set:\n",
            "     label                                               text  targets  kfold\n",
            "0      ham  Subject: industrial accounts\\r\\ni will leave r...        0      1\n",
            "1      ham  Subject: april - - - flexible katy gas\\r\\nfyi ...        0      2\n",
            "2      ham  Subject: re : aquila header - 12 / 12 / 00 flo...        0      3\n",
            "3     spam  Subject: adobe 75 % off ! !\\r\\ntable align = c...        1      4\n",
            "4      ham  Subject: koch midstream services co\\r\\ni have ...        0      1\n",
            "...    ...                                                ...      ...    ...\n",
            "3303  spam  Subject: = ? iso - 8859 - 7 ? q ? = 5 b = 3 f ...        1      4\n",
            "3304   ham  Subject: hpl nom for october 27 , 2000\\r\\n( se...        0      1\n",
            "3305  spam  Subject: lose while you sleep ! as seen on opr...        1      2\n",
            "3306   ham  Subject: cornhusker for sept\\r\\ni was informed...        0      3\n",
            "3307   ham  Subject: may hours survey\\r\\nif you guys remeb...        0      4\n",
            "\n",
            "[3308 rows x 4 columns]\n",
            "\n",
            "Validation set:\n",
            "    label                                               text  targets  kfold\n",
            "0     ham  Subject: eastrans nomination change effective ...        0      0\n",
            "1     ham  Subject: re : valero rfp issued june 1 , 2001\\...        0      0\n",
            "2     ham  Subject: hpl nom for sept . 20 , 2000\\r\\n( see...        0      0\n",
            "3    spam  Subject: hardcore mpegs downloads\\r\\nathens ex...        1      0\n",
            "4     ham  Subject: equistar swing 5 / 01\\r\\nwe need to a...        0      0\n",
            "..    ...                                                ...      ...    ...\n",
            "823   ham  Subject: txu fuels / sds nomination for decemb...        0      0\n",
            "824   ham  Subject: josey ranch est . - - apr . 2000\\r\\n-...        0      0\n",
            "825   ham  Subject: initial - cp name change / merger 3 /...        0      0\n",
            "826   ham  Subject: hl & p month to date\\r\\nattached is t...        0      0\n",
            "827   ham  Subject: re : physical storage\\r\\nwe don ' t h...        0      0\n",
            "\n",
            "[828 rows x 4 columns]\n"
          ]
        }
      ]
    },
    {
      "cell_type": "markdown",
      "source": [
        "## Visualizing the folds"
      ],
      "metadata": {
        "id": "6R_NeJCqNihk"
      }
    },
    {
      "cell_type": "markdown",
      "source": [
        "La répartiton des labels étant complétement aléatoire il nous a semblé judicieux de visualier les différents folds. Certaines répartitons atypiqyes (style 95% ham - 5% spam) pourrait expliquer certaiens exemples étonants."
      ],
      "metadata": {
        "id": "AxASoUDuATJF"
      }
    },
    {
      "cell_type": "code",
      "source": [
        "for fold in range(1, fold_number):\n",
        "    print(\"Label repartition in fold\", fold)\n",
        "    label_count = p_train[p_train['kfold'] != fold]['label'].value_counts().sort_index()\n",
        "    print(label_count)\n",
        "    print(\"\")\n",
        "\n",
        "fig_ham, ax_ham = plt.subplots(figsize=(12, 8))\n",
        "fig_spam, ax_spam = plt.subplots(figsize=(12, 8))\n",
        "\n",
        "for fold in range(1, fold_number):\n",
        "    p_train_fold = p_train[p_train[\"kfold\"] != fold].reset_index(drop=True)\n",
        "    label_count = p_train_fold['label'].value_counts().sort_index()\n",
        "\n",
        "    # Plot the distribution for each fold on the ham or spam plot\n",
        "    positions = range(len(label_count))\n",
        "    if 'ham' in label_count.index:\n",
        "        ax_ham.bar([pos + (fold - 1) * 0.2 for pos in positions], label_count['ham'], width=0.2, label=f'Fold {fold}')\n",
        "    if 'spam' in label_count.index:\n",
        "        ax_spam.bar([pos + (fold - 1) * 0.2 for pos in positions], label_count['spam'], width=0.2, label=f'Fold {fold}')\n",
        "\n",
        "# Set titles and labels for ham plot\n",
        "ax_ham.set_title('Label Distribution Across Folds (ham)')\n",
        "ax_ham.set_xlabel('Label')\n",
        "ax_ham.set_ylabel('Count')\n",
        "ax_ham.legend()\n",
        "\n",
        "# Set titles and labels for spam plot\n",
        "ax_spam.set_title('Label Distribution Across Folds (spam)')\n",
        "ax_spam.set_xlabel('Label')\n",
        "ax_spam.set_ylabel('Count')\n",
        "ax_spam.legend()\n",
        "\n",
        "plt.show()"
      ],
      "metadata": {
        "id": "4A59419rCjPI",
        "colab": {
          "base_uri": "https://localhost:8080/",
          "height": 1000
        },
        "outputId": "a049486c-16aa-4323-f221-af840c66000e"
      },
      "execution_count": 28,
      "outputs": [
        {
          "output_type": "stream",
          "name": "stdout",
          "text": [
            "Label repartition in fold 1\n",
            "ham     1784\n",
            "spam     697\n",
            "Name: label, dtype: int64\n",
            "\n",
            "Label repartition in fold 2\n",
            "ham     1755\n",
            "spam     726\n",
            "Name: label, dtype: int64\n",
            "\n",
            "Label repartition in fold 3\n",
            "ham     1766\n",
            "spam     715\n",
            "Name: label, dtype: int64\n",
            "\n",
            "Label repartition in fold 4\n",
            "ham     1763\n",
            "spam     718\n",
            "Name: label, dtype: int64\n",
            "\n"
          ]
        },
        {
          "output_type": "display_data",
          "data": {
            "text/plain": [
              "<Figure size 1200x800 with 1 Axes>"
            ],
            "image/png": "[encoded data removed]"
          },
          "metadata": {}
        },
        {
          "output_type": "display_data",
          "data": {
            "text/plain": [
              "<Figure size 1200x800 with 1 Axes>"
            ],
            "image/png": "[encoded data removed]"
          },
          "metadata": {}
        }
      ]
    },
    {
      "cell_type": "markdown",
      "source": [
        "## Computing"
      ],
      "metadata": {
        "id": "YjkoAxBCthWk"
      }
    },
    {
      "cell_type": "code",
      "source": [
        "foldscores = []\n",
        "foldtrainlosses = []\n",
        "foldvallosses = []\n",
        "foldtrainscores = []\n",
        "foldvalidscores = []\n",
        "\n",
        "for fold in range(0,fold_number):\n",
        "\n",
        "    print(\"~~~~~~~~~~~~~~~~ start fold \" + str(fold) + \" ~~~~~~~~~~~~~~~~\")\n",
        "\n",
        "    # Initializing the data\n",
        "    p_train_fold = shuffled_data[shuffled_data[\"kfold\"]!=fold].reset_index(drop=True)\n",
        "    p_valid_fold = shuffled_data[shuffled_data[\"kfold\"]==fold].reset_index(drop=True)\n",
        "\n",
        "    train_dataset = BERTDataSet(p_train_fold[\"text\"],p_train_fold['targets'])\n",
        "    valid_dataset = BERTDataSet(p_valid_fold[\"text\"],p_valid_fold['targets'])\n",
        "\n",
        "    train_dataloader = DataLoader(train_dataset,batch_size=train_batch,shuffle = True,num_workers=4,pin_memory=True)\n",
        "    valid_dataloader = DataLoader(valid_dataset,batch_size=valid_batch,shuffle = False,num_workers=4,pin_memory=True)\n",
        "\n",
        "    # # Initializing the model\n",
        "    #model = transformers.XLMRobertaForSequenceClassification.from_pretrained(\"alexandrainst/da-ned-base\", num_labels=2, ignore_mismatched_sizes=True)\n",
        "    #model.to(device)\n",
        "\n",
        "    #LR=2e-5\n",
        "    #optimizer = AdamW(model.parameters(), LR,betas=(0.9, 0.999), weight_decay=1e-2) # AdamW optimizer\n",
        "\n",
        "    # # Initializing the scheduler\n",
        "    train_steps = int(len(p_train_fold)/train_batch*epochs)\n",
        "    num_steps = int(train_steps*0.1)\n",
        "    scheduler = get_linear_schedule_with_warmup(optimizer, num_steps, train_steps)\n",
        "\n",
        "    trainlosses = []\n",
        "    vallosses = []\n",
        "    foldscore = None\n",
        "    trainscores = []\n",
        "    validscores = []\n",
        "\n",
        "    for epoch in tqdm(range(epochs)):\n",
        "\n",
        "      print(\"--------------- start epoch \" + str(epoch) + \" ---------------\")\n",
        "\n",
        "      trainloss,trainscore = training(train_dataloader,model,optimizer,scheduler,scaler, loss_fn)\n",
        "      trainlosses.append(trainloss)\n",
        "      trainscores.append(trainscore)\n",
        "\n",
        "      print(\"trainscore is \" + str(trainscore))\n",
        "\n",
        "      preds,validloss,valscore=validating(valid_dataloader,model)\n",
        "      vallosses.append(validloss)\n",
        "      validscores.append(valscore)\n",
        "\n",
        "      print(\"valscore is \" + str(valscore))\n",
        "      time.sleep(1) #Fix the print\n",
        "\n",
        "      if foldscore is None or foldscore < valscore:\n",
        "        foldscore = valscore\n",
        "\n",
        "        # Sauvegarde uniquement si la performance de validation est améliorée\n",
        "        state = {\n",
        "            'state_dict': model.state_dict(),\n",
        "            'optimizer_dict': optimizer.state_dict(),\n",
        "            \"bestscore\": foldscore\n",
        "        }\n",
        "        torch.save(state, \"model_fold_\" + str(fold) + \".pth\")\n",
        "\n",
        "    foldscores.append(foldscore)\n",
        "    foldtrainlosses.append(trainlosses)\n",
        "    foldvallosses.append(vallosses)\n",
        "    foldtrainscores.append(trainscores)\n",
        "    foldvalidscores.append(validscores)\n",
        "\n"
      ],
      "metadata": {
        "_kg_hide-output": true,
        "execution": {
          "iopub.execute_input": "2023-06-28T07:24:41.111389Z",
          "iopub.status.busy": "2023-06-28T07:24:41.110637Z",
          "iopub.status.idle": "2023-06-28T07:40:50.388375Z",
          "shell.execute_reply": "2023-06-28T07:40:50.386917Z"
        },
        "papermill": {
          "duration": 969.305172,
          "end_time": "2023-06-28T07:40:50.393338",
          "exception": false,
          "start_time": "2023-06-28T07:24:41.088166",
          "status": "completed"
        },
        "tags": [],
        "id": "xnklQs15L8b4",
        "colab": {
          "base_uri": "https://localhost:8080/"
        },
        "outputId": "c3630c25-2030-4d06-9e67-8fed1d3a0c15"
      },
      "execution_count": 29,
      "outputs": [
        {
          "metadata": {
            "tags": null
          },
          "name": "stdout",
          "output_type": "stream",
          "text": [
            "~~~~~~~~~~~~~~~~ start fold 0 ~~~~~~~~~~~~~~~~\n"
          ]
        },
        {
          "metadata": {
            "tags": null
          },
          "name": "stderr",
          "output_type": "stream",
          "text": [
            "\r  0%|          | 0/5 [00:00<?, ?it/s]"
          ]
        },
        {
          "metadata": {
            "tags": null
          },
          "name": "stdout",
          "output_type": "stream",
          "text": [
            "--------------- start epoch 0 ---------------\n",
            "trainscore is 3.0064812\n",
            "valscore is 3.340952\n"
          ]
        },
        {
          "metadata": {
            "tags": null
          },
          "name": "stderr",
          "output_type": "stream",
          "text": [
            "\r 20%|██        | 1/5 [01:31<06:07, 91.91s/it]"
          ]
        },
        {
          "metadata": {
            "tags": null
          },
          "name": "stdout",
          "output_type": "stream",
          "text": [
            "--------------- start epoch 1 ---------------\n",
            "trainscore is 3.3551888\n",
            "valscore is 4.3663607\n"
          ]
        },
        {
          "metadata": {
            "tags": null
          },
          "name": "stderr",
          "output_type": "stream",
          "text": [
            "\r 40%|████      | 2/5 [02:48<04:08, 82.91s/it]"
          ]
        },
        {
          "metadata": {
            "tags": null
          },
          "name": "stdout",
          "output_type": "stream",
          "text": [
            "--------------- start epoch 2 ---------------\n",
            "trainscore is 4.192003\n",
            "valscore is 4.6813025\n"
          ]
        },
        {
          "metadata": {
            "tags": null
          },
          "name": "stderr",
          "output_type": "stream",
          "text": [
            "\r 60%|██████    | 3/5 [04:09<02:44, 82.19s/it]"
          ]
        },
        {
          "metadata": {
            "tags": null
          },
          "name": "stdout",
          "output_type": "stream",
          "text": [
            "--------------- start epoch 3 ---------------\n",
            "trainscore is 4.576636\n",
            "valscore is 5.194027\n"
          ]
        },
        {
          "metadata": {
            "tags": null
          },
          "name": "stderr",
          "output_type": "stream",
          "text": [
            "\r 80%|████████  | 4/5 [05:42<01:26, 86.13s/it]"
          ]
        },
        {
          "metadata": {
            "tags": null
          },
          "name": "stdout",
          "output_type": "stream",
          "text": [
            "--------------- start epoch 4 ---------------\n",
            "trainscore is 5.0039454\n",
            "valscore is 5.484236\n"
          ]
        },
        {
          "metadata": {
            "tags": null
          },
          "name": "stderr",
          "output_type": "stream",
          "text": [
            "100%|██████████| 5/5 [07:04<00:00, 84.84s/it]\n"
          ]
        },
        {
          "metadata": {
            "tags": null
          },
          "name": "stdout",
          "output_type": "stream",
          "text": [
            "~~~~~~~~~~~~~~~~ start fold 1 ~~~~~~~~~~~~~~~~\n"
          ]
        },
        {
          "metadata": {
            "tags": null
          },
          "name": "stderr",
          "output_type": "stream",
          "text": [
            "\r  0%|          | 0/5 [00:00<?, ?it/s]"
          ]
        },
        {
          "metadata": {
            "tags": null
          },
          "name": "stdout",
          "output_type": "stream",
          "text": [
            "--------------- start epoch 0 ---------------\n",
            "trainscore is 4.580475\n",
            "valscore is 3.234977\n"
          ]
        },
        {
          "metadata": {
            "tags": null
          },
          "name": "stderr",
          "output_type": "stream",
          "text": [
            "\r 20%|██        | 1/5 [01:24<05:38, 84.60s/it]"
          ]
        },
        {
          "metadata": {
            "tags": null
          },
          "name": "stdout",
          "output_type": "stream",
          "text": [
            "--------------- start epoch 1 ---------------\n",
            "trainscore is 4.1952214\n",
            "valscore is 4.8269024\n"
          ]
        },
        {
          "metadata": {
            "tags": null
          },
          "name": "stderr",
          "output_type": "stream",
          "text": [
            "\r 40%|████      | 2/5 [02:43<04:03, 81.12s/it]"
          ]
        },
        {
          "metadata": {
            "tags": null
          },
          "name": "stdout",
          "output_type": "stream",
          "text": [
            "--------------- start epoch 2 ---------------\n",
            "trainscore is 4.7363167\n",
            "valscore is 5.4005184\n"
          ]
        },
        {
          "metadata": {
            "tags": null
          },
          "name": "stderr",
          "output_type": "stream",
          "text": [
            "\r 60%|██████    | 3/5 [04:12<02:49, 84.60s/it]"
          ]
        },
        {
          "metadata": {
            "tags": null
          },
          "name": "stdout",
          "output_type": "stream",
          "text": [
            "--------------- start epoch 3 ---------------\n",
            "trainscore is 5.381279\n",
            "valscore is 6.0257983\n"
          ]
        },
        {
          "metadata": {
            "tags": null
          },
          "name": "stderr",
          "output_type": "stream",
          "text": [
            "\r 80%|████████  | 4/5 [05:29<01:21, 81.69s/it]"
          ]
        },
        {
          "metadata": {
            "tags": null
          },
          "name": "stdout",
          "output_type": "stream",
          "text": [
            "--------------- start epoch 4 ---------------\n",
            "trainscore is 5.8520174\n",
            "valscore is 6.2513986\n"
          ]
        },
        {
          "metadata": {
            "tags": null
          },
          "name": "stderr",
          "output_type": "stream",
          "text": [
            "100%|██████████| 5/5 [06:46<00:00, 81.38s/it]\n"
          ]
        },
        {
          "metadata": {
            "tags": null
          },
          "name": "stdout",
          "output_type": "stream",
          "text": [
            "~~~~~~~~~~~~~~~~ start fold 2 ~~~~~~~~~~~~~~~~\n"
          ]
        },
        {
          "metadata": {
            "tags": null
          },
          "name": "stderr",
          "output_type": "stream",
          "text": [
            "\r  0%|          | 0/5 [00:00<?, ?it/s]"
          ]
        },
        {
          "metadata": {
            "tags": null
          },
          "name": "stdout",
          "output_type": "stream",
          "text": [
            "--------------- start epoch 0 ---------------\n",
            "trainscore is 5.390482\n",
            "valscore is 6.0025654\n"
          ]
        },
        {
          "metadata": {
            "tags": null
          },
          "name": "stderr",
          "output_type": "stream",
          "text": [
            "\r 20%|██        | 1/5 [01:26<05:44, 86.18s/it]"
          ]
        },
        {
          "metadata": {
            "tags": null
          },
          "name": "stdout",
          "output_type": "stream",
          "text": [
            "--------------- start epoch 1 ---------------\n",
            "trainscore is 5.2944074\n",
            "valscore is 6.369721\n"
          ]
        },
        {
          "metadata": {
            "tags": null
          },
          "name": "stderr",
          "output_type": "stream",
          "text": [
            "\r 40%|████      | 2/5 [02:48<04:11, 83.92s/it]"
          ]
        },
        {
          "metadata": {
            "tags": null
          },
          "name": "stdout",
          "output_type": "stream",
          "text": [
            "--------------- start epoch 2 ---------------\n",
            "trainscore is 5.8486776\n",
            "valscore is 6.6689887\n"
          ]
        },
        {
          "metadata": {
            "tags": null
          },
          "name": "stderr",
          "output_type": "stream",
          "text": [
            "\r 60%|██████    | 3/5 [04:22<02:56, 88.45s/it]"
          ]
        },
        {
          "metadata": {
            "tags": null
          },
          "name": "stdout",
          "output_type": "stream",
          "text": [
            "--------------- start epoch 3 ---------------\n",
            "trainscore is 6.383096\n",
            "valscore is 6.9950237\n"
          ]
        },
        {
          "metadata": {
            "tags": null
          },
          "name": "stderr",
          "output_type": "stream",
          "text": [
            "\r 80%|████████  | 4/5 [05:49<01:28, 88.06s/it]"
          ]
        },
        {
          "metadata": {
            "tags": null
          },
          "name": "stdout",
          "output_type": "stream",
          "text": [
            "--------------- start epoch 4 ---------------\n",
            "trainscore is 6.607295\n",
            "valscore is 7.100476\n"
          ]
        },
        {
          "metadata": {
            "tags": null
          },
          "name": "stderr",
          "output_type": "stream",
          "text": [
            "100%|██████████| 5/5 [07:06<00:00, 85.32s/it]\n"
          ]
        },
        {
          "metadata": {
            "tags": null
          },
          "name": "stdout",
          "output_type": "stream",
          "text": [
            "~~~~~~~~~~~~~~~~ start fold 3 ~~~~~~~~~~~~~~~~\n"
          ]
        },
        {
          "metadata": {
            "tags": null
          },
          "name": "stderr",
          "output_type": "stream",
          "text": [
            "\r  0%|          | 0/5 [00:00<?, ?it/s]"
          ]
        },
        {
          "output_type": "stream",
          "name": "stdout",
          "text": [
            "--------------- start epoch 0 ---------------\n",
            "trainscore is 6.2065444\n",
            "valscore is 6.6013446\n"
          ]
        },
        {
          "output_type": "stream",
          "name": "stderr",
          "text": [
            "\r 20%|██        | 1/5 [01:21<05:27, 81.75s/it]"
          ]
        },
        {
          "output_type": "stream",
          "name": "stdout",
          "text": [
            "--------------- start epoch 1 ---------------\n",
            "trainscore is 5.8279486\n",
            "valscore is 5.8700676\n"
          ]
        },
        {
          "output_type": "stream",
          "name": "stderr",
          "text": [
            "\r 40%|████      | 2/5 [02:20<03:24, 68.05s/it]"
          ]
        },
        {
          "output_type": "stream",
          "name": "stdout",
          "text": [
            "--------------- start epoch 2 ---------------\n",
            "trainscore is 5.8073606\n",
            "valscore is 5.8846664\n"
          ]
        },
        {
          "output_type": "stream",
          "name": "stderr",
          "text": [
            "\r 60%|██████    | 3/5 [03:19<02:08, 64.01s/it]"
          ]
        },
        {
          "output_type": "stream",
          "name": "stdout",
          "text": [
            "--------------- start epoch 3 ---------------\n",
            "trainscore is 5.949602\n",
            "valscore is 6.692912\n"
          ]
        },
        {
          "output_type": "stream",
          "name": "stderr",
          "text": [
            "\r 80%|████████  | 4/5 [04:46<01:13, 73.17s/it]"
          ]
        },
        {
          "output_type": "stream",
          "name": "stdout",
          "text": [
            "--------------- start epoch 4 ---------------\n",
            "trainscore is 6.3719025\n",
            "valscore is 7.0279527\n"
          ]
        },
        {
          "output_type": "stream",
          "name": "stderr",
          "text": [
            "100%|██████████| 5/5 [06:13<00:00, 74.68s/it]\n"
          ]
        },
        {
          "output_type": "stream",
          "name": "stdout",
          "text": [
            "~~~~~~~~~~~~~~~~ start fold 4 ~~~~~~~~~~~~~~~~\n"
          ]
        },
        {
          "output_type": "stream",
          "name": "stderr",
          "text": [
            "\r  0%|          | 0/5 [00:00<?, ?it/s]"
          ]
        },
        {
          "output_type": "stream",
          "name": "stdout",
          "text": [
            "--------------- start epoch 0 ---------------\n",
            "trainscore is 6.0921087\n",
            "valscore is 5.751215\n"
          ]
        },
        {
          "output_type": "stream",
          "name": "stderr",
          "text": [
            "\r 20%|██        | 1/5 [01:27<05:49, 87.34s/it]"
          ]
        },
        {
          "output_type": "stream",
          "name": "stdout",
          "text": [
            "--------------- start epoch 1 ---------------\n",
            "trainscore is 5.757853\n",
            "valscore is 6.8819356\n"
          ]
        },
        {
          "output_type": "stream",
          "name": "stderr",
          "text": [
            "\r 40%|████      | 2/5 [02:49<04:12, 84.15s/it]"
          ]
        },
        {
          "output_type": "stream",
          "name": "stdout",
          "text": [
            "--------------- start epoch 2 ---------------\n",
            "trainscore is 6.6088495\n",
            "valscore is 7.3282337\n"
          ]
        },
        {
          "output_type": "stream",
          "name": "stderr",
          "text": [
            "\r 60%|██████    | 3/5 [04:06<02:42, 81.09s/it]"
          ]
        },
        {
          "output_type": "stream",
          "name": "stdout",
          "text": [
            "--------------- start epoch 3 ---------------\n",
            "trainscore is 6.6583033\n",
            "valscore is 7.323559\n"
          ]
        },
        {
          "output_type": "stream",
          "name": "stderr",
          "text": [
            "\r 80%|████████  | 4/5 [05:05<01:12, 72.34s/it]"
          ]
        },
        {
          "output_type": "stream",
          "name": "stdout",
          "text": [
            "--------------- start epoch 4 ---------------\n",
            "trainscore is 6.900965\n",
            "valscore is 7.451046\n"
          ]
        },
        {
          "output_type": "stream",
          "name": "stderr",
          "text": [
            "100%|██████████| 5/5 [06:23<00:00, 76.65s/it]\n"
          ]
        }
      ]
    },
    {
      "cell_type": "markdown",
      "source": [
        "## Results"
      ],
      "metadata": {
        "id": "3k_VpJYutmON"
      }
    },
    {
      "cell_type": "code",
      "source": [
        "print(\"train losses: \", foldtrainlosses)\n",
        "print(\"val losses: \", foldvallosses)\n",
        "print(\"train scores: \", foldtrainscores)\n",
        "print(\"valid scores: \", foldvalidscores)\n",
        "print(\"best scores: \", foldscores)\n",
        "print(\"best scores average: \", np.mean(foldscores))"
      ],
      "metadata": {
        "id": "8bdDxbc6mBwB",
        "colab": {
          "base_uri": "https://localhost:8080/"
        },
        "outputId": "fffceb4f-2bd0-4f81-8709-e587848f8e73"
      },
      "execution_count": 30,
      "outputs": [
        {
          "output_type": "stream",
          "name": "stdout",
          "text": [
            "train losses:  [[0.3520353436470032, 0.010540788993239403, 0.02856352925300598, 0.002938279416412115, 0.005699280649423599], [0.08549654483795166, 0.10226000845432281, 0.07959591597318649, 0.10939683765172958, 0.11538954079151154], [0.08630937337875366, 0.01736002042889595, 0.0033476834651082754, 0.008365697227418423, 0.006230134516954422], [0.189738467335701, 0.026363521814346313, 0.013511652126908302, 0.0012904604664072394, 0.013254641555249691], [0.004608231130987406, 0.000548830081243068, 0.0006911071250215173, 0.0006349504110403359, 0.0010859471512958407]]\n",
            "val losses:  [[0.08428503572940826, 0.059690188616514206, 0.11282084882259369, 0.08780362457036972, 0.16986195743083954], [0.06940016895532608, 0.03342263773083687, 0.00890378374606371, 0.002425855491310358, 0.0015717222122475505], [0.8011557459831238, 0.04347362741827965, 0.03163648396730423, 0.007802323903888464, 0.004041788633912802], [0.004490993916988373, 0.021320655941963196, 0.0016486523672938347, 0.0016379202716052532, 0.0037233373150229454], [0.014332903549075127, 0.11494418978691101, 0.420935720205307, 0.009092488326132298, 0.004017106723040342]]\n",
            "train scores:  [[3.0064812, 3.3551888, 4.192003, 4.576636, 5.0039454], [4.580475, 4.1952214, 4.7363167, 5.381279, 5.8520174], [5.390482, 5.2944074, 5.8486776, 6.383096, 6.607295], [6.2065444, 5.8279486, 5.8073606, 5.949602, 6.3719025], [6.0921087, 5.757853, 6.6088495, 6.6583033, 6.900965]]\n",
            "valid scores:  [[3.340952, 4.3663607, 4.6813025, 5.194027, 5.484236], [3.234977, 4.8269024, 5.4005184, 6.0257983, 6.2513986], [6.0025654, 6.369721, 6.6689887, 6.9950237, 7.100476], [6.6013446, 5.8700676, 5.8846664, 6.692912, 7.0279527], [5.751215, 6.8819356, 7.3282337, 7.323559, 7.451046]]\n",
            "best scores:  [5.484236, 6.2513986, 7.100476, 7.0279527, 7.451046]\n",
            "best scores average:  6.663022\n"
          ]
        }
      ]
    },
    {
      "cell_type": "code",
      "source": [
        "plt.figure(figsize=(6, 8))\n",
        "\n",
        "# Plot best scores for each fold\n",
        "plt.subplot(2, 1, 1)\n",
        "plt.title('Best Scores Across Folds')\n",
        "plt.xlabel('Fold')\n",
        "plt.ylabel('Best Score')\n",
        "plt.plot(range(1, len(foldscores) + 1), foldscores, marker='o')\n",
        "\n",
        "plt.subplot(2, 1, 2)\n",
        "plt.title('Train Losses Across Folds')\n",
        "plt.xlabel('Epoch')\n",
        "plt.ylabel('Train Loss')\n",
        "for fold, losses in enumerate(foldtrainlosses):\n",
        "    plt.plot(range(1, epochs + 1), losses, label=f'Fold {fold + 1}')\n",
        "plt.legend()\n",
        "\n",
        "plt.tight_layout()\n",
        "plt.show()\n",
        "\n",
        "plt.figure(figsize=(6, 8))\n",
        "plt.subplot(2, 1, 2)\n",
        "plt.title('Train Scores Across Folds')\n",
        "plt.xlabel('Epoch')\n",
        "plt.ylabel('Train Score')\n",
        "for fold, scores in enumerate(foldtrainscores):\n",
        "    plt.plot(range(1, epochs + 1), scores, label=f'Fold {fold + 1}')\n",
        "plt.legend()\n",
        "\n",
        "plt.tight_layout()\n",
        "plt.show()"
      ],
      "metadata": {
        "id": "xRcf1Wgno8d9",
        "colab": {
          "base_uri": "https://localhost:8080/",
          "height": 1000
        },
        "outputId": "ff39d95d-ad31-428a-c785-b64ce5cc221d"
      },
      "execution_count": 31,
      "outputs": [
        {
          "output_type": "display_data",
          "data": {
            "text/plain": [
              "<Figure size 600x800 with 2 Axes>"
            ],
            "image/png": "[encoded data removed]"
          },
          "metadata": {}
        },
        {
          "output_type": "display_data",
          "data": {
            "text/plain": [
              "<Figure size 600x800 with 1 Axes>"
            ],
            "image/png": "[encoded data removed]"
          },
          "metadata": {}
        }
      ]
    },
    {
      "cell_type": "markdown",
      "source": [
        "Comme on peut le voir sur les différents diagrammes l'utilisation d'une cross validation permet bien d'obtenir des résultats différents à partir du même dataset. Notament en comparant la courbe des meilleurs scores de validation (bestcore) on se rend compte de l'intérêt de cette technique."
      ],
      "metadata": {
        "id": "PkBqnJRo_8Ld"
      }
    },
    {
      "cell_type": "markdown",
      "source": [
        "## Updating the best model"
      ],
      "metadata": {
        "id": "X4s_J_ANty8K"
      }
    },
    {
      "cell_type": "markdown",
      "source": [
        "On en profite pour sauvegarder le meilleur modèle pour le ré-employer dans la piepeline."
      ],
      "metadata": {
        "id": "qFK3A_0wACqG"
      }
    },
    {
      "cell_type": "code",
      "source": [
        "if bestscore < max(foldscores):\n",
        "\n",
        "    new_best_index = foldscores.index(max(foldscores))\n",
        "\n",
        "    # Get the corresponding model file path\n",
        "    new_best_model_path = os.path.join(\"\", f\"model_fold_{new_best_index}.pth\")\n",
        "\n",
        "    # Overwrite the best_model.pth file with the new best model\n",
        "    best_model_path = os.path.join(\"\", \"best_model.pth\")\n",
        "    shutil.copy(new_best_model_path, best_model_path)\n",
        "\n",
        "    print(f\"Best model updated. New best score: {max(foldscores)} from model_fold_{new_best_index}.pth\")\n",
        "else:\n",
        "    print(\"No better score found. Best model remains unchanged.\")\n"
      ],
      "metadata": {
        "id": "fqXDId3TuAAv",
        "colab": {
          "base_uri": "https://localhost:8080/"
        },
        "outputId": "49d9cbbe-651e-4890-a95f-daa0a2d5020a"
      },
      "execution_count": 32,
      "outputs": [
        {
          "output_type": "stream",
          "name": "stdout",
          "text": [
            "Best model updated. New best score: 7.451045989990234 from model_fold_4.pth\n"
          ]
        }
      ]
    },
    {
      "cell_type": "markdown",
      "source": [
        "# Prediction"
      ],
      "metadata": {
        "papermill": {
          "duration": 0.031167,
          "end_time": "2023-06-28T07:40:50.615833",
          "exception": false,
          "start_time": "2023-06-28T07:40:50.584666",
          "status": "completed"
        },
        "tags": [],
        "id": "tLpvvkElL8cJ"
      }
    },
    {
      "cell_type": "markdown",
      "source": [
        "## Without using saved models"
      ],
      "metadata": {
        "id": "abwPJAkntAd1"
      }
    },
    {
      "cell_type": "code",
      "source": [
        "def predicting(test_dataloader,model):\n",
        "\n",
        "    model.to(device)\n",
        "    model.eval()\n",
        "    allpreds = []\n",
        "    preds = []\n",
        "    allvalloss=0\n",
        "\n",
        "    with torch.no_grad():\n",
        "        for a in test_dataloader:\n",
        "\n",
        "            ids = a[\"ids\"].to(device)\n",
        "            mask = a[\"mask\"].to(device)\n",
        "\n",
        "            output = model(ids,mask)\n",
        "            output = output[\"logits\"].squeeze(-1)\n",
        "            preds.append(output.cpu().numpy())\n",
        "\n",
        "        preds = np.concatenate(preds)\n",
        "        allpreds.append(preds)\n",
        "\n",
        "    return allpreds"
      ],
      "metadata": {
        "execution": {
          "iopub.execute_input": "2023-06-28T07:40:50.682433Z",
          "iopub.status.busy": "2023-06-28T07:40:50.68143Z",
          "iopub.status.idle": "2023-06-28T07:40:50.689037Z",
          "shell.execute_reply": "2023-06-28T07:40:50.688083Z"
        },
        "papermill": {
          "duration": 0.043725,
          "end_time": "2023-06-28T07:40:50.691507",
          "exception": false,
          "start_time": "2023-06-28T07:40:50.647782",
          "status": "completed"
        },
        "tags": [],
        "id": "RTaZMdqeL8cK"
      },
      "execution_count": null,
      "outputs": []
    },
    {
      "cell_type": "markdown",
      "source": [
        "## Using saved models"
      ],
      "metadata": {
        "papermill": {
          "duration": 0.0315,
          "end_time": "2023-06-28T07:40:50.755384",
          "exception": false,
          "start_time": "2023-06-28T07:40:50.723884",
          "status": "completed"
        },
        "tags": [],
        "id": "06bFyIi1L8cK"
      }
    },
    {
      "cell_type": "code",
      "source": [
        "#model initialized\n",
        "#model = transformers.RobertaForSequenceClassification.from_pretrained(\"roberta-base\",num_labels=1)\n",
        "model = transformers.XLMRobertaForSequenceClassification.from_pretrained(\"alexandrainst/da-ned-base\", num_labels=1, ignore_mismatched_sizes=True)\n",
        "\n",
        "def predicting_with_model(test_dataloader,model,pthes):\n",
        "\n",
        "  state = torch.load(pth)\n",
        "  model.load_state_dict(state[\"state_dict\"])\n",
        "  model.to(device)\n",
        "  model.eval()\n",
        "  preds = []\n",
        "  allvalloss=0\n",
        "\n",
        "  with torch.no_grad():\n",
        "\n",
        "    for a in test_dataloader:\n",
        "\n",
        "      ids = a[\"ids\"].to(device)\n",
        "      mask = a[\"mask\"].to(device)\n",
        "\n",
        "      output = model(ids,mask)\n",
        "      output = output[\"logits\"].squeeze(-1)\n",
        "      preds = np.append(preds,output.cpu().numpy())\n",
        "\n",
        "  return preds"
      ],
      "metadata": {
        "id": "zo2r3YTtTjYN"
      },
      "execution_count": null,
      "outputs": []
    },
    {
      "cell_type": "markdown",
      "source": [
        "## Predicting"
      ],
      "metadata": {
        "papermill": {
          "duration": 0.05125,
          "end_time": "2023-06-28T07:40:53.153975",
          "exception": false,
          "start_time": "2023-06-28T07:40:53.102725",
          "status": "completed"
        },
        "tags": [],
        "id": "xcDa4r6bL8cL"
      }
    },
    {
      "cell_type": "code",
      "source": [
        "#tpreds = predicting(test_dataloader,model)\n",
        "\n",
        "pths = [os.path.join(\"./\",s) for s in os.listdir(\"./\") if \"model.pth\" in s]\n",
        "\n",
        "tpreds = []\n",
        "for pth in pths:\n",
        "  tpreds.append(predicting_with_model(test_dataloader,model,pth))"
      ],
      "metadata": {
        "execution": {
          "iopub.execute_input": "2023-06-28T07:40:53.240831Z",
          "iopub.status.busy": "2023-06-28T07:40:53.239106Z",
          "iopub.status.idle": "2023-06-28T07:42:05.085048Z",
          "shell.execute_reply": "2023-06-28T07:42:05.083677Z"
        },
        "papermill": {
          "duration": 71.891932,
          "end_time": "2023-06-28T07:42:05.088325",
          "exception": false,
          "start_time": "2023-06-28T07:40:53.196393",
          "status": "completed"
        },
        "tags": [],
        "id": "XaRasik6L8cM"
      },
      "execution_count": null,
      "outputs": []
    },
    {
      "cell_type": "code",
      "source": [
        "test_true = test['targets']\n",
        "\n",
        "\n",
        "test_pred = []\n",
        "for preds in tpreds:\n",
        "  test_pred = []\n",
        "  for p in preds:\n",
        "    test_pred+=[ 0 if(p<0) else 1]\n",
        "\n",
        "  print( \"result for best_model.pth \\n\")\n",
        "  print(classification_report(test_true,test_pred,target_names=['ham','spam'],digits=4))"
      ],
      "metadata": {
        "execution": {
          "iopub.execute_input": "2023-06-28T07:42:05.159763Z",
          "iopub.status.busy": "2023-06-28T07:42:05.159381Z",
          "iopub.status.idle": "2023-06-28T07:42:05.207457Z",
          "shell.execute_reply": "2023-06-28T07:42:05.205927Z"
        },
        "papermill": {
          "duration": 0.086919,
          "end_time": "2023-06-28T07:42:05.209719",
          "exception": false,
          "start_time": "2023-06-28T07:42:05.1228",
          "status": "completed"
        },
        "tags": [],
        "id": "aUB-MztOL8cN",
        "colab": {
          "base_uri": "https://localhost:8080/"
        },
        "outputId": "7df449f5-d18c-48e0-88cd-3f0999476759"
      },
      "execution_count": 36,
      "outputs": [
        {
          "output_type": "stream",
          "name": "stdout",
          "text": [
            "result for best_model.pth \n",
            "\n",
            "              precision    recall  f1-score   support\n",
            "\n",
            "         ham     0.9270    0.9628    0.9445       725\n",
            "        spam     0.9043    0.8226    0.8615       310\n",
            "\n",
            "    accuracy                         0.9208      1035\n",
            "   macro avg     0.9156    0.8927    0.9030      1035\n",
            "weighted avg     0.9202    0.9208    0.9196      1035\n",
            "\n"
          ]
        }
      ]
    },
    {
      "cell_type": "markdown",
      "source": [
        "On se rend bien compte de l'amélioration des performances suite à l'utilisation de la cross validation. En effet on a pu augmenter la précision global à environ 91% et diminuer le nombre de faux positif à 10% ce qui est deux fois mieux que précédement."
      ],
      "metadata": {
        "id": "lDo3_HIaS4mG"
      }
    },
    {
      "cell_type": "markdown",
      "source": [
        "# Pipeline"
      ],
      "metadata": {
        "id": "-MwEptA84ztf"
      }
    },
    {
      "cell_type": "markdown",
      "source": [
        "Pour finir nous avons créé une pipeline. Cette pipeline prend en entrée le texte d'un mail et son label et produit en résultat l'évaluation du modèle. Le but derrière cette pipeline est de vérifier les limites de notre modéle.\n",
        "\n",
        "On peut penser à des mails déguisés en spam comme un prank ou des spam très bien forgés, des mails bancaires que l'on considère tous aujourd'hui comme des spam d'office, des mails bourrés de fautes d'ortographe, des mails ontenant beaucoup de code HTML, etc ..."
      ],
      "metadata": {
        "id": "BfBftncfBPJv"
      }
    },
    {
      "cell_type": "code",
      "source": [
        "best_model_path = \"best_model.pth\"  # Update with your actual path\n",
        "model = transformers.XLMRobertaForSequenceClassification.from_pretrained(\"alexandrainst/da-ned-base\", num_labels=1, ignore_mismatched_sizes=True)\n",
        "model = model.to(device)\n",
        "state = torch.load(pth)\n",
        "model.load_state_dict(state[\"state_dict\"])\n"
      ],
      "metadata": {
        "id": "xhyc6CfHU4Ps"
      },
      "execution_count": null,
      "outputs": []
    },
    {
      "cell_type": "code",
      "source": [
        "example_spam = '''Subject: underpriced issue with high return on equity\n",
        "stock report .\n",
        "dont sieep on this stock ! this is a hot one !\n",
        "company : gaming transactions inc .\n",
        "stock symbol : ggts\n",
        "currentiy trading at : o . 30\n",
        "rating : strong purchase\n",
        "near - term target : 0 . 45\n",
        "long - term target : 1 . oo\n",
        "breaking news for ggts :\n",
        "gaming transactions inc . ( ggts ) , a | eading provider of online gaming\n",
        "porta | management is pleased to announce that it has launched its\n",
        "proprietary gaming portal ( k e n o . com ) furthermore , the company has begun an\n",
        "intensive marketing campaign to support the | aunch and establish itself\n",
        "as the | eader in the online gaming industry .\n",
        "( k e n o . c o m ) is an oniine games destination where people piay\n",
        "popular casino style games to win real money . the foundation of the site is\n",
        "an online version of keno . the game of keno uses 80 balls numbered 1\n",
        "thru 8 o . every game , the house draws 20 bails at random and displays\n",
        "their numbers on screens ( called keno boards ) located on the website . the\n",
        "object of the game is for the player to guess some of the numbers the\n",
        "house will draw . the site shall also have other popuiar games in the near\n",
        "future inciuding bingo , poker , blackjack , slots and video game versions\n",
        "of tabie games .\n",
        "patrick smyth , ceo of gaming transactions inc . , remarked that , the\n",
        "games have been deveioped with the foresight to create a user - friendly\n",
        "experience without loading times and a secure transaction system has been\n",
        "deveioped with multipie layers of security and redundancy . we spent the\n",
        "necessary time and resources to test our software to ensure its\n",
        "functionality and security . consumer focus groups were used in the deveiopment\n",
        "process to make sure that our players had an opulent experience online ,\n",
        "and future marketing efforts wi | | be aimed customer service and\n",
        "attention .\n",
        "about the company :\n",
        "gaming transactions inc . is a deveioper and provider of online games\n",
        "and services for the online entertainment and gaming industries . the\n",
        "company ! s centra | licensed games portal , ( k e n o . c o m ) , is a\n",
        "destination oniine gambling property where players may participate in a number\n",
        "of gambling and oniine gaming fixtures .\n",
        "the foundation of the site is of course an online version of keno . the\n",
        "game of keno uses 8 o bails numbered 1 thru 80 . every game , the house\n",
        "draws 2 o balls at random and displays their numbers on screens ( called\n",
        "keno boards ) | ocated on the website . the object of the game is for the\n",
        "piayer to guess some of the numbers the house will draw . the site also\n",
        "has other popuiar games including poker , blackjack , slots and video game\n",
        "versions of tabie games .\n",
        "gaming transactions inc . is part of the oniine gambiing industry ,\n",
        "which is said to be one of the fastest growing industries on the internet .\n",
        "! ' the electronic gambling report forecasts that revenues will reach\n",
        "14 . 5 biliion by 2006 ! ( market statistics : - informa media grp . giobal\n",
        "revenues from oniine gambiing wi | | reach 14 . 52 bi | | ion in 20 o 6 , up from\n",
        "3 . 81 biilion this year . this is according to a report from the informa\n",
        "media grp . , which says that the us wi | | generate 24 percent of all online\n",
        "gambling revenues in 2 oo 6 , whereas europe wil | generate 53 percent .\n",
        "north american oniine gambling revenues are expected to reach 1 . 99 biliion\n",
        "this year and 3 . 85 bi | | ion in 2 oo 6 . in europe , revenues wil | grow from\n",
        "1 . 29 billion this year to 7 . 64 biilion in 2 oo 6 . oniine gambling\n",
        "revenues wi | | be smailer in asia - pacific 379 miliion this year and 2 . 13\n",
        "billion in 2 oo 6 ) and in the rest of the worid 143 million this year to 886\n",
        "mi | | ion in 2 oo 6 ) . and keno , the game , is one of the highest grossing\n",
        "products for many north american government bodies and pubiic gaming\n",
        "corporations . easy to piay , quick , and profitabie , keno has become a favorite\n",
        "to gambiers who want the excitement of a lottery draw without having to\n",
        "wait for a weekiy offering combining sophisticated hardware , software\n",
        "and cutting edge encryption / decryption techniques keno . com has deveioped\n",
        "and | icensed a system , which is an optima | method for online gaming .\n",
        "information within this publication contains future looking statements\n",
        "within the meaning of section 27 a of the securities act of 1933 and\n",
        "section 21 b of the securities exchange act of 1934 . any statements that\n",
        "express or involve discussions with respect to predictions ,\n",
        "expectations , beliefs , pians , projections , objectives , goals , assumptions or future\n",
        "events or performance are not statements of historica | fact and may be\n",
        "future looking statements . future | ooking statements are based on\n",
        "expectations , estimates and projections at the time the statements are made\n",
        "that involve a number of risks and uncertainties which couid cause\n",
        "actual results or events to differ materia | | y from those presently\n",
        "anticipated . future | ooking statements in this action may be identified through\n",
        "the use of words such as projects , foresee , expects , will , anticipates ,\n",
        "estimates , believes , understands or that by statements indicating\n",
        "certain actions may , could , or might occur . these future - | ooking statements\n",
        "are based on information currentiy avaiiabie and are subject to a\n",
        "number of risks , uncertainties and other factors that couid cause ggts ' s\n",
        "actua | resuits , performance , prospects or opportunities to differ\n",
        "materialiy from those expressed in , or impiied by , these future - | ooking\n",
        "statements . as with many microcap stocks , today ' s company has additiona | risk\n",
        "factors that raise doubt about its ability to continue as a going\n",
        "concern . ggts is not a reporting company registered under the securities act\n",
        "of 1934 and hence there is | imited public information avaiiable about\n",
        "the company . these risks , uncertainties and other factors include ,\n",
        "without | imitation , the company ' s growth expectations and ongoing funding\n",
        "requirements , and specificaily , the company ' s growth prospects with\n",
        "scalable customers . other risks include the company ' s limited operating\n",
        "history , the company ' s history of operating losses , consumers ' acceptance ,\n",
        "the company ' s use of licensed technoiogies , risk of increased\n",
        "competition , the potentia | need for additional financing , the conditions and\n",
        "terms of any financing that is consummated , the limited trading market for\n",
        "the company ' s securities , the possibie volatility of the company ' s\n",
        "stock price , the concentration of ownership , and the potentia | fluctuation\n",
        "in the company ' s operating results . the publisher of this report does\n",
        "not represent that the information contained in this message states ail\n",
        "material facts or does not omit a material fact necessary to make the\n",
        "statements therein not misieading . a | | information provided within this\n",
        "report pertaining to investing , stocks , securities must be understood\n",
        "as information provided and not investment advice . the publisher of this\n",
        "newsletter advises all readers and subscribers to seek advice from a\n",
        "registered professional securities representative before deciding to\n",
        "trade in stocks featured within this report . none of the materia | within\n",
        "this report shall be construed as any kind of investment advice or\n",
        "solicitation . many of these companies are on the verge of bankruptcy . you can\n",
        "lose al | your money by investing in this stock . the pubiisher of this\n",
        "report is not a registered investment expert . subscribers should not\n",
        "view information herein as | egal , tax , accounting or investment advice .\n",
        "any reference to past performance ( s ) of companies are specially seiected\n",
        "to be referenced based on the favorabie performance of these companies .\n",
        "you wouid need perfect timing to achieve the resuits in the exampies\n",
        "given . there can be no assurance of that happening . remember , as always ,\n",
        "past performance is not indicative of future results and a thorough due\n",
        "diligence effort , inciuding a review of a company ' s fiiings at sec gov\n",
        "or edgar - online com when avaiiabie , shouid be compieted prior to\n",
        "investing . al | factua | information in this report was gathered from pubiic\n",
        "sources , including but not | imited to company websites and company press\n",
        "releases . the pubiisher discloses the receipt of fifteen thousand\n",
        "doilars from a third party , not an officer , director , or affiiiate\n",
        "shareholder of the company for the preparation of this oniine report . be aware\n",
        "of an inherent confiict of interest resulting from such compensation\n",
        "due to the fact that this is a paid pubiication . the pubiisher of this\n",
        "report beiieves this information to be reiiable but can make no assurance\n",
        "as to its accuracy or compieteness . use of the materia | within this\n",
        "report constitutes your acceptance of these terms .\n",
        "if you wish to stop future maiiings , or if you feel you have been\n",
        "wrongfuliy placed in our membership , piease go here or send a biank\n",
        "e mai | with no thanks in the subject to ( - stoxo 042 @ yahoo . com - ).'''\n",
        "\n",
        "\n",
        "example_ham = '''Subject: re : first delivery - wheeler operating\n",
        "vance ,\n",
        "deal # 643714 has been created and entered in sitara .\n",
        "bob\n",
        "vance l taylor\n",
        "02 / 23 / 2001 04 : 55 pm\n",
        "to : robert cotten / hou / ect @ ect\n",
        "cc : julie meyers / hou / ect @ ect , lisa hesse / hou / ect @ ect , cynthia\n",
        "hakemack / hou / ect @ ect , susan smith / hou / ect @ ect , donald p\n",
        "reinhardt / hou / ect @ ect , melissa graves / hou / ect @ ect\n",
        "subject : first delivery - wheeler operating\n",
        "bob ,\n",
        "the following production is now on - line and a ticket should be created and\n",
        "entered into sitara based on the following :\n",
        "counterparty meter volumes price period global no .\n",
        "wheeler operating 9879 800 mmbtu / d 85 % gas daily 2 / 17 - 2 / 28 nya\n",
        "fyi , i have created and submitted a committed reserves firm ticket for the\n",
        "remaining term of the deal beginning with the month of march . additionally ,\n",
        "this is a producer svcs . deal and should be tracked in the im wellhead\n",
        "portfolio . . . attached to the gathering contract .\n",
        "thanks ,\n",
        "vlt\n",
        "x 3 - 6353\n",
        "- - - - - - - - - - - - - - - - - - - - - - forwarded by vance l taylor / hou / ect on 02 / 23 / 2001\n",
        "04 : 21 pm - - - - - - - - - - - - - - - - - - - - - - - - - - -\n",
        "from : esther buckley 02 / 22 / 2001 10 : 39 am\n",
        "to : molly l carriere / hou / ect @ ect , clem cernosek / hou / ect @ ect , donna\n",
        "consemiu / hou / ect @ ect , robert cook / hou / ect @ ect , howard b camp / hou / ect @ ect ,\n",
        "lisa hesse / hou / ect @ ect , nathan l hlavaty / hou / ect @ ect , wayne e\n",
        "lightfoot / hou / ect , james mckay / hou / ect @ ect , mary m smith / hou / ect @ ect , steve\n",
        "hpl schneider / hou / ect @ ect , melissa graves / hou / ect @ ect , michael\n",
        "walters / hou / ect @ ect , jill t zivley / hou / ect @ ect , mary jo johnson / hou / ees @ ees ,\n",
        "rita wynne / hou / ect @ ect , lauri a allen / hou / ect @ ect , cheryl\n",
        "jones / gpgfin / enron @ enron , reid hansen / gco / enron @ enron , darron c\n",
        "giron / hou / ect @ ect , o ' neal d winfree / hou / ect @ ect , susan smith / hou / ect @ ect ,\n",
        "gary bryan / hou / ect @ ect , gary a hanks / hou / ect @ ect , donald p\n",
        "reinhardt / hou / ect @ ect , vance l taylor / hou / ect @ ect , david\n",
        "baumbach / hou / ect @ ect , robert cotten / hou / ect @ ect , brian m riley / hou / ect @ ect ,\n",
        "jeff a austin / hou / ees @ ees , cynthia hakemack / hou / ect @ ect , dawn c\n",
        "kenne / hou / ect @ ect , lisa csikos / hou / ect @ ect , j r fosdick / gco / enron @ enron ,\n",
        "carlos j rodriguez / hou / ect @ ect , stephanie gomes / hou / ect @ ect , pat\n",
        "clynes / corp / enron @ enron , tom acton / corp / enron @ enron , robert\n",
        "walker / hou / ect @ ect , george weissman / hou / ect @ ect , joanne\n",
        "harris / na / enron @ enron , christy sweeney / hou / ect @ ect , earl tisdale / hou / ect @ ect ,\n",
        "daren j farmer / hou / ect @ ect\n",
        "cc :\n",
        "subject : first delivery - wheeler operating\n",
        "please see attached letter '''\n"
      ],
      "metadata": {
        "id": "ytaDKeD-X7mS"
      },
      "execution_count": 38,
      "outputs": []
    },
    {
      "cell_type": "code",
      "source": [
        "tokenizer = transformers.XLMRobertaTokenizer.from_pretrained(\"alexandrainst/da-ned-base\")\n",
        "example_encoded = tokenizer.encode_plus(\n",
        "    # Switch here the input\n",
        "    example_spam,\n",
        "    add_special_tokens=True,\n",
        "    max_length=max_sens,\n",
        "    pad_to_max_length=True,\n",
        "    return_attention_mask=True,\n",
        "    truncation=True\n",
        ")\n",
        "ids = torch.tensor(example_encoded['input_ids'], dtype=torch.long).unsqueeze(0).to(device)\n",
        "mask = torch.tensor(example_encoded['attention_mask'], dtype=torch.long).unsqueeze(0).to(device)\n"
      ],
      "metadata": {
        "id": "x_w2VKHvbaY_"
      },
      "execution_count": null,
      "outputs": []
    },
    {
      "cell_type": "code",
      "source": [
        "model.eval()\n",
        "with torch.no_grad():\n",
        "    output = model(ids, mask)[\"logits\"].squeeze(-1)\n",
        "    prediction = 0 if output < 0 else 1\n",
        "    class_name = 'ham' if prediction == 0 else 'spam'\n",
        "\n",
        "print(f\"Prediction: {class_name}\")\n"
      ],
      "metadata": {
        "id": "9VsQFS-Xbcs9",
        "colab": {
          "base_uri": "https://localhost:8080/"
        },
        "outputId": "d782fcde-87cc-4653-9c3d-2f98877d5ce8"
      },
      "execution_count": 40,
      "outputs": [
        {
          "output_type": "stream",
          "name": "stdout",
          "text": [
            "Prediction: spam\n",
            "Prediction: spam\n"
          ]
        }
      ]
    }
  ]
}