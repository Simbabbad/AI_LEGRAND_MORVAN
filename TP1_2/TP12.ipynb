{
<<<<<<< HEAD
  "cells": [
    {
      "cell_type": "code",
      "execution_count": 166,
      "metadata": {
        "colab": {
          "base_uri": "https://localhost:8080/"
        },
        "id": "JP9c6H5s8wRK",
        "outputId": "0e17d265-b2a6-41ca-bd9d-60a56fcd440c"
      },
      "outputs": [
        {
          "output_type": "stream",
          "name": "stdout",
          "text": [
            "2.14.0\n"
          ]
        }
      ],
      "source": [
        "import tensorflow as tf\n",
        "import pandas as pd\n",
        "import nltk\n",
        "from bs4 import BeautifulSoup\n",
        "import re,string,unicodedata\n",
        "print ( tf . version . VERSION )\n",
        "from textblob import TextBlob\n",
        "from tensorflow.keras.preprocessing.text import Tokenizer\n",
        "from tensorflow.keras.preprocessing.sequence import pad_sequences\n",
        "from tensorflow.keras.models import Sequential\n",
        "from tensorflow.keras.layers import Dense, Embedding, Flatten\n",
        "import matplotlib.pyplot as plt\n"
      ]
    },
    {
      "cell_type": "markdown",
      "source": [
        "**Premier Coup d'oeil sur le dataset**"
      ],
      "metadata": {
        "id": "9VYNpHEfcYoe"
      }
    },
    {
      "cell_type": "code",
      "execution_count": 167,
      "metadata": {
        "colab": {
          "base_uri": "https://localhost:8080/"
        },
        "id": "9HwZNkOC8wRM",
        "outputId": "b74a2bff-edb3-4628-94f2-7034211780e2"
      },
      "outputs": [
        {
          "output_type": "stream",
          "name": "stdout",
          "text": [
            "                                                  review sentiment\n",
            "0      One of the other reviewers has mentioned that ...  positive\n",
            "1      A wonderful little production. <br /><br />The...  positive\n",
            "2      I thought this was a wonderful way to spend ti...  positive\n",
            "3      Basically there's a family where a little boy ...  negative\n",
            "4      Petter Mattei's \"Love in the Time of Money\" is...  positive\n",
            "...                                                  ...       ...\n",
            "49995  I thought this movie did a down right good job...  positive\n",
            "49996  Bad plot, bad dialogue, bad acting, idiotic di...  negative\n",
            "49997  I am a Catholic taught in parochial elementary...  negative\n",
            "49998  I'm going to have to disagree with the previou...  negative\n",
            "49999  No one expects the Star Trek movies to be high...  negative\n",
            "\n",
            "[50000 rows x 2 columns]\n"
          ]
        }
      ],
      "source": [
        "data = pd.read_csv('IMDB Dataset.csv')\n",
        "print(data)\n"
      ]
    },
    {
      "cell_type": "code",
      "execution_count": 168,
      "metadata": {
        "colab": {
          "base_uri": "https://localhost:8080/",
          "height": 175
        },
        "id": "B0j1Ho7e8wRM",
        "outputId": "05b80398-cfbf-457c-d1c4-f89cc3263029"
      },
      "outputs": [
        {
          "output_type": "execute_result",
          "data": {
            "text/plain": [
              "                                                   review sentiment\n",
              "count                                               50000     50000\n",
              "unique                                              49582         2\n",
              "top     Loved today's show!!! It was a variety and not...  positive\n",
              "freq                                                    5     25000"
            ],
            "text/html": [
              "\n",
              "  <div id=\"df-03474d49-7c3e-422e-b72b-4721a88b95c5\" class=\"colab-df-container\">\n",
              "    <div>\n",
              "<style scoped>\n",
              "    .dataframe tbody tr th:only-of-type {\n",
              "        vertical-align: middle;\n",
              "    }\n",
              "\n",
              "    .dataframe tbody tr th {\n",
              "        vertical-align: top;\n",
              "    }\n",
              "\n",
              "    .dataframe thead th {\n",
              "        text-align: right;\n",
              "    }\n",
              "</style>\n",
              "<table border=\"1\" class=\"dataframe\">\n",
              "  <thead>\n",
              "    <tr style=\"text-align: right;\">\n",
              "      <th></th>\n",
              "      <th>review</th>\n",
              "      <th>sentiment</th>\n",
              "    </tr>\n",
              "  </thead>\n",
              "  <tbody>\n",
              "    <tr>\n",
              "      <th>count</th>\n",
              "      <td>50000</td>\n",
              "      <td>50000</td>\n",
              "    </tr>\n",
              "    <tr>\n",
              "      <th>unique</th>\n",
              "      <td>49582</td>\n",
              "      <td>2</td>\n",
              "    </tr>\n",
              "    <tr>\n",
              "      <th>top</th>\n",
              "      <td>Loved today's show!!! It was a variety and not...</td>\n",
              "      <td>positive</td>\n",
              "    </tr>\n",
              "    <tr>\n",
              "      <th>freq</th>\n",
              "      <td>5</td>\n",
              "      <td>25000</td>\n",
              "    </tr>\n",
              "  </tbody>\n",
              "</table>\n",
              "</div>\n",
              "    <div class=\"colab-df-buttons\">\n",
              "\n",
              "  <div class=\"colab-df-container\">\n",
              "    <button class=\"colab-df-convert\" onclick=\"convertToInteractive('df-03474d49-7c3e-422e-b72b-4721a88b95c5')\"\n",
              "            title=\"Convert this dataframe to an interactive table.\"\n",
              "            style=\"display:none;\">\n",
              "\n",
              "  <svg xmlns=\"http://www.w3.org/2000/svg\" height=\"24px\" viewBox=\"0 -960 960 960\">\n",
              "    <path d=\"M120-120v-720h720v720H120Zm60-500h600v-160H180v160Zm220 220h160v-160H400v160Zm0 220h160v-160H400v160ZM180-400h160v-160H180v160Zm440 0h160v-160H620v160ZM180-180h160v-160H180v160Zm440 0h160v-160H620v160Z\"/>\n",
              "  </svg>\n",
              "    </button>\n",
              "\n",
              "  <style>\n",
              "    .colab-df-container {\n",
              "      display:flex;\n",
              "      gap: 12px;\n",
              "    }\n",
              "\n",
              "    .colab-df-convert {\n",
              "      background-color: #E8F0FE;\n",
              "      border: none;\n",
              "      border-radius: 50%;\n",
              "      cursor: pointer;\n",
              "      display: none;\n",
              "      fill: #1967D2;\n",
              "      height: 32px;\n",
              "      padding: 0 0 0 0;\n",
              "      width: 32px;\n",
              "    }\n",
              "\n",
              "    .colab-df-convert:hover {\n",
              "      background-color: #E2EBFA;\n",
              "      box-shadow: 0px 1px 2px rgba(60, 64, 67, 0.3), 0px 1px 3px 1px rgba(60, 64, 67, 0.15);\n",
              "      fill: #174EA6;\n",
              "    }\n",
              "\n",
              "    .colab-df-buttons div {\n",
              "      margin-bottom: 4px;\n",
              "    }\n",
              "\n",
              "    [theme=dark] .colab-df-convert {\n",
              "      background-color: #3B4455;\n",
              "      fill: #D2E3FC;\n",
              "    }\n",
              "\n",
              "    [theme=dark] .colab-df-convert:hover {\n",
              "      background-color: #434B5C;\n",
              "      box-shadow: 0px 1px 3px 1px rgba(0, 0, 0, 0.15);\n",
              "      filter: drop-shadow(0px 1px 2px rgba(0, 0, 0, 0.3));\n",
              "      fill: #FFFFFF;\n",
              "    }\n",
              "  </style>\n",
              "\n",
              "    <script>\n",
              "      const buttonEl =\n",
              "        document.querySelector('#df-03474d49-7c3e-422e-b72b-4721a88b95c5 button.colab-df-convert');\n",
              "      buttonEl.style.display =\n",
              "        google.colab.kernel.accessAllowed ? 'block' : 'none';\n",
              "\n",
              "      async function convertToInteractive(key) {\n",
              "        const element = document.querySelector('#df-03474d49-7c3e-422e-b72b-4721a88b95c5');\n",
              "        const dataTable =\n",
              "          await google.colab.kernel.invokeFunction('convertToInteractive',\n",
              "                                                    [key], {});\n",
              "        if (!dataTable) return;\n",
              "\n",
              "        const docLinkHtml = 'Like what you see? Visit the ' +\n",
              "          '<a target=\"_blank\" href=https://colab.research.google.com/notebooks/data_table.ipynb>data table notebook</a>'\n",
              "          + ' to learn more about interactive tables.';\n",
              "        element.innerHTML = '';\n",
              "        dataTable['output_type'] = 'display_data';\n",
              "        await google.colab.output.renderOutput(dataTable, element);\n",
              "        const docLink = document.createElement('div');\n",
              "        docLink.innerHTML = docLinkHtml;\n",
              "        element.appendChild(docLink);\n",
              "      }\n",
              "    </script>\n",
              "  </div>\n",
              "\n",
              "\n",
              "<div id=\"df-c0167689-0c1e-41c3-8dee-00c8fdfe64a6\">\n",
              "  <button class=\"colab-df-quickchart\" onclick=\"quickchart('df-c0167689-0c1e-41c3-8dee-00c8fdfe64a6')\"\n",
              "            title=\"Suggest charts\"\n",
              "            style=\"display:none;\">\n",
              "\n",
              "<svg xmlns=\"http://www.w3.org/2000/svg\" height=\"24px\"viewBox=\"0 0 24 24\"\n",
              "     width=\"24px\">\n",
              "    <g>\n",
              "        <path d=\"M19 3H5c-1.1 0-2 .9-2 2v14c0 1.1.9 2 2 2h14c1.1 0 2-.9 2-2V5c0-1.1-.9-2-2-2zM9 17H7v-7h2v7zm4 0h-2V7h2v10zm4 0h-2v-4h2v4z\"/>\n",
              "    </g>\n",
              "</svg>\n",
              "  </button>\n",
              "\n",
              "<style>\n",
              "  .colab-df-quickchart {\n",
              "      --bg-color: #E8F0FE;\n",
              "      --fill-color: #1967D2;\n",
              "      --hover-bg-color: #E2EBFA;\n",
              "      --hover-fill-color: #174EA6;\n",
              "      --disabled-fill-color: #AAA;\n",
              "      --disabled-bg-color: #DDD;\n",
              "  }\n",
              "\n",
              "  [theme=dark] .colab-df-quickchart {\n",
              "      --bg-color: #3B4455;\n",
              "      --fill-color: #D2E3FC;\n",
              "      --hover-bg-color: #434B5C;\n",
              "      --hover-fill-color: #FFFFFF;\n",
              "      --disabled-bg-color: #3B4455;\n",
              "      --disabled-fill-color: #666;\n",
              "  }\n",
              "\n",
              "  .colab-df-quickchart {\n",
              "    background-color: var(--bg-color);\n",
              "    border: none;\n",
              "    border-radius: 50%;\n",
              "    cursor: pointer;\n",
              "    display: none;\n",
              "    fill: var(--fill-color);\n",
              "    height: 32px;\n",
              "    padding: 0;\n",
              "    width: 32px;\n",
              "  }\n",
              "\n",
              "  .colab-df-quickchart:hover {\n",
              "    background-color: var(--hover-bg-color);\n",
              "    box-shadow: 0 1px 2px rgba(60, 64, 67, 0.3), 0 1px 3px 1px rgba(60, 64, 67, 0.15);\n",
              "    fill: var(--button-hover-fill-color);\n",
              "  }\n",
              "\n",
              "  .colab-df-quickchart-complete:disabled,\n",
              "  .colab-df-quickchart-complete:disabled:hover {\n",
              "    background-color: var(--disabled-bg-color);\n",
              "    fill: var(--disabled-fill-color);\n",
              "    box-shadow: none;\n",
              "  }\n",
              "\n",
              "  .colab-df-spinner {\n",
              "    border: 2px solid var(--fill-color);\n",
              "    border-color: transparent;\n",
              "    border-bottom-color: var(--fill-color);\n",
              "    animation:\n",
              "      spin 1s steps(1) infinite;\n",
              "  }\n",
              "\n",
              "  @keyframes spin {\n",
              "    0% {\n",
              "      border-color: transparent;\n",
              "      border-bottom-color: var(--fill-color);\n",
              "      border-left-color: var(--fill-color);\n",
              "    }\n",
              "    20% {\n",
              "      border-color: transparent;\n",
              "      border-left-color: var(--fill-color);\n",
              "      border-top-color: var(--fill-color);\n",
              "    }\n",
              "    30% {\n",
              "      border-color: transparent;\n",
              "      border-left-color: var(--fill-color);\n",
              "      border-top-color: var(--fill-color);\n",
              "      border-right-color: var(--fill-color);\n",
              "    }\n",
              "    40% {\n",
              "      border-color: transparent;\n",
              "      border-right-color: var(--fill-color);\n",
              "      border-top-color: var(--fill-color);\n",
              "    }\n",
              "    60% {\n",
              "      border-color: transparent;\n",
              "      border-right-color: var(--fill-color);\n",
              "    }\n",
              "    80% {\n",
              "      border-color: transparent;\n",
              "      border-right-color: var(--fill-color);\n",
              "      border-bottom-color: var(--fill-color);\n",
              "    }\n",
              "    90% {\n",
              "      border-color: transparent;\n",
              "      border-bottom-color: var(--fill-color);\n",
              "    }\n",
              "  }\n",
              "</style>\n",
              "\n",
              "  <script>\n",
              "    async function quickchart(key) {\n",
              "      const quickchartButtonEl =\n",
              "        document.querySelector('#' + key + ' button');\n",
              "      quickchartButtonEl.disabled = true;  // To prevent multiple clicks.\n",
              "      quickchartButtonEl.classList.add('colab-df-spinner');\n",
              "      try {\n",
              "        const charts = await google.colab.kernel.invokeFunction(\n",
              "            'suggestCharts', [key], {});\n",
              "      } catch (error) {\n",
              "        console.error('Error during call to suggestCharts:', error);\n",
              "      }\n",
              "      quickchartButtonEl.classList.remove('colab-df-spinner');\n",
              "      quickchartButtonEl.classList.add('colab-df-quickchart-complete');\n",
              "    }\n",
              "    (() => {\n",
              "      let quickchartButtonEl =\n",
              "        document.querySelector('#df-c0167689-0c1e-41c3-8dee-00c8fdfe64a6 button');\n",
              "      quickchartButtonEl.style.display =\n",
              "        google.colab.kernel.accessAllowed ? 'block' : 'none';\n",
              "    })();\n",
              "  </script>\n",
              "</div>\n",
              "    </div>\n",
              "  </div>\n"
            ]
          },
          "metadata": {},
          "execution_count": 168
        }
      ],
      "source": [
        "data.describe()\n"
      ]
    },
    {
      "cell_type": "code",
      "execution_count": 169,
      "metadata": {
        "colab": {
          "base_uri": "https://localhost:8080/"
        },
        "id": "7qjE2QO78wRN",
        "outputId": "ab8eddda-e21a-4ab7-b1a2-e6e4a8f6a5f9"
      },
      "outputs": [
        {
          "output_type": "execute_result",
          "data": {
            "text/plain": [
              "positive    25000\n",
              "negative    25000\n",
              "Name: sentiment, dtype: int64"
            ]
          },
          "metadata": {},
          "execution_count": 169
        }
      ],
      "source": [
        "data['sentiment'].value_counts()\n"
      ]
    },
    {
      "cell_type": "markdown",
      "source": [
        "**Pré-traitement sur le dataset**"
      ],
      "metadata": {
        "id": "EfOUrH7scxdf"
      }
    },
    {
      "cell_type": "markdown",
      "source": [
        "Suppression des parts html et des textes entre [ ]"
      ],
      "metadata": {
        "id": "nA9vyxobdFca"
      }
    },
    {
      "cell_type": "code",
      "execution_count": 170,
      "metadata": {
        "colab": {
          "base_uri": "https://localhost:8080/"
        },
        "id": "s7vTOLDy8wRO",
        "outputId": "d8fa4db4-d82e-4c92-eec5-d8a7fe90219b"
      },
      "outputs": [
        {
          "output_type": "stream",
          "name": "stderr",
          "text": [
            "<ipython-input-170-b127c66ca77a>:3: MarkupResemblesLocatorWarning: The input looks more like a filename than markup. You may want to open this file and pass the filehandle into Beautiful Soup.\n",
            "  soup = BeautifulSoup(text, \"html.parser\")\n"
          ]
        }
      ],
      "source": [
        "#Removing the html strips\n",
        "def strip_html(text):\n",
        "    soup = BeautifulSoup(text, \"html.parser\")\n",
        "    return soup.get_text()\n",
        "\n",
        "#Removing the square brackets\n",
        "def remove_between_square_brackets(text):\n",
        "    return re.sub('\\[[^]]*\\]', '', text)\n",
        "\n",
        "#Removing the noisy text\n",
        "def denoise_text(text):\n",
        "    text = strip_html(text)\n",
        "    text = remove_between_square_brackets(text)\n",
        "    return text\n",
        "#Apply function on review column\n",
        "data['review']=data['review'].apply(denoise_text)\n"
      ]
    },
    {
      "cell_type": "markdown",
      "source": [
        "Suppression des caratères spéciaux"
      ],
      "metadata": {
        "id": "5HR4G5oId1wT"
      }
    },
    {
      "cell_type": "code",
      "execution_count": 171,
      "metadata": {
        "id": "Wir-cqzA8wRO"
      },
      "outputs": [],
      "source": [
        "#Define function for removing special characters\n",
        "def remove_special_characters(text, remove_digits=True):\n",
        "    pattern=r'[^a-zA-z0-9\\s]'\n",
        "    text=re.sub(pattern,'',text)\n",
        "    return text\n",
        "#Apply function on review column\n",
        "data['review']=data['review'].apply(remove_special_characters)"
      ]
    },
    {
      "cell_type": "markdown",
      "source": [
        "Suppression des stopwords anglais"
      ],
      "metadata": {
        "id": "KYsWCePxeIaO"
      }
    },
    {
      "cell_type": "code",
      "execution_count": 172,
      "metadata": {
        "colab": {
          "base_uri": "https://localhost:8080/"
        },
        "id": "36xgQwM18wRN",
        "outputId": "7cda0188-2e39-4bc0-eb7d-f24120eb4256"
      },
      "outputs": [
        {
          "output_type": "stream",
          "name": "stderr",
          "text": [
            "[nltk_data] Downloading package stopwords to /root/nltk_data...\n",
            "[nltk_data]   Package stopwords is already up-to-date!\n"
          ]
        }
      ],
      "source": [
        "#Tokenization of text\n",
        "tokenizer=nltk.tokenize.toktok.ToktokTokenizer()\n",
        "#Setting English stopwords\n",
        "nltk.download('stopwords')\n",
        "stopword_list=nltk.corpus.stopwords.words('english')"
      ]
    },
    {
      "cell_type": "code",
      "source": [
        "#set stopwords to english\n",
        "stop=set(nltk.corpus.stopwords.words('english'))\n",
        "print(stop)\n",
        "\n",
        "#removing the stopwords\n",
        "def remove_stopwords(text, is_lower_case=False):\n",
        "    tokens = tokenizer.tokenize(text)\n",
        "    tokens = [token.strip() for token in tokens]\n",
        "    if is_lower_case:\n",
        "        filtered_tokens = [token for token in tokens if token not in stopword_list]\n",
        "    else:\n",
        "        filtered_tokens = [token for token in tokens if token.lower() not in stopword_list]\n",
        "    filtered_text = ' '.join(filtered_tokens)\n",
        "    return filtered_text\n",
        "#Apply function on review column\n",
        "data['review']=data['review'].apply(remove_stopwords)"
      ],
      "metadata": {
        "colab": {
          "base_uri": "https://localhost:8080/"
        },
        "id": "w684BylYAgWE",
        "outputId": "6dfb1616-4ce1-41c7-e522-12420cfba627"
      },
      "execution_count": 173,
      "outputs": [
        {
          "output_type": "stream",
          "name": "stdout",
          "text": [
            "{\"shouldn't\", 'more', 'had', 'themselves', 'how', 'if', 'do', \"she's\", 'y', 'yourself', 'o', 'ain', \"weren't\", 'are', 'himself', 'an', 's', 'what', 'has', 'who', 'such', 'any', 'yours', 'now', 'about', 'to', 'again', 'but', 'once', 'don', 'with', 'me', \"you've\", 'against', 'during', \"hadn't\", 'of', 'him', 'didn', \"couldn't\", 'ours', 'then', 'in', 'your', 'she', 'further', 'this', 'by', 'needn', 'which', 'haven', 'just', 'when', 'he', 'or', 'on', \"you'd\", 'each', 'than', 're', 'been', 'doing', 'being', 'here', 'these', 'will', 'not', 'll', 'out', 'ourselves', 'off', 'hers', \"wouldn't\", 'd', 'you', 'there', 'no', \"should've\", 'as', 'am', 'wouldn', \"that'll\", \"isn't\", 'they', 'some', 'did', 'theirs', \"you'll\", 'below', 'before', 'why', 'have', 'most', 'few', 'into', 'should', \"it's\", 'hadn', \"hasn't\", 'we', 'his', \"won't\", 'having', 've', 'mightn', 'that', 'those', 'was', 'between', 'so', 'can', 'a', 'won', 'yourselves', 'its', \"doesn't\", 'shouldn', 'aren', 'my', 't', 'after', 'isn', 'hasn', 'myself', 'is', 'under', 'because', 'very', 'only', 'be', \"don't\", \"mustn't\", 'both', 'until', 'the', 'where', 'own', 'other', \"shan't\", 'above', 'nor', 'does', 'for', 'whom', 'herself', 'were', 'from', 'down', 'it', 'while', 'couldn', 'too', 'shan', 'itself', 'their', 'weren', 'i', 'her', 'm', \"didn't\", \"mightn't\", \"you're\", 'and', 'ma', \"wasn't\", \"haven't\", 'them', 'all', 'through', 'our', 'mustn', 'same', \"aren't\", \"needn't\", 'at', 'up', 'wasn', 'doesn', 'over'}\n"
          ]
        }
      ]
    },
    {
      "cell_type": "markdown",
      "source": [
        "Vérification de l'orthographe de chaque mot"
      ],
      "metadata": {
        "id": "AAplWeMxeTW6"
      }
    },
    {
      "cell_type": "code",
      "source": [
        "#Would be very interesting for easier analysis but takes too long to compute\n",
        "%%script false --no-raise-error\n",
        "#normalized train reviews\n",
        "norm_train_reviews=data.review[:40000]\n",
        "norm_train_reviews[0]\n",
        "#convert dataframe to string\n",
        "norm_train_string=norm_train_reviews.to_string()\n",
        "#Spelling correction using Textblob\n",
        "norm_train_spelling=TextBlob(norm_train_string)\n",
        "norm_train_spelling.correct()\n",
        "#Tokenization using Textblob\n",
        "norm_train_words=norm_train_spelling.words\n",
        "norm_train_words"
      ],
      "metadata": {
        "id": "5cCjYImqAsdE"
      },
      "execution_count": 174,
      "outputs": []
    },
    {
      "cell_type": "code",
      "source": [
        "#Would be very interesting for easier analysis but takes too long to compute\n",
        "%%script false --no-raise-error\n",
        "#Normalized test reviews\n",
        "norm_test_reviews=data.review[40000:]\n",
        "norm_test_reviews[45005]\n",
        "#convert dataframe to string\n",
        "norm_test_string=norm_test_reviews.to_string()\n",
        "#spelling correction using Textblob\n",
        "norm_test_spelling=TextBlob(norm_test_string)\n",
        "print(norm_test_spelling.correct())\n",
        "#Tokenization using Textblob\n",
        "norm_test_words=norm_test_spelling.words\n",
        "norm_test_words"
      ],
      "metadata": {
        "id": "T-KkhAiJAvcz"
      },
      "execution_count": 175,
      "outputs": []
    },
    {
      "cell_type": "markdown",
      "source": [
        "Retour à leur mot racine de chaque mot"
      ],
      "metadata": {
        "id": "rB-2cW9-d9k_"
      }
    },
    {
      "cell_type": "code",
      "source": [
        "#Would be very interesting for easier analysis but takes too long to compute\n",
        "%%script false --no-raise-error\n",
        "#Stemming the text\n",
        "def simple_stemmer(text):\n",
        "    ps=nltk.porter.PorterStemmer()\n",
        "    text= ' '.join([ps.stem(word) for word in text.split()])\n",
        "    return text\n",
        "#Apply function on review column\n",
        "\n",
        "data['review']=data['review'].apply(simple_stemmer)"
      ],
      "metadata": {
        "id": "kPnrsyE5_9qI"
      },
      "execution_count": 176,
      "outputs": []
    },
    {
      "cell_type": "markdown",
      "source": [
        "**Séparation des données en training et testing set**"
      ],
      "metadata": {
        "id": "MZdAfkSgeu5n"
      }
    },
    {
      "cell_type": "code",
      "execution_count": 177,
      "metadata": {
        "colab": {
          "base_uri": "https://localhost:8080/"
        },
        "id": "AB1bwHZK8wRN",
        "outputId": "c9196a47-7276-47bd-e9fe-d246185cdb8d"
      },
      "outputs": [
        {
          "output_type": "stream",
          "name": "stdout",
          "text": [
            "(40000,) (40000,)\n",
            "(10000,) (10000,)\n"
          ]
        }
      ],
      "source": [
        "#split the dataset\n",
        "#train dataset\n",
        "train_reviews=data.review[:40000]\n",
        "train_sentiments=data.sentiment[:40000]\n",
        "#test dataset\n",
        "test_reviews=data.review[40000:]\n",
        "test_sentiments=data.sentiment[40000:]\n",
        "print(train_reviews.shape,train_sentiments.shape)\n",
        "print(test_reviews.shape,test_sentiments.shape)"
      ]
    },
    {
      "cell_type": "markdown",
      "source": [
        "**Computing the model**"
      ],
      "metadata": {
        "id": "A49wcv3ve4D7"
      }
    },
    {
      "cell_type": "code",
      "source": [
        "# Create a tokenizer and fit it on the training data\n",
        "tokenizer = Tokenizer(num_words=10000)\n",
        "tokenizer.fit_on_texts(train_reviews)\n",
        "\n",
        "# Convert the text data to sequences of integers\n",
        "train_sequences = tokenizer.texts_to_sequences(train_reviews)\n",
        "test_sequences = tokenizer.texts_to_sequences(test_reviews)\n",
        "\n",
        "# Pad the sequences to have the same length\n",
        "maxlen = 250\n",
        "train_data = pad_sequences(train_sequences, maxlen=maxlen)\n",
        "test_data = pad_sequences(test_sequences, maxlen=maxlen)\n",
        "\n",
        "# Assuming 'positive' is mapped to 0 and 'negative' is mapped to 1\n",
        "label_mapping = {'positive': 0, 'negative': 1}\n",
        "\n",
        "# Apply the mapping to the train and test sentiments\n",
        "train_sentiments = train_sentiments.map(label_mapping)\n",
        "test_sentiments = test_sentiments.map(label_mapping)\n",
        "\n",
        "# Create the MLP model\n",
        "model = Sequential()\n",
        "model.add(Embedding(10000, 8, input_length=maxlen))\n",
        "model.add(Flatten())\n",
        "model.add(Dense(16, activation='relu'))\n",
        "model.add(Dense(1, activation='sigmoid'))\n",
        "\n",
        "# Compile the model\n",
        "model.compile(optimizer='adam', loss='binary_crossentropy', metrics=['accuracy'])\n",
        "\n",
        "# Train the model\n",
        "history = model.fit(train_data, train_sentiments, epochs=5, batch_size=32, validation_split=0.2)\n",
        "\n",
        "# Evaluate the model on the test set\n",
        "loss, accuracy = model.evaluate(test_data, test_sentiments)\n",
        "print(f'Test Accuracy: {accuracy * 100:.2f}%')"
      ],
      "metadata": {
        "colab": {
          "base_uri": "https://localhost:8080/"
        },
        "id": "uM8SZjePQ4kY",
        "outputId": "80fd878c-f2bb-44b0-bf81-ef3621ad997d"
      },
      "execution_count": 178,
      "outputs": [
        {
          "output_type": "stream",
          "name": "stdout",
          "text": [
            "Epoch 1/5\n",
            "1000/1000 [==============================] - 6s 5ms/step - loss: 0.3763 - accuracy: 0.8150 - val_loss: 0.2770 - val_accuracy: 0.8829\n",
            "Epoch 2/5\n",
            "1000/1000 [==============================] - 9s 9ms/step - loss: 0.1812 - accuracy: 0.9310 - val_loss: 0.2974 - val_accuracy: 0.8817\n",
            "Epoch 3/5\n",
            "1000/1000 [==============================] - 6s 6ms/step - loss: 0.0892 - accuracy: 0.9711 - val_loss: 0.3672 - val_accuracy: 0.8739\n",
            "Epoch 4/5\n",
            "1000/1000 [==============================] - 8s 8ms/step - loss: 0.0324 - accuracy: 0.9926 - val_loss: 0.5055 - val_accuracy: 0.8620\n",
            "Epoch 5/5\n",
            "1000/1000 [==============================] - 6s 6ms/step - loss: 0.0100 - accuracy: 0.9983 - val_loss: 0.5837 - val_accuracy: 0.8616\n",
            "313/313 [==============================] - 1s 3ms/step - loss: 0.5803 - accuracy: 0.8664\n",
            "Test Accuracy: 86.64%\n"
          ]
        }
      ]
    },
    {
      "cell_type": "markdown",
      "source": [
        "**Expérimentation sur la taille du modèle**"
      ],
      "metadata": {
        "id": "vl1EVUJzgyFF"
      }
    },
    {
      "cell_type": "markdown",
      "source": [
        "Fonction de création de modèle"
      ],
      "metadata": {
        "id": "xcVXeDm_g3Yw"
      }
    },
    {
      "cell_type": "code",
      "source": [
        "def create_model(embedding_dim, num_neurons, num_layers):\n",
        "    model = Sequential()\n",
        "    model.add(Embedding(10000, embedding_dim, input_length=maxlen))\n",
        "    model.add(Flatten())\n",
        "\n",
        "    for _ in range(num_layers):\n",
        "        model.add(Dense(num_neurons, activation='relu'))\n",
        "\n",
        "    model.add(Dense(1, activation='sigmoid'))\n",
        "\n",
        "    model.compile(optimizer='adam', loss='binary_crossentropy', metrics=['accuracy'])\n",
        "\n",
        "    return model"
      ],
      "metadata": {
        "id": "1rxXiGvog6N1"
      },
      "execution_count": 179,
      "outputs": []
    },
    {
      "cell_type": "markdown",
      "source": [
        "Test des différents modèles"
      ],
      "metadata": {
        "id": "pqhhKVFEg-Z9"
      }
    },
    {
      "cell_type": "code",
      "source": [
        "embedding_dim = 8\n",
        "num_neurons = [8, 16, 32]  # Experiment with different numbers of neurons\n",
        "num_layers = [1, 2, 3]     # Experiment with different numbers of layers\n",
        "testLoss = []\n",
        "validationLoss = []\n",
        "\n",
        "for neurons in num_neurons:\n",
        "    for layers in num_layers:\n",
        "        model = create_model(embedding_dim, neurons, layers)\n",
        "        history = model.fit(train_data, train_sentiments, epochs=5, batch_size=32, validation_split=0.2, verbose=0)\n",
        "\n",
        "        # Evaluate the model\n",
        "        loss, accuracy = model.evaluate(test_data, test_sentiments)\n",
        "        print(f'Model with {layers} layers and {neurons} neurons - Test Accuracy: {accuracy * 100:.2f}%')\n",
        "\n",
        "        train_loss = history.history['loss'][-1]\n",
        "        validation_loss = history.history['val_loss'][-1]\n",
        "        testLoss.append(train_loss)\n",
        "        validationLoss.append(validation_loss)\n",
        "\n"
      ],
      "metadata": {
        "colab": {
          "base_uri": "https://localhost:8080/"
        },
        "id": "rBUXJBEahFqM",
        "outputId": "a49e5f83-61b0-4c93-a2e9-a7ed5172f8b5"
      },
      "execution_count": 180,
      "outputs": [
        {
          "output_type": "stream",
          "name": "stdout",
          "text": [
            "313/313 [==============================] - 1s 2ms/step - loss: 0.5143 - accuracy: 0.8685\n",
            "Model with 1 layers and 8 neurons - Test Accuracy: 86.85%\n",
            "313/313 [==============================] - 1s 3ms/step - loss: 0.5653 - accuracy: 0.8724\n",
            "Model with 2 layers and 8 neurons - Test Accuracy: 87.24%\n",
            "313/313 [==============================] - 1s 4ms/step - loss: 0.6865 - accuracy: 0.8643\n",
            "Model with 3 layers and 8 neurons - Test Accuracy: 86.43%\n",
            "313/313 [==============================] - 1s 4ms/step - loss: 0.5508 - accuracy: 0.8693\n",
            "Model with 1 layers and 16 neurons - Test Accuracy: 86.93%\n",
            "313/313 [==============================] - 1s 3ms/step - loss: 0.7217 - accuracy: 0.8589\n",
            "Model with 2 layers and 16 neurons - Test Accuracy: 85.89%\n",
            "313/313 [==============================] - 1s 2ms/step - loss: 0.6883 - accuracy: 0.8619\n",
            "Model with 3 layers and 16 neurons - Test Accuracy: 86.19%\n",
            "313/313 [==============================] - 1s 2ms/step - loss: 0.6339 - accuracy: 0.8705\n",
            "Model with 1 layers and 32 neurons - Test Accuracy: 87.05%\n",
            "313/313 [==============================] - 1s 3ms/step - loss: 0.8211 - accuracy: 0.8579\n",
            "Model with 2 layers and 32 neurons - Test Accuracy: 85.79%\n",
            "313/313 [==============================] - 1s 2ms/step - loss: 0.7050 - accuracy: 0.8586\n",
            "Model with 3 layers and 32 neurons - Test Accuracy: 85.86%\n"
          ]
        }
      ]
    },
    {
      "cell_type": "markdown",
      "source": [
        "**Overfitting**"
      ],
      "metadata": {
        "id": "SKt4Z43PnsSf"
      }
    },
    {
      "cell_type": "code",
      "source": [
        "# Plotting\n",
        "\n",
        "X = [\"1L-8N\",\"1L-16N\",\"1L-32N\",\"2L-8N\",\"2L-16N\",\"2L-32N\",\"3L-8N\",\"3L-16N\",\"3L-32N\"]\n",
        "\n",
        "plt.title('Test and Validation Loss')\n",
        "plt.xlabel('Configuration')\n",
        "plt.ylabel('Loss')\n",
        "plt.plot(X, testLoss, label='test loss')\n",
        "plt.plot(X, validationLoss, label='validation loss')\n",
        "plt.legend()\n",
        "plt.show()"
      ],
      "metadata": {
        "colab": {
          "base_uri": "https://localhost:8080/",
          "height": 472
        },
        "id": "byLI-WQZqmzu",
        "outputId": "ec782f56-9e94-4949-d700-49c3aefa8200"
      },
      "execution_count": 183,
      "outputs": [
        {
          "output_type": "display_data",
          "data": {
            "text/plain": [
              "<Figure size 640x480 with 1 Axes>"
            ],
            "image/png": "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\n"
          },
          "metadata": {}
        }
      ]
    }
  ],
  "metadata": {
    "kernelspec": {
      "display_name": "Python 3",
      "language": "python",
      "name": "python3"
    },
    "language_info": {
      "codemirror_mode": {
        "name": "ipython",
        "version": 3
      },
      "file_extension": ".py",
      "mimetype": "text/x-python",
      "name": "python",
      "nbconvert_exporter": "python",
      "pygments_lexer": "ipython3",
      "version": "3.10.11"
    },
    "colab": {
      "provenance": []
    }
=======
 "cells": [
  {
   "cell_type": "code",
   "execution_count": 9,
   "metadata": {},
   "outputs": [
    {
     "name": "stdout",
     "output_type": "stream",
     "text": [
      "2.12.0\n"
     ]
    }
   ],
   "source": [
    "import tensorflow as tf\n",
    "import pandas as pd\n",
    "import nltk\n",
    "from bs4 import BeautifulSoup\n",
    "import re,string,unicodedata\n",
    "import numpy as np\n",
    "from tensorflow.keras.preprocessing.text import Tokenizer\n",
    "from tensorflow.keras.preprocessing.sequence import pad_sequences\n",
    "from tensorflow.keras.models import Sequential\n",
    "from tensorflow.keras.layers import Embedding, LSTM, Dense\n",
    "print ( tf . version . VERSION )\n"
   ]
  },
  {
   "cell_type": "code",
   "execution_count": 10,
   "metadata": {},
   "outputs": [
    {
     "name": "stdout",
     "output_type": "stream",
     "text": [
      "                                                  review sentiment\n",
      "0      One of the other reviewers has mentioned that ...  positive\n",
      "1      A wonderful little production. <br /><br />The...  positive\n",
      "2      I thought this was a wonderful way to spend ti...  positive\n",
      "3      Basically there's a family where a little boy ...  negative\n",
      "4      Petter Mattei's \"Love in the Time of Money\" is...  positive\n",
      "...                                                  ...       ...\n",
      "49995  I thought this movie did a down right good job...  positive\n",
      "49996  Bad plot, bad dialogue, bad acting, idiotic di...  negative\n",
      "49997  I am a Catholic taught in parochial elementary...  negative\n",
      "49998  I'm going to have to disagree with the previou...  negative\n",
      "49999  No one expects the Star Trek movies to be high...  negative\n",
      "\n",
      "[50000 rows x 2 columns]\n"
     ]
    }
   ],
   "source": [
    "data = pd.read_csv('IMDB Dataset.csv')\n",
    "print(data)\n"
   ]
  },
  {
   "cell_type": "code",
   "execution_count": 11,
   "metadata": {},
   "outputs": [
    {
     "data": {
      "text/html": [
       "<div>\n",
       "<style scoped>\n",
       "    .dataframe tbody tr th:only-of-type {\n",
       "        vertical-align: middle;\n",
       "    }\n",
       "\n",
       "    .dataframe tbody tr th {\n",
       "        vertical-align: top;\n",
       "    }\n",
       "\n",
       "    .dataframe thead th {\n",
       "        text-align: right;\n",
       "    }\n",
       "</style>\n",
       "<table border=\"1\" class=\"dataframe\">\n",
       "  <thead>\n",
       "    <tr style=\"text-align: right;\">\n",
       "      <th></th>\n",
       "      <th>review</th>\n",
       "      <th>sentiment</th>\n",
       "    </tr>\n",
       "  </thead>\n",
       "  <tbody>\n",
       "    <tr>\n",
       "      <th>count</th>\n",
       "      <td>50000</td>\n",
       "      <td>50000</td>\n",
       "    </tr>\n",
       "    <tr>\n",
       "      <th>unique</th>\n",
       "      <td>49582</td>\n",
       "      <td>2</td>\n",
       "    </tr>\n",
       "    <tr>\n",
       "      <th>top</th>\n",
       "      <td>Loved today's show!!! It was a variety and not...</td>\n",
       "      <td>positive</td>\n",
       "    </tr>\n",
       "    <tr>\n",
       "      <th>freq</th>\n",
       "      <td>5</td>\n",
       "      <td>25000</td>\n",
       "    </tr>\n",
       "  </tbody>\n",
       "</table>\n",
       "</div>"
      ],
      "text/plain": [
       "                                                   review sentiment\n",
       "count                                               50000     50000\n",
       "unique                                              49582         2\n",
       "top     Loved today's show!!! It was a variety and not...  positive\n",
       "freq                                                    5     25000"
      ]
     },
     "execution_count": 11,
     "metadata": {},
     "output_type": "execute_result"
    }
   ],
   "source": [
    "data.describe()\n"
   ]
  },
  {
   "cell_type": "code",
   "execution_count": 12,
   "metadata": {},
   "outputs": [
    {
     "data": {
      "text/plain": [
       "positive    25000\n",
       "negative    25000\n",
       "Name: sentiment, dtype: int64"
      ]
     },
     "execution_count": 12,
     "metadata": {},
     "output_type": "execute_result"
    }
   ],
   "source": [
    "data['sentiment'].value_counts()\n"
   ]
  },
  {
   "cell_type": "code",
   "execution_count": 13,
   "metadata": {},
   "outputs": [
    {
     "name": "stdout",
     "output_type": "stream",
     "text": [
      "(40000,) (40000,)\n",
      "(10000,) (10000,)\n"
     ]
    }
   ],
   "source": [
    "#split the dataset  \n",
    "#train dataset\n",
    "train_reviews=data.review[:40000]\n",
    "train_sentiments=data.sentiment[:40000]\n",
    "#test dataset\n",
    "test_reviews=data.review[40000:]\n",
    "test_sentiments=data.sentiment[40000:]\n",
    "print(train_reviews.shape,train_sentiments.shape)\n",
    "print(test_reviews.shape,test_sentiments.shape)"
   ]
  },
  {
   "cell_type": "code",
   "execution_count": 14,
   "metadata": {},
   "outputs": [],
   "source": [
    "#Tokenization of text\n",
    "tokenizer=nltk.tokenize.toktok.ToktokTokenizer()\n",
    "#Setting English stopwords\n",
    "stopword_list=nltk.corpus.stopwords.words('english')"
   ]
  },
  {
   "cell_type": "code",
   "execution_count": 15,
   "metadata": {},
   "outputs": [
    {
     "name": "stderr",
     "output_type": "stream",
     "text": [
      "C:\\Users\\arthu\\AppData\\Local\\Temp\\ipykernel_7048\\3553002382.py:3: MarkupResemblesLocatorWarning: The input looks more like a filename than markup. You may want to open this file and pass the filehandle into Beautiful Soup.\n",
      "  soup = BeautifulSoup(text, \"html.parser\")\n"
     ]
    }
   ],
   "source": [
    "#Removing the html strips\n",
    "def strip_html(text):\n",
    "    soup = BeautifulSoup(text, \"html.parser\")\n",
    "    return soup.get_text()\n",
    "\n",
    "#Removing the square brackets\n",
    "def remove_between_square_brackets(text):\n",
    "    return re.sub('\\[[^]]*\\]', '', text)\n",
    "\n",
    "#Removing the noisy text\n",
    "def denoise_text(text):\n",
    "    text = strip_html(text)\n",
    "    text = remove_between_square_brackets(text)\n",
    "    return text\n",
    "#Apply function on review column\n",
    "data['review']=data['review'].apply(denoise_text)\n"
   ]
  },
  {
   "cell_type": "code",
   "execution_count": 24,
   "metadata": {},
   "outputs": [],
   "source": [
    "import tensorflow as tf\n",
    "import pandas as pd\n",
    "import nltk\n",
    "from bs4 import BeautifulSoup\n",
    "import re,string,unicodedata\n",
    "import numpy as np\n",
    "from nltk.corpus import stopwords\n",
    "from nltk.tokenize import word_tokenize\n",
    "from nltk.probability import FreqDist\n",
    "from keras.preprocessing.text import text_to_word_sequence\n",
    "from collections import defaultdict\n",
    "from keras.preprocessing.text import text_to_word_sequence\n",
    "from nltk.corpus import stopwords\n",
    "from nltk.tokenize import word_tokenize\n",
    "from nltk.probability import FreqDist\n",
    "import matplotlib.pyplot as plt\n",
    "\n",
    "\n"
   ]
  },
  {
   "cell_type": "markdown",
   "metadata": {},
   "source": [
    "Exercice 3: "
   ]
  },
  {
   "cell_type": "code",
   "execution_count": 12,
   "metadata": {},
   "outputs": [],
   "source": [
    "import os\n",
    "from collections import defaultdict\n",
    "from keras.preprocessing.text import text_to_word_sequence, Tokenizer\n",
    "\n",
    "def get_info(path: str):\n",
    "    data = list(os.walk(path))[1:]\n",
    "    files = []\n",
    "    for d in data:\n",
    "        folder_name = d[0]\n",
    "        for file in d[2]:\n",
    "            files.append((folder_name.split('/')[-1], os.path.join(folder_name, file)))\n",
    "\n",
    "    d = defaultdict(int)\n",
    "    texts = defaultdict(list)\n",
    "    for (cate, file) in files:\n",
    "        with open(file, 'r') as outfile:\n",
    "            text = outfile.read()\n",
    "            texts[cate].append(text)\n",
    "            words = text_to_word_sequence(text)\n",
    "            for word in words:\n",
    "                d[word] += 1\n",
    "    words = sorted(d.items(), key=lambda x: x[1], reverse=True)\n",
    "    return (texts, words)\n"
   ]
  },
  {
   "cell_type": "code",
   "execution_count": 13,
   "metadata": {},
   "outputs": [],
   "source": [
    "datatest = get_info(\"C:/Users/arthu/OneDrive/Documents/Cours/ESIR3/Gitlab/AI_LEGRAND_MORVAN/ohsumed-first-20000-docs/test\")\n",
    "datatraining = get_info(\"C:/Users/arthu/OneDrive/Documents/Cours/ESIR3/Gitlab/AI_LEGRAND_MORVAN/ohsumed-first-20000-docs/training\")\n",
    "english_stops = set(stopwords.words('english'))"
   ]
  },
  {
   "cell_type": "code",
   "execution_count": 27,
   "metadata": {},
   "outputs": [
    {
     "ename": "LookupError",
     "evalue": "\n**********************************************************************\n  Resource \u001b[93mpunkt\u001b[0m not found.\n  Please use the NLTK Downloader to obtain the resource:\n\n  \u001b[31m>>> import nltk\n  >>> nltk.download('punkt')\n  \u001b[0m\n  For more information see: https://www.nltk.org/data.html\n\n  Attempted to load \u001b[93mtokenizers/punkt/english.pickle\u001b[0m\n\n  Searched in:\n    - 'C:\\\\Users\\\\arthu/nltk_data'\n    - 'C:\\\\Program Files\\\\WindowsApps\\\\PythonSoftwareFoundation.Python.3.10_3.10.3056.0_x64__qbz5n2kfra8p0\\\\nltk_data'\n    - 'C:\\\\Program Files\\\\WindowsApps\\\\PythonSoftwareFoundation.Python.3.10_3.10.3056.0_x64__qbz5n2kfra8p0\\\\share\\\\nltk_data'\n    - 'C:\\\\Program Files\\\\WindowsApps\\\\PythonSoftwareFoundation.Python.3.10_3.10.3056.0_x64__qbz5n2kfra8p0\\\\lib\\\\nltk_data'\n    - 'C:\\\\Users\\\\arthu\\\\AppData\\\\Roaming\\\\nltk_data'\n    - 'C:\\\\nltk_data'\n    - 'D:\\\\nltk_data'\n    - 'E:\\\\nltk_data'\n    - ''\n**********************************************************************\n",
     "output_type": "error",
     "traceback": [
      "\u001b[1;31m---------------------------------------------------------------------------\u001b[0m",
      "\u001b[1;31mLookupError\u001b[0m                               Traceback (most recent call last)",
      "\u001b[1;32mc:\\Users\\arthu\\OneDrive\\Documents\\Cours\\ESIR3\\Gitlab\\AI_LEGRAND_MORVAN\\TP1_2\\TP12.ipynb Cell 12\u001b[0m line \u001b[0;36m4\n\u001b[0;32m     <a href='vscode-notebook-cell:/c%3A/Users/arthu/OneDrive/Documents/Cours/ESIR3/Gitlab/AI_LEGRAND_MORVAN/TP1_2/TP12.ipynb#X21sZmlsZQ%3D%3D?line=42'>43</a>\u001b[0m \u001b[39m# Example usage of the preprocess_text function\u001b[39;00m\n\u001b[0;32m     <a href='vscode-notebook-cell:/c%3A/Users/arthu/OneDrive/Documents/Cours/ESIR3/Gitlab/AI_LEGRAND_MORVAN/TP1_2/TP12.ipynb#X21sZmlsZQ%3D%3D?line=43'>44</a>\u001b[0m example_text \u001b[39m=\u001b[39m \u001b[39m\"\u001b[39m\u001b[39mThis is an example sentence. It includes stop words and punctuation!\u001b[39m\u001b[39m\"\u001b[39m\n\u001b[1;32m---> <a href='vscode-notebook-cell:/c%3A/Users/arthu/OneDrive/Documents/Cours/ESIR3/Gitlab/AI_LEGRAND_MORVAN/TP1_2/TP12.ipynb#X21sZmlsZQ%3D%3D?line=44'>45</a>\u001b[0m preprocessed_text \u001b[39m=\u001b[39m preprocess_text(example_text)\n\u001b[0;32m     <a href='vscode-notebook-cell:/c%3A/Users/arthu/OneDrive/Documents/Cours/ESIR3/Gitlab/AI_LEGRAND_MORVAN/TP1_2/TP12.ipynb#X21sZmlsZQ%3D%3D?line=45'>46</a>\u001b[0m \u001b[39mprint\u001b[39m(\u001b[39m\"\u001b[39m\u001b[39mOriginal Text:\u001b[39m\u001b[39m\"\u001b[39m, example_text)\n\u001b[0;32m     <a href='vscode-notebook-cell:/c%3A/Users/arthu/OneDrive/Documents/Cours/ESIR3/Gitlab/AI_LEGRAND_MORVAN/TP1_2/TP12.ipynb#X21sZmlsZQ%3D%3D?line=46'>47</a>\u001b[0m \u001b[39mprint\u001b[39m(\u001b[39m\"\u001b[39m\u001b[39mPreprocessed Text:\u001b[39m\u001b[39m\"\u001b[39m, preprocessed_text)\n",
      "\u001b[1;32mc:\\Users\\arthu\\OneDrive\\Documents\\Cours\\ESIR3\\Gitlab\\AI_LEGRAND_MORVAN\\TP1_2\\TP12.ipynb Cell 12\u001b[0m line \u001b[0;36m3\n\u001b[0;32m     <a href='vscode-notebook-cell:/c%3A/Users/arthu/OneDrive/Documents/Cours/ESIR3/Gitlab/AI_LEGRAND_MORVAN/TP1_2/TP12.ipynb#X21sZmlsZQ%3D%3D?line=36'>37</a>\u001b[0m \u001b[39mdef\u001b[39;00m \u001b[39mpreprocess_text\u001b[39m(text):\n\u001b[0;32m     <a href='vscode-notebook-cell:/c%3A/Users/arthu/OneDrive/Documents/Cours/ESIR3/Gitlab/AI_LEGRAND_MORVAN/TP1_2/TP12.ipynb#X21sZmlsZQ%3D%3D?line=37'>38</a>\u001b[0m     stop_words \u001b[39m=\u001b[39m \u001b[39mset\u001b[39m(stopwords\u001b[39m.\u001b[39mwords(\u001b[39m'\u001b[39m\u001b[39menglish\u001b[39m\u001b[39m'\u001b[39m))\n\u001b[1;32m---> <a href='vscode-notebook-cell:/c%3A/Users/arthu/OneDrive/Documents/Cours/ESIR3/Gitlab/AI_LEGRAND_MORVAN/TP1_2/TP12.ipynb#X21sZmlsZQ%3D%3D?line=38'>39</a>\u001b[0m     words \u001b[39m=\u001b[39m word_tokenize(text)\n\u001b[0;32m     <a href='vscode-notebook-cell:/c%3A/Users/arthu/OneDrive/Documents/Cours/ESIR3/Gitlab/AI_LEGRAND_MORVAN/TP1_2/TP12.ipynb#X21sZmlsZQ%3D%3D?line=39'>40</a>\u001b[0m     filtered_words \u001b[39m=\u001b[39m [word\u001b[39m.\u001b[39mlower() \u001b[39mfor\u001b[39;00m word \u001b[39min\u001b[39;00m words \u001b[39mif\u001b[39;00m word\u001b[39m.\u001b[39misalpha() \u001b[39mand\u001b[39;00m word\u001b[39m.\u001b[39mlower() \u001b[39mnot\u001b[39;00m \u001b[39min\u001b[39;00m stop_words]\n\u001b[0;32m     <a href='vscode-notebook-cell:/c%3A/Users/arthu/OneDrive/Documents/Cours/ESIR3/Gitlab/AI_LEGRAND_MORVAN/TP1_2/TP12.ipynb#X21sZmlsZQ%3D%3D?line=40'>41</a>\u001b[0m     \u001b[39mreturn\u001b[39;00m filtered_words\n",
      "File \u001b[1;32m~\\AppData\\Local\\Packages\\PythonSoftwareFoundation.Python.3.10_qbz5n2kfra8p0\\LocalCache\\local-packages\\Python310\\site-packages\\nltk\\tokenize\\__init__.py:129\u001b[0m, in \u001b[0;36mword_tokenize\u001b[1;34m(text, language, preserve_line)\u001b[0m\n\u001b[0;32m    114\u001b[0m \u001b[39mdef\u001b[39;00m \u001b[39mword_tokenize\u001b[39m(text, language\u001b[39m=\u001b[39m\u001b[39m\"\u001b[39m\u001b[39menglish\u001b[39m\u001b[39m\"\u001b[39m, preserve_line\u001b[39m=\u001b[39m\u001b[39mFalse\u001b[39;00m):\n\u001b[0;32m    115\u001b[0m \u001b[39m    \u001b[39m\u001b[39m\"\"\"\u001b[39;00m\n\u001b[0;32m    116\u001b[0m \u001b[39m    Return a tokenized copy of *text*,\u001b[39;00m\n\u001b[0;32m    117\u001b[0m \u001b[39m    using NLTK's recommended word tokenizer\u001b[39;00m\n\u001b[1;32m   (...)\u001b[0m\n\u001b[0;32m    127\u001b[0m \u001b[39m    :type preserve_line: bool\u001b[39;00m\n\u001b[0;32m    128\u001b[0m \u001b[39m    \"\"\"\u001b[39;00m\n\u001b[1;32m--> 129\u001b[0m     sentences \u001b[39m=\u001b[39m [text] \u001b[39mif\u001b[39;00m preserve_line \u001b[39melse\u001b[39;00m sent_tokenize(text, language)\n\u001b[0;32m    130\u001b[0m     \u001b[39mreturn\u001b[39;00m [\n\u001b[0;32m    131\u001b[0m         token \u001b[39mfor\u001b[39;00m sent \u001b[39min\u001b[39;00m sentences \u001b[39mfor\u001b[39;00m token \u001b[39min\u001b[39;00m _treebank_word_tokenizer\u001b[39m.\u001b[39mtokenize(sent)\n\u001b[0;32m    132\u001b[0m     ]\n",
      "File \u001b[1;32m~\\AppData\\Local\\Packages\\PythonSoftwareFoundation.Python.3.10_qbz5n2kfra8p0\\LocalCache\\local-packages\\Python310\\site-packages\\nltk\\tokenize\\__init__.py:106\u001b[0m, in \u001b[0;36msent_tokenize\u001b[1;34m(text, language)\u001b[0m\n\u001b[0;32m     96\u001b[0m \u001b[39mdef\u001b[39;00m \u001b[39msent_tokenize\u001b[39m(text, language\u001b[39m=\u001b[39m\u001b[39m\"\u001b[39m\u001b[39menglish\u001b[39m\u001b[39m\"\u001b[39m):\n\u001b[0;32m     97\u001b[0m \u001b[39m    \u001b[39m\u001b[39m\"\"\"\u001b[39;00m\n\u001b[0;32m     98\u001b[0m \u001b[39m    Return a sentence-tokenized copy of *text*,\u001b[39;00m\n\u001b[0;32m     99\u001b[0m \u001b[39m    using NLTK's recommended sentence tokenizer\u001b[39;00m\n\u001b[1;32m   (...)\u001b[0m\n\u001b[0;32m    104\u001b[0m \u001b[39m    :param language: the model name in the Punkt corpus\u001b[39;00m\n\u001b[0;32m    105\u001b[0m \u001b[39m    \"\"\"\u001b[39;00m\n\u001b[1;32m--> 106\u001b[0m     tokenizer \u001b[39m=\u001b[39m load(\u001b[39mf\u001b[39;49m\u001b[39m\"\u001b[39;49m\u001b[39mtokenizers/punkt/\u001b[39;49m\u001b[39m{\u001b[39;49;00mlanguage\u001b[39m}\u001b[39;49;00m\u001b[39m.pickle\u001b[39;49m\u001b[39m\"\u001b[39;49m)\n\u001b[0;32m    107\u001b[0m     \u001b[39mreturn\u001b[39;00m tokenizer\u001b[39m.\u001b[39mtokenize(text)\n",
      "File \u001b[1;32m~\\AppData\\Local\\Packages\\PythonSoftwareFoundation.Python.3.10_qbz5n2kfra8p0\\LocalCache\\local-packages\\Python310\\site-packages\\nltk\\data.py:750\u001b[0m, in \u001b[0;36mload\u001b[1;34m(resource_url, format, cache, verbose, logic_parser, fstruct_reader, encoding)\u001b[0m\n\u001b[0;32m    747\u001b[0m     \u001b[39mprint\u001b[39m(\u001b[39mf\u001b[39m\u001b[39m\"\u001b[39m\u001b[39m<<Loading \u001b[39m\u001b[39m{\u001b[39;00mresource_url\u001b[39m}\u001b[39;00m\u001b[39m>>\u001b[39m\u001b[39m\"\u001b[39m)\n\u001b[0;32m    749\u001b[0m \u001b[39m# Load the resource.\u001b[39;00m\n\u001b[1;32m--> 750\u001b[0m opened_resource \u001b[39m=\u001b[39m _open(resource_url)\n\u001b[0;32m    752\u001b[0m \u001b[39mif\u001b[39;00m \u001b[39mformat\u001b[39m \u001b[39m==\u001b[39m \u001b[39m\"\u001b[39m\u001b[39mraw\u001b[39m\u001b[39m\"\u001b[39m:\n\u001b[0;32m    753\u001b[0m     resource_val \u001b[39m=\u001b[39m opened_resource\u001b[39m.\u001b[39mread()\n",
      "File \u001b[1;32m~\\AppData\\Local\\Packages\\PythonSoftwareFoundation.Python.3.10_qbz5n2kfra8p0\\LocalCache\\local-packages\\Python310\\site-packages\\nltk\\data.py:876\u001b[0m, in \u001b[0;36m_open\u001b[1;34m(resource_url)\u001b[0m\n\u001b[0;32m    873\u001b[0m protocol, path_ \u001b[39m=\u001b[39m split_resource_url(resource_url)\n\u001b[0;32m    875\u001b[0m \u001b[39mif\u001b[39;00m protocol \u001b[39mis\u001b[39;00m \u001b[39mNone\u001b[39;00m \u001b[39mor\u001b[39;00m protocol\u001b[39m.\u001b[39mlower() \u001b[39m==\u001b[39m \u001b[39m\"\u001b[39m\u001b[39mnltk\u001b[39m\u001b[39m\"\u001b[39m:\n\u001b[1;32m--> 876\u001b[0m     \u001b[39mreturn\u001b[39;00m find(path_, path \u001b[39m+\u001b[39;49m [\u001b[39m\"\u001b[39;49m\u001b[39m\"\u001b[39;49m])\u001b[39m.\u001b[39mopen()\n\u001b[0;32m    877\u001b[0m \u001b[39melif\u001b[39;00m protocol\u001b[39m.\u001b[39mlower() \u001b[39m==\u001b[39m \u001b[39m\"\u001b[39m\u001b[39mfile\u001b[39m\u001b[39m\"\u001b[39m:\n\u001b[0;32m    878\u001b[0m     \u001b[39m# urllib might not use mode='rb', so handle this one ourselves:\u001b[39;00m\n\u001b[0;32m    879\u001b[0m     \u001b[39mreturn\u001b[39;00m find(path_, [\u001b[39m\"\u001b[39m\u001b[39m\"\u001b[39m])\u001b[39m.\u001b[39mopen()\n",
      "File \u001b[1;32m~\\AppData\\Local\\Packages\\PythonSoftwareFoundation.Python.3.10_qbz5n2kfra8p0\\LocalCache\\local-packages\\Python310\\site-packages\\nltk\\data.py:583\u001b[0m, in \u001b[0;36mfind\u001b[1;34m(resource_name, paths)\u001b[0m\n\u001b[0;32m    581\u001b[0m sep \u001b[39m=\u001b[39m \u001b[39m\"\u001b[39m\u001b[39m*\u001b[39m\u001b[39m\"\u001b[39m \u001b[39m*\u001b[39m \u001b[39m70\u001b[39m\n\u001b[0;32m    582\u001b[0m resource_not_found \u001b[39m=\u001b[39m \u001b[39mf\u001b[39m\u001b[39m\"\u001b[39m\u001b[39m\\n\u001b[39;00m\u001b[39m{\u001b[39;00msep\u001b[39m}\u001b[39;00m\u001b[39m\\n\u001b[39;00m\u001b[39m{\u001b[39;00mmsg\u001b[39m}\u001b[39;00m\u001b[39m\\n\u001b[39;00m\u001b[39m{\u001b[39;00msep\u001b[39m}\u001b[39;00m\u001b[39m\\n\u001b[39;00m\u001b[39m\"\u001b[39m\n\u001b[1;32m--> 583\u001b[0m \u001b[39mraise\u001b[39;00m \u001b[39mLookupError\u001b[39;00m(resource_not_found)\n",
      "\u001b[1;31mLookupError\u001b[0m: \n**********************************************************************\n  Resource \u001b[93mpunkt\u001b[0m not found.\n  Please use the NLTK Downloader to obtain the resource:\n\n  \u001b[31m>>> import nltk\n  >>> nltk.download('punkt')\n  \u001b[0m\n  For more information see: https://www.nltk.org/data.html\n\n  Attempted to load \u001b[93mtokenizers/punkt/english.pickle\u001b[0m\n\n  Searched in:\n    - 'C:\\\\Users\\\\arthu/nltk_data'\n    - 'C:\\\\Program Files\\\\WindowsApps\\\\PythonSoftwareFoundation.Python.3.10_3.10.3056.0_x64__qbz5n2kfra8p0\\\\nltk_data'\n    - 'C:\\\\Program Files\\\\WindowsApps\\\\PythonSoftwareFoundation.Python.3.10_3.10.3056.0_x64__qbz5n2kfra8p0\\\\share\\\\nltk_data'\n    - 'C:\\\\Program Files\\\\WindowsApps\\\\PythonSoftwareFoundation.Python.3.10_3.10.3056.0_x64__qbz5n2kfra8p0\\\\lib\\\\nltk_data'\n    - 'C:\\\\Users\\\\arthu\\\\AppData\\\\Roaming\\\\nltk_data'\n    - 'C:\\\\nltk_data'\n    - 'D:\\\\nltk_data'\n    - 'E:\\\\nltk_data'\n    - ''\n**********************************************************************\n"
     ]
    }
   ],
   "source": [
    "import os\n",
    "from collections import defaultdict\n",
    "from keras.preprocessing.text import text_to_word_sequence\n",
    "from nltk.corpus import stopwords\n",
    "from nltk.tokenize import word_tokenize\n",
    "from nltk.probability import FreqDist\n",
    "import matplotlib.pyplot as plt\n",
    "\n",
    "def get_info(path: str):\n",
    "    data = list(os.walk(path))[1:]\n",
    "    files = []\n",
    "    for d in data:\n",
    "        folder_name = d[0]\n",
    "        for file in d[2]:\n",
    "            files.append((folder_name.split('/')[-1], os.path.join(folder_name, file)))\n",
    "\n",
    "    d = defaultdict(int)\n",
    "    texts = defaultdict(list)\n",
    "    for (cate, file) in files:\n",
    "        with open(file, 'r') as outfile:\n",
    "            text = outfile.read()\n",
    "            texts[cate].append(text)\n",
    "            words = text_to_word_sequence(text)\n",
    "            for word in words:\n",
    "                d[word] += 1\n",
    "    words = sorted(d.items(), key=lambda x: x[1], reverse=True)\n",
    "    return (texts, words)\n",
    "\n",
    "# Get data for training and testing sets\n",
    "datatest = get_info(\"C:/Users/arthu/OneDrive/Documents/Cours/ESIR3/Gitlab/AI_LEGRAND_MORVAN/ohsumed-first-20000-docs/test\")\n",
    "datatraining = get_info(\"C:/Users/arthu/OneDrive/Documents/Cours/ESIR3/Gitlab/AI_LEGRAND_MORVAN/ohsumed-first-20000-docs/training\")\n",
    "\n",
    "# Additional imports\n",
    "from nltk.corpus import stopwords\n",
    "\n",
    "# Function to remove stopwords and punctuation\n",
    "def preprocess_text(text):\n",
    "    stop_words = set(stopwords.words('english'))\n",
    "    words = word_tokenize(text)\n",
    "    filtered_words = [word.lower() for word in words if word.isalpha() and word.lower() not in stop_words]\n",
    "    return filtered_words\n",
    "\n",
    "# Explore the data and compute basic statistics\n",
    "def explore_data(data):\n",
    "    categories = list(data[0].keys())\n",
    "\n",
    "    for category in categories:\n",
    "        print(f\"\\nCategory: {category}\")\n",
    "        category_texts = data[0][category]\n",
    "\n",
    "        # Number of examples per category\n",
    "        num_examples = len(category_texts)\n",
    "        print(f\"Number of Examples: {num_examples}\")\n",
    "\n",
    "        # Vocabulary size per category\n",
    "        category_words = [preprocess_text(text) for text in category_texts]\n",
    "        flat_category_words = [word for sublist in category_words for word in sublist]\n",
    "        category_vocab_size = len(set(flat_category_words))\n",
    "        print(f\"Vocabulary Size: {category_vocab_size}\")\n",
    "\n",
    "        # Word frequency per category\n",
    "        category_word_freq = FreqDist(flat_category_words)\n",
    "        common_words = category_word_freq.most_common(10)\n",
    "        least_common_words = category_word_freq.most_common()[:-10-1:-1]\n",
    "\n",
    "        print(\"Common Words:\", common_words)\n",
    "        print(\"Least Common Words:\", least_common_words)\n",
    "\n",
    "# Explore training and testing data\n",
    "explore_data(datatraining)\n",
    "explore_data(datatest)\n"
   ]
  }
 ],
 "metadata": {
  "kernelspec": {
   "display_name": "Python 3",
   "language": "python",
   "name": "python3"
>>>>>>> 2b038cf285fb954e2feeb7838364ec0f08684bfa
  },
  "nbformat": 4,
  "nbformat_minor": 0
}